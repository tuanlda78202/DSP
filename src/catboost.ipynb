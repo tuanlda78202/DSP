{
 "cells": [
  {
   "cell_type": "code",
   "execution_count": null,
   "metadata": {},
   "outputs": [],
   "source": [
    "from sklearn.model_selection import train_test_split\n",
    "from catboost import CatBoostRegressor, Pool\n",
    "\n",
    "def catboost_drop_features(features):\n",
    "    # id and label (not features)\n",
    "    unused_feature_list = ['price']\n",
    "\n",
    "    # Hurts performance\n",
    "    unused_feature_list += ['lat', 'long']\n",
    "\n",
    "    return features.drop(unused_feature_list, axis=1, errors='ignore')\n",
    "\n",
    "# Drop useless feature\n",
    "catboost_features = catboost_drop_features(df)\n",
    "print(\"Number of features for CatBoost: {}\".format(len(catboost_features.columns)))\n",
    "catboost_features.head()"
   ]
  },
  {
   "cell_type": "code",
   "execution_count": null,
   "metadata": {},
   "outputs": [],
   "source": [
    "# Specify feature names and categorical features for CatBoost\n",
    "feature_names = [s for s in catboost_features.columns]\n",
    "categorical_features = ['status', 'add_attr', 'state', 'year', 'fireplace', 'parking', \"subtype\", 'sewer', 'water', 'app', 'heating',\n",
    "       'cooling', 'materials', 'roof', 'foundation', 'interior']\n",
    "\n",
    "categorical_indices = []\n",
    "for index, name_col in enumerate(catboost_features.columns):\n",
    "    if name_col in categorical_features:\n",
    "        categorical_indices.append(index)\n",
    "categorical_indices"
   ]
  },
  {
   "cell_type": "code",
   "execution_count": null,
   "metadata": {},
   "outputs": [],
   "source": [
    "# Prepare training and cross-validation data\n",
    "# Label Catboost: Log error\n",
    "catboost_label = df.price.astype(np.float32)\n",
    "\n",
    "# Transform to Numpy matrices\n",
    "catboost_X = catboost_features\n",
    "catboost_y = pd.DataFrame(catboost_label)\n",
    "\n",
    "# Perform shuffled train/test split\n",
    "np.random.seed(42)\n",
    "random.seed(10)\n",
    "X_train, X_val, y_train, y_val = train_test_split(catboost_X, catboost_y, test_size=0.1)\n",
    "\n",
    "# Remove outlier examples from X_train and y_train\n",
    "# Keep them in X_val and y_val for proper cross-validation\n",
    "#outlier_threshold = 0.4\n",
    "#mask = (abs(y_train) <= outlier_threshold)\n",
    "#X_train = X_train.loc[mask]\n",
    "#y_train = y_train[mask]\n",
    "\n",
    "print(\"X_train shape: {}\".format(X_train.shape))\n",
    "print(\"y_train shape: {}\\n\".format(y_train.shape))\n",
    "print(\"X_val shape: {}\".format(X_val.shape))\n",
    "print(\"y_val shape: {}\".format(y_val.shape))"
   ]
  },
  {
   "cell_type": "code",
   "execution_count": null,
   "metadata": {},
   "outputs": [],
   "source": [
    "# CatBoost parameters (Fine-tuning)\n",
    "params = {}\n",
    "params['loss_function'] = 'RMSE'\n",
    "params['eval_metric'] = 'RMSE'\n",
    "params['nan_mode'] = 'Min'              # Method to handle NaN (set NaN to either Min or Max)\n",
    "params['random_seed'] = 42\n",
    "\n",
    "params['iterations'] = 1000             # default 1000, use early stopping during training\n",
    "params['learning_rate'] = 0.015         # default 0.03\n",
    "\n",
    "params['border_count'] = 254            # default 254 (alias max_bin, suggested to keep at default for best quality)\n",
    "\n",
    "params['max_depth'] = 6                 # default 6 (must be <= 16, 6 to 10 is recommended)\n",
    "params['random_strength'] = 1           # default 1 (used during splitting to deal with over fitting, try different values)\n",
    "params['l2_leaf_reg'] = 5               # default 3 (used for leaf value calculation, try different values)\n",
    "params['bagging_temperature'] = 1       # default 1 (higher value -> more aggressive bagging, try different values)"
   ]
  },
  {
   "cell_type": "code",
   "execution_count": null,
   "metadata": {},
   "outputs": [],
   "source": [
    "# Train CatBoost Regressor with cross-validated early-stopping\n",
    "val_pool = Pool(X_val, y_val, cat_features = categorical_indices)\n",
    "\n",
    "# Training with seed random\n",
    "np.random.seed(42)\n",
    "random.seed(36)\n",
    "model = CatBoostRegressor(**params)\n",
    "\n",
    "# Training\n",
    "model.fit(X_train, y_train,\n",
    "          cat_features=categorical_indices,\n",
    "          use_best_model=True, eval_set=val_pool, early_stopping_rounds=50, verbose=False)\n",
    "\n",
    "# Evaluate model performance\n",
    "print(\"Train score: {}\".format(abs(model.predict(X_train).reshape(-1,1) - y_train).mean()))\n",
    "print(\"Val score: {}\".format(abs(model.predict(X_val).reshape(-1,1) - y_val).mean()))"
   ]
  },
  {
   "cell_type": "code",
   "execution_count": null,
   "metadata": {},
   "outputs": [],
   "source": [
    "# CatBoost feature importance\n",
    "feature_importance = [(feature_names[i], value) for i, value in enumerate(model.get_feature_importance())]\n",
    "feature_importance.sort(key=lambda x: x[1], reverse=True)\n",
    "for k, v in feature_importance[:10]:\n",
    "    print(\"{}: {}\".format(k, v))"
   ]
  },
  {
   "cell_type": "code",
   "execution_count": null,
   "metadata": {},
   "outputs": [],
   "source": [
    "# Ensemble x20\n",
    "bags = 20\n",
    "models = []\n",
    "params['iterations'] = 2500\n",
    "for i in range(bags):\n",
    "    print(\"Start training model {}\".format(i))\n",
    "    params['random_seed'] = i\n",
    "    np.random.seed(42)\n",
    "    random.seed(36)\n",
    "    model = CatBoostRegressor(**params)\n",
    "    model.fit(X_train, y_train, cat_features=categorical_indices, verbose=False)\n",
    "    models.append(model)\n",
    "\n",
    "# Sanity check (make sure scores on a small portion of the dataset are reasonable)\n",
    "for i, model in enumerate(models):\n",
    "    print(\"model {}: {}\".format(i, abs(model.predict(X_val).reshape(-1,1) - y_val).mean()))"
   ]
  },
  {
   "cell_type": "code",
   "execution_count": null,
   "metadata": {},
   "outputs": [],
   "source": [
    "result = pd.DataFrame(abs(model.predict(X_val).reshape(-1,1) - y_val).astype(int))\n",
    "result.head(10)"
   ]
  },
  {
   "cell_type": "code",
   "execution_count": null,
   "metadata": {},
   "outputs": [],
   "source": [
    "result.describe()"
   ]
  },
  {
   "cell_type": "code",
   "execution_count": null,
   "metadata": {},
   "outputs": [],
   "source": [
    "\"\"\"\n",
    "    Helper method that makes predictions on the test set and exports results to csv file\n",
    "    'models' is a list of models for ensemble prediction (len=1 means using just a single model)\n",
    "\"\"\"\n",
    "def predict_and_export(models, features, file_name):\n",
    "    # Construct DataFrame for prediction results\n",
    "    catboost = pd.DataFrame()\n",
    "\n",
    "    catboost['Index'] = features.index\n",
    "    \n",
    "    test_features = catboost_drop_features(features)\n",
    "    \n",
    "    pred = []\n",
    "    for i, model in enumerate(models):\n",
    "        print(\"Start model {}\".format(i))\n",
    "        pred.append(model.predict(test_features))\n",
    "    \n",
    "    # Take average across all models\n",
    "    mean_pred = np.mean(pred, axis=0)\n",
    "    \n",
    "    catboost['price'] = [float(format(x, '.4f')) for x in mean_pred]    \n",
    "    \n",
    "    print(\"Length of submission DataFrame: {}\".format(len(catboost)))\n",
    "    print(\"Submission header:\")\n",
    "    print(catboost.head())\n",
    "    catboost.to_csv(file_name, index=False)\n",
    "    return catboost, pred  # Return the results so that we can analyze or sanity check it"
   ]
  },
  {
   "cell_type": "code",
   "execution_count": null,
   "metadata": {},
   "outputs": [],
   "source": [
    "file_name = \"/Users/charles/Desktop/DSAI/6_DataScience/project/DSP/20221/data/final_catboost_ensemble_x20-2500.csv\"\n",
    "catboost, pred = predict_and_export(models, X_val, file_name)\n",
    "catboost.head()"
   ]
  }
 ],
 "metadata": {
  "kernelspec": {
   "display_name": "Python 3",
   "language": "python",
   "name": "python3"
  },
  "language_info": {
   "name": "python",
   "version": "3.9.6"
  },
  "orig_nbformat": 4,
  "vscode": {
   "interpreter": {
    "hash": "aee8b7b246df8f9039afb4144a1f6fd8d2ca17a180786b69acc140d282b71a49"
   }
  }
 },
 "nbformat": 4,
 "nbformat_minor": 2
}
