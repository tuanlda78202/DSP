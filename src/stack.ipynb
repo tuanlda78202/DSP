{
 "cells": [
  {
   "cell_type": "code",
   "execution_count": null,
   "metadata": {},
   "outputs": [],
   "source": [
    "lgb_x20 = pd.read_csv('/Users/charles/Desktop/DSAI/6_DataScience/project/DSP/20221/data/final_lgbm_ensemble_x20-2500.csv')\n",
    "catboost_x20 = pd.read_csv('/Users/charles/Desktop/DSAI/6_DataScience/project/DSP/20221/data/final_catboost_ensemble_x20-2500.csv')\n",
    "print(\"Finished Loading the prediction results.\")\n",
    "\n",
    "weight = 0.9\n",
    "stack = pd.DataFrame()\n",
    "stack['Index'] = lgb_x20['Index']\n",
    "col = \"price\"\n",
    "stack[col]= weight * catboost_x20[col] + (1 - weight) * lgb_x20[col]\n",
    "stack[col] = stack[col].astype(\"int32\")\n",
    "stack.rename({'price': 'price_predicted'}, axis =1, inplace=True)\n",
    "predicted = pd.DataFrame(stack[\"price_predicted\"]).copy()\n",
    "predicted.head()\n",
    "\n",
    "y_val = y_val.astype(\"int32\")\n",
    "y_val.rename({'price': 'priceGT'}, axis =1, inplace=True)\n",
    "\n",
    "#stack.to_csv('/Users/charles/Desktop/iFixerup/zr1/submission/final_stack.csv', index=False)"
   ]
  },
  {
   "cell_type": "code",
   "execution_count": null,
   "metadata": {},
   "outputs": [],
   "source": [
    "result = pd.DataFrame(abs(stack[\"price_predicted\"].values.reshape(-1,1) - y_val).astype(int))\n",
    "result.describe()"
   ]
  },
  {
   "cell_type": "code",
   "execution_count": null,
   "metadata": {},
   "outputs": [],
   "source": [
    "sns.displot(result)"
   ]
  },
  {
   "cell_type": "code",
   "execution_count": null,
   "metadata": {},
   "outputs": [],
   "source": [
    "stack.to_csv('/Users/charles/Desktop/DSAI/6_DataScience/project/DSP/20221/data/final_stack.csv', index=False)"
   ]
  }
 ],
 "metadata": {
  "kernelspec": {
   "display_name": "Python 3",
   "language": "python",
   "name": "python3"
  },
  "language_info": {
   "name": "python",
   "version": "3.9.6"
  },
  "orig_nbformat": 4,
  "vscode": {
   "interpreter": {
    "hash": "aee8b7b246df8f9039afb4144a1f6fd8d2ca17a180786b69acc140d282b71a49"
   }
  }
 },
 "nbformat": 4,
 "nbformat_minor": 2
}
