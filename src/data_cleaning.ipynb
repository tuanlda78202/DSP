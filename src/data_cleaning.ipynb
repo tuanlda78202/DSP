{
  "nbformat": 4,
  "nbformat_minor": 0,
  "metadata": {
    "colab": {
      "provenance": [],
      "toc_visible": true
    },
    "kernelspec": {
      "name": "python3",
      "display_name": "Python 3"
    },
    "language_info": {
      "name": "python"
    }
  },
  "cells": [
    {
      "cell_type": "markdown",
      "source": [
        "# DATA CLEANING\n",
        "A notebook to cleaning the crawled data."
      ],
      "metadata": {
        "id": "y_ZvVgRsEEsE"
      }
    },
    {
      "cell_type": "markdown",
      "source": [
        "# 1. Setup"
      ],
      "metadata": {
        "id": "Sg6-o89aEO8E"
      }
    },
    {
      "cell_type": "code",
      "execution_count": 1,
      "metadata": {
        "id": "14UH0LCmKSDK"
      },
      "outputs": [],
      "source": [
        "# Python ≥3.5 is required\n",
        "import sys\n",
        "assert sys.version_info >= (3, 5)\n",
        "\n",
        "# Disable warnings\n",
        "import warnings\n",
        "warnings.filterwarnings('ignore')\n",
        "\n",
        "# Scikit-Learn ≥0.20 is required\n",
        "import sklearn\n",
        "assert sklearn.__version__ >= \"0.20\"\n",
        "\n",
        "# Common imports\n",
        "import pandas as pd\n",
        "import numpy as np\n",
        "import matplotlib as mpl\n",
        "import matplotlib.pyplot as plt\n",
        "mpl.rc('axes', labelsize=14)\n",
        "mpl.rc('xtick', labelsize=12)\n",
        "mpl.rc('ytick', labelsize=12)\n",
        "import seaborn as sns\n",
        "\n",
        "%matplotlib inline"
      ]
    },
    {
      "cell_type": "markdown",
      "source": [
        "# 2. Data Cleaning"
      ],
      "metadata": {
        "id": "ilBXEIqzEXVO"
      }
    },
    {
      "cell_type": "markdown",
      "source": [
        "## 2.1. First quick clean to the raw data"
      ],
      "metadata": {
        "id": "MoLwPc9imCY-"
      }
    },
    {
      "cell_type": "code",
      "source": [
        "# Load the dataset\n",
        "df = pd.read_csv('zillow_all.csv',sep=',',\n",
        "                  error_bad_lines=False,  engine=\"python\")\n",
        "\n",
        "# Load columns from extra file and merge into the dataset\n",
        "extra = pd.read_csv('zillow_extra_all.csv',sep=',',\n",
        "                    error_bad_lines=False,  engine=\"python\")\n",
        "extra_cols = list(extra.columns)\n",
        "df.head()"
      ],
      "metadata": {
        "colab": {
          "base_uri": "https://localhost:8080/",
          "height": 403
        },
        "id": "lIzbqihHLNfk",
        "outputId": "21087736-752d-4d0e-cb07-6dceaa589663"
      },
      "execution_count": 2,
      "outputs": [
        {
          "output_type": "execute_result",
          "data": {
            "text/plain": [
              "   Unnamed: 0  Unnamed: 0.1        zpid          id  providerListingId  \\\n",
              "0           0             0  2078094339  2078094339           11114313   \n",
              "1           1             1    32188223    32188223           11106803   \n",
              "2           2             2    32374140    32374140                  0   \n",
              "3           3             3    32348107    32348107                  0   \n",
              "4           4             4    32067835    32067835            1637509   \n",
              "\n",
              "                                              imgSrc hasImage  \\\n",
              "0  https://photos.zillowstatic.com/fp/0dce2fd07ff...     TRUE   \n",
              "1  https://photos.zillowstatic.com/fp/3bb42d1cf57...     TRUE   \n",
              "2  https://photos.zillowstatic.com/fp/09c653225d2...     TRUE   \n",
              "3  https://photos.zillowstatic.com/fp/5c129bd75b0...     TRUE   \n",
              "4  https://photos.zillowstatic.com/fp/a884e367ff1...     TRUE   \n",
              "\n",
              "                                           detailUrl statusType  \\\n",
              "0  https://www.zillow.com/homedetails/115-30-116t...   FOR_SALE   \n",
              "1  https://www.zillow.com/homedetails/13437-155th...   FOR_SALE   \n",
              "2  https://www.zillow.com/homedetails/1-Pleasant-...   FOR_SALE   \n",
              "3  https://www.zillow.com/homedetails/37-David-St...   FOR_SALE   \n",
              "4  https://www.zillow.com/homedetails/14121-77th-...   FOR_SALE   \n",
              "\n",
              "       statusText  ... PrimaryBathroom Unnamed: 0.1.1.1  UtilityRoom  Gym  \\\n",
              "0  House for sale  ...             NaN              NaN          NaN  NaN   \n",
              "1  House for sale  ...             NaN              NaN          NaN  NaN   \n",
              "2  House for sale  ...             NaN              NaN          NaN  NaN   \n",
              "3  House for sale  ...             NaN              NaN          NaN  NaN   \n",
              "4  House for sale  ...             NaN              NaN          NaN  NaN   \n",
              "\n",
              "  Workshop Bathroom1 Bathroom2  Bathroom3  Bedroom1  GuestRoom  \n",
              "0      NaN       NaN       NaN        NaN       NaN        NaN  \n",
              "1      NaN       NaN       NaN        NaN       NaN        NaN  \n",
              "2      NaN       NaN       NaN        NaN       NaN        NaN  \n",
              "3      NaN       NaN       NaN        NaN       NaN        NaN  \n",
              "4      NaN       NaN       NaN        NaN       NaN        NaN  \n",
              "\n",
              "[5 rows x 230 columns]"
            ],
            "text/html": [
              "\n",
              "  <div id=\"df-87db57a9-1ec5-4131-8114-37c552f4311a\">\n",
              "    <div class=\"colab-df-container\">\n",
              "      <div>\n",
              "<style scoped>\n",
              "    .dataframe tbody tr th:only-of-type {\n",
              "        vertical-align: middle;\n",
              "    }\n",
              "\n",
              "    .dataframe tbody tr th {\n",
              "        vertical-align: top;\n",
              "    }\n",
              "\n",
              "    .dataframe thead th {\n",
              "        text-align: right;\n",
              "    }\n",
              "</style>\n",
              "<table border=\"1\" class=\"dataframe\">\n",
              "  <thead>\n",
              "    <tr style=\"text-align: right;\">\n",
              "      <th></th>\n",
              "      <th>Unnamed: 0</th>\n",
              "      <th>Unnamed: 0.1</th>\n",
              "      <th>zpid</th>\n",
              "      <th>id</th>\n",
              "      <th>providerListingId</th>\n",
              "      <th>imgSrc</th>\n",
              "      <th>hasImage</th>\n",
              "      <th>detailUrl</th>\n",
              "      <th>statusType</th>\n",
              "      <th>statusText</th>\n",
              "      <th>...</th>\n",
              "      <th>PrimaryBathroom</th>\n",
              "      <th>Unnamed: 0.1.1.1</th>\n",
              "      <th>UtilityRoom</th>\n",
              "      <th>Gym</th>\n",
              "      <th>Workshop</th>\n",
              "      <th>Bathroom1</th>\n",
              "      <th>Bathroom2</th>\n",
              "      <th>Bathroom3</th>\n",
              "      <th>Bedroom1</th>\n",
              "      <th>GuestRoom</th>\n",
              "    </tr>\n",
              "  </thead>\n",
              "  <tbody>\n",
              "    <tr>\n",
              "      <th>0</th>\n",
              "      <td>0</td>\n",
              "      <td>0</td>\n",
              "      <td>2078094339</td>\n",
              "      <td>2078094339</td>\n",
              "      <td>11114313</td>\n",
              "      <td>https://photos.zillowstatic.com/fp/0dce2fd07ff...</td>\n",
              "      <td>TRUE</td>\n",
              "      <td>https://www.zillow.com/homedetails/115-30-116t...</td>\n",
              "      <td>FOR_SALE</td>\n",
              "      <td>House for sale</td>\n",
              "      <td>...</td>\n",
              "      <td>NaN</td>\n",
              "      <td>NaN</td>\n",
              "      <td>NaN</td>\n",
              "      <td>NaN</td>\n",
              "      <td>NaN</td>\n",
              "      <td>NaN</td>\n",
              "      <td>NaN</td>\n",
              "      <td>NaN</td>\n",
              "      <td>NaN</td>\n",
              "      <td>NaN</td>\n",
              "    </tr>\n",
              "    <tr>\n",
              "      <th>1</th>\n",
              "      <td>1</td>\n",
              "      <td>1</td>\n",
              "      <td>32188223</td>\n",
              "      <td>32188223</td>\n",
              "      <td>11106803</td>\n",
              "      <td>https://photos.zillowstatic.com/fp/3bb42d1cf57...</td>\n",
              "      <td>TRUE</td>\n",
              "      <td>https://www.zillow.com/homedetails/13437-155th...</td>\n",
              "      <td>FOR_SALE</td>\n",
              "      <td>House for sale</td>\n",
              "      <td>...</td>\n",
              "      <td>NaN</td>\n",
              "      <td>NaN</td>\n",
              "      <td>NaN</td>\n",
              "      <td>NaN</td>\n",
              "      <td>NaN</td>\n",
              "      <td>NaN</td>\n",
              "      <td>NaN</td>\n",
              "      <td>NaN</td>\n",
              "      <td>NaN</td>\n",
              "      <td>NaN</td>\n",
              "    </tr>\n",
              "    <tr>\n",
              "      <th>2</th>\n",
              "      <td>2</td>\n",
              "      <td>2</td>\n",
              "      <td>32374140</td>\n",
              "      <td>32374140</td>\n",
              "      <td>0</td>\n",
              "      <td>https://photos.zillowstatic.com/fp/09c653225d2...</td>\n",
              "      <td>TRUE</td>\n",
              "      <td>https://www.zillow.com/homedetails/1-Pleasant-...</td>\n",
              "      <td>FOR_SALE</td>\n",
              "      <td>House for sale</td>\n",
              "      <td>...</td>\n",
              "      <td>NaN</td>\n",
              "      <td>NaN</td>\n",
              "      <td>NaN</td>\n",
              "      <td>NaN</td>\n",
              "      <td>NaN</td>\n",
              "      <td>NaN</td>\n",
              "      <td>NaN</td>\n",
              "      <td>NaN</td>\n",
              "      <td>NaN</td>\n",
              "      <td>NaN</td>\n",
              "    </tr>\n",
              "    <tr>\n",
              "      <th>3</th>\n",
              "      <td>3</td>\n",
              "      <td>3</td>\n",
              "      <td>32348107</td>\n",
              "      <td>32348107</td>\n",
              "      <td>0</td>\n",
              "      <td>https://photos.zillowstatic.com/fp/5c129bd75b0...</td>\n",
              "      <td>TRUE</td>\n",
              "      <td>https://www.zillow.com/homedetails/37-David-St...</td>\n",
              "      <td>FOR_SALE</td>\n",
              "      <td>House for sale</td>\n",
              "      <td>...</td>\n",
              "      <td>NaN</td>\n",
              "      <td>NaN</td>\n",
              "      <td>NaN</td>\n",
              "      <td>NaN</td>\n",
              "      <td>NaN</td>\n",
              "      <td>NaN</td>\n",
              "      <td>NaN</td>\n",
              "      <td>NaN</td>\n",
              "      <td>NaN</td>\n",
              "      <td>NaN</td>\n",
              "    </tr>\n",
              "    <tr>\n",
              "      <th>4</th>\n",
              "      <td>4</td>\n",
              "      <td>4</td>\n",
              "      <td>32067835</td>\n",
              "      <td>32067835</td>\n",
              "      <td>1637509</td>\n",
              "      <td>https://photos.zillowstatic.com/fp/a884e367ff1...</td>\n",
              "      <td>TRUE</td>\n",
              "      <td>https://www.zillow.com/homedetails/14121-77th-...</td>\n",
              "      <td>FOR_SALE</td>\n",
              "      <td>House for sale</td>\n",
              "      <td>...</td>\n",
              "      <td>NaN</td>\n",
              "      <td>NaN</td>\n",
              "      <td>NaN</td>\n",
              "      <td>NaN</td>\n",
              "      <td>NaN</td>\n",
              "      <td>NaN</td>\n",
              "      <td>NaN</td>\n",
              "      <td>NaN</td>\n",
              "      <td>NaN</td>\n",
              "      <td>NaN</td>\n",
              "    </tr>\n",
              "  </tbody>\n",
              "</table>\n",
              "<p>5 rows × 230 columns</p>\n",
              "</div>\n",
              "      <button class=\"colab-df-convert\" onclick=\"convertToInteractive('df-87db57a9-1ec5-4131-8114-37c552f4311a')\"\n",
              "              title=\"Convert this dataframe to an interactive table.\"\n",
              "              style=\"display:none;\">\n",
              "        \n",
              "  <svg xmlns=\"http://www.w3.org/2000/svg\" height=\"24px\"viewBox=\"0 0 24 24\"\n",
              "       width=\"24px\">\n",
              "    <path d=\"M0 0h24v24H0V0z\" fill=\"none\"/>\n",
              "    <path d=\"M18.56 5.44l.94 2.06.94-2.06 2.06-.94-2.06-.94-.94-2.06-.94 2.06-2.06.94zm-11 1L8.5 8.5l.94-2.06 2.06-.94-2.06-.94L8.5 2.5l-.94 2.06-2.06.94zm10 10l.94 2.06.94-2.06 2.06-.94-2.06-.94-.94-2.06-.94 2.06-2.06.94z\"/><path d=\"M17.41 7.96l-1.37-1.37c-.4-.4-.92-.59-1.43-.59-.52 0-1.04.2-1.43.59L10.3 9.45l-7.72 7.72c-.78.78-.78 2.05 0 2.83L4 21.41c.39.39.9.59 1.41.59.51 0 1.02-.2 1.41-.59l7.78-7.78 2.81-2.81c.8-.78.8-2.07 0-2.86zM5.41 20L4 18.59l7.72-7.72 1.47 1.35L5.41 20z\"/>\n",
              "  </svg>\n",
              "      </button>\n",
              "      \n",
              "  <style>\n",
              "    .colab-df-container {\n",
              "      display:flex;\n",
              "      flex-wrap:wrap;\n",
              "      gap: 12px;\n",
              "    }\n",
              "\n",
              "    .colab-df-convert {\n",
              "      background-color: #E8F0FE;\n",
              "      border: none;\n",
              "      border-radius: 50%;\n",
              "      cursor: pointer;\n",
              "      display: none;\n",
              "      fill: #1967D2;\n",
              "      height: 32px;\n",
              "      padding: 0 0 0 0;\n",
              "      width: 32px;\n",
              "    }\n",
              "\n",
              "    .colab-df-convert:hover {\n",
              "      background-color: #E2EBFA;\n",
              "      box-shadow: 0px 1px 2px rgba(60, 64, 67, 0.3), 0px 1px 3px 1px rgba(60, 64, 67, 0.15);\n",
              "      fill: #174EA6;\n",
              "    }\n",
              "\n",
              "    [theme=dark] .colab-df-convert {\n",
              "      background-color: #3B4455;\n",
              "      fill: #D2E3FC;\n",
              "    }\n",
              "\n",
              "    [theme=dark] .colab-df-convert:hover {\n",
              "      background-color: #434B5C;\n",
              "      box-shadow: 0px 1px 3px 1px rgba(0, 0, 0, 0.15);\n",
              "      filter: drop-shadow(0px 1px 2px rgba(0, 0, 0, 0.3));\n",
              "      fill: #FFFFFF;\n",
              "    }\n",
              "  </style>\n",
              "\n",
              "      <script>\n",
              "        const buttonEl =\n",
              "          document.querySelector('#df-87db57a9-1ec5-4131-8114-37c552f4311a button.colab-df-convert');\n",
              "        buttonEl.style.display =\n",
              "          google.colab.kernel.accessAllowed ? 'block' : 'none';\n",
              "\n",
              "        async function convertToInteractive(key) {\n",
              "          const element = document.querySelector('#df-87db57a9-1ec5-4131-8114-37c552f4311a');\n",
              "          const dataTable =\n",
              "            await google.colab.kernel.invokeFunction('convertToInteractive',\n",
              "                                                     [key], {});\n",
              "          if (!dataTable) return;\n",
              "\n",
              "          const docLinkHtml = 'Like what you see? Visit the ' +\n",
              "            '<a target=\"_blank\" href=https://colab.research.google.com/notebooks/data_table.ipynb>data table notebook</a>'\n",
              "            + ' to learn more about interactive tables.';\n",
              "          element.innerHTML = '';\n",
              "          dataTable['output_type'] = 'display_data';\n",
              "          await google.colab.output.renderOutput(dataTable, element);\n",
              "          const docLink = document.createElement('div');\n",
              "          docLink.innerHTML = docLinkHtml;\n",
              "          element.appendChild(docLink);\n",
              "        }\n",
              "      </script>\n",
              "    </div>\n",
              "  </div>\n",
              "  "
            ]
          },
          "metadata": {},
          "execution_count": 2
        }
      ]
    },
    {
      "cell_type": "markdown",
      "source": [
        "- Length of dataset"
      ],
      "metadata": {
        "id": "B5H6Ub9eeoVS"
      }
    },
    {
      "cell_type": "code",
      "source": [
        "# Length of dataset\n",
        "len(df)"
      ],
      "metadata": {
        "colab": {
          "base_uri": "https://localhost:8080/"
        },
        "id": "20__Me8wVeMq",
        "outputId": "f924de5e-9cd5-4d9c-ddad-e803fdda17f6"
      },
      "execution_count": 3,
      "outputs": [
        {
          "output_type": "execute_result",
          "data": {
            "text/plain": [
              "15383"
            ]
          },
          "metadata": {},
          "execution_count": 3
        }
      ]
    },
    {
      "cell_type": "markdown",
      "source": [
        "- Quick stats of percentage of null values in columns"
      ],
      "metadata": {
        "id": "25dt41ppezlF"
      }
    },
    {
      "cell_type": "code",
      "source": [
        "nan_value = float(\"NaN\")\n",
        "df.replace(\"0\", nan_value, inplace=True)\n",
        "# Quick stats of percentage of null values in columns\n",
        "(df.isnull().sum() / df.isnull().count()).sort_values(ascending=False)"
      ],
      "metadata": {
        "colab": {
          "base_uri": "https://localhost:8080/"
        },
        "id": "hSI792Ri2idR",
        "outputId": "90027418-9a32-4160-e38f-1c566e90b230"
      },
      "execution_count": 4,
      "outputs": [
        {
          "output_type": "execute_result",
          "data": {
            "text/plain": [
              "GuestRoom                                                         0.999935\n",
              "Bathroom3                                                         0.999935\n",
              "Bathroom2                                                         0.999935\n",
              "Bathroom1                                                         0.999935\n",
              "Gym                                                               0.999740\n",
              "                                                                    ...   \n",
              "homeInfo_open_house_info_open_house_showing_3_open_house_start    0.000000\n",
              "homeInfo_open_house_info_open_house_showing_3_open_house_end      0.000000\n",
              "homeInfo_open_house_info_open_house_showing_4_open_house_start    0.000000\n",
              "homeInfo_open_house_info_open_house_showing_4_open_house_end      0.000000\n",
              "homeInfo_open_house_info_open_house_showing_5_open_house_start    0.000000\n",
              "Length: 230, dtype: float64"
            ]
          },
          "metadata": {},
          "execution_count": 4
        }
      ]
    },
    {
      "cell_type": "markdown",
      "source": [
        "There are many columns having high percentage of null values"
      ],
      "metadata": {
        "id": "Ey5C_e-fhKMd"
      }
    },
    {
      "cell_type": "markdown",
      "source": [
        "- Drop columns with over 50 % of null values"
      ],
      "metadata": {
        "id": "QeNOpJ3TfAD7"
      }
    },
    {
      "cell_type": "code",
      "source": [
        "# Drop columns with over 50% of null values\n",
        "thresh = len(df) * .5\n",
        "df.dropna(thresh = thresh, axis = 1, inplace = True)"
      ],
      "metadata": {
        "id": "OGG1JMJsYQ5m"
      },
      "execution_count": 5,
      "outputs": []
    },
    {
      "cell_type": "code",
      "source": [
        "# Same for numeric columns with too many 0 and -1 values (also null values of numeric columns but turned to 0 and -1 by crawling function)\n",
        "drop_cols = []\n",
        "for col in df.columns:\n",
        "    if (len([x for x in df[col] if (x == 0 or x == -1)]) / len(df)) > 0.5:\n",
        "        drop_cols.append(col)\n",
        "\n",
        "df.drop(drop_cols, axis=1, inplace=True)"
      ],
      "metadata": {
        "id": "wak5HGI_HVrU"
      },
      "execution_count": 6,
      "outputs": []
    },
    {
      "cell_type": "markdown",
      "source": [
        "- Drop duplicate columns"
      ],
      "metadata": {
        "id": "zY8Gy8jqfgK0"
      }
    },
    {
      "cell_type": "code",
      "source": [
        "# Drop duplicate columns(same values)\n",
        "drop_cols = []\n",
        "for i in range(len(df.columns)):\n",
        "    for j in range(i+1, len(df.columns)):\n",
        "        if df[df.columns[i]].equals(df[df.columns[j]]):\n",
        "            drop_cols.append(df.columns[j])\n",
        "\n",
        "df.drop(drop_cols, axis=1, inplace=True)\n"
      ],
      "metadata": {
        "id": "lostMgDLik7V"
      },
      "execution_count": 7,
      "outputs": []
    },
    {
      "cell_type": "markdown",
      "source": [
        "- Null percentage after dropping"
      ],
      "metadata": {
        "id": "hGNLc5yBfoj2"
      }
    },
    {
      "cell_type": "code",
      "source": [
        "(df.isnull().sum() / df.isnull().count()).sort_values(ascending=False)"
      ],
      "metadata": {
        "colab": {
          "base_uri": "https://localhost:8080/"
        },
        "id": "3Q0mrE3MIUVr",
        "outputId": "8e68ad0f-fb16-4344-adfa-a7c3cb066dd1"
      },
      "execution_count": 8,
      "outputs": [
        {
          "output_type": "execute_result",
          "data": {
            "text/plain": [
              "Other financial information    0.366378\n",
              "Other facts                    0.321654\n",
              "Flooring                       0.295651\n",
              "brokerName                     0.288045\n",
              "Interior Features              0.284080\n",
              "                                 ...   \n",
              "homeInfo_latitude              0.000000\n",
              "homeInfo_longitude             0.000000\n",
              "Unnamed: 0.1                   0.000000\n",
              "homeInfo_bathrooms             0.000000\n",
              "homeInfo_price                 0.000000\n",
              "Length: 71, dtype: float64"
            ]
          },
          "metadata": {},
          "execution_count": 8
        }
      ]
    },
    {
      "cell_type": "markdown",
      "source": [
        "- Considering all columns"
      ],
      "metadata": {
        "id": "2Ii4_2B0fyiq"
      }
    },
    {
      "cell_type": "code",
      "source": [
        "df.columns"
      ],
      "metadata": {
        "colab": {
          "base_uri": "https://localhost:8080/"
        },
        "id": "6LYXJsXlIvXD",
        "outputId": "1c3a64ed-54fe-4d39-a782-a96cd21f7fcb"
      },
      "execution_count": 9,
      "outputs": [
        {
          "output_type": "execute_result",
          "data": {
            "text/plain": [
              "Index(['Unnamed: 0', 'Unnamed: 0.1', 'zpid', 'imgSrc', 'hasImage', 'detailUrl',\n",
              "       'statusType', 'statusText', 'countryCurrency', 'price',\n",
              "       'unformattedPrice', 'address', 'addressStreet', 'addressCity',\n",
              "       'addressState', 'addressZipcode', 'beds', 'baths', 'area', 'latLong',\n",
              "       'variableData', 'hdpData', 'pgapt', 'sgapt', 'zestimate', 'brokerName',\n",
              "       'hasAdditionalAttributions', 'list', 'homeInfo_zpid',\n",
              "       'homeInfo_streetAddress', 'homeInfo_zipcode', 'homeInfo_city',\n",
              "       'homeInfo_state', 'homeInfo_latitude', 'homeInfo_longitude',\n",
              "       'homeInfo_price', 'homeInfo_bathrooms', 'homeInfo_bedrooms',\n",
              "       'homeInfo_livingArea', 'homeInfo_homeType', 'homeInfo_homeStatus',\n",
              "       'homeInfo_isFeatured', 'homeInfo_rentZestimate',\n",
              "       'homeInfo_listing_sub_type_is_FSBA', 'homeInfo_isNonOwnerOccupied',\n",
              "       'homeInfo_isPremierBuilder', 'homeInfo_currency', 'homeInfo_country',\n",
              "       'homeInfo_lotAreaValue', 'homeInfo_lotAreaUnit', 'homeInfo_zestimate',\n",
              "       'homeInfo_taxAssessedValue', 'Unnamed: 0.2', 'Bedrooms and bathrooms',\n",
              "       'Other interior features', 'Parking', 'Lot',\n",
              "       'Other property information', 'Type and style', 'Condition', 'Utility',\n",
              "       'Location', 'Other facts', 'Flooring', 'Appliances', 'Heating',\n",
              "       'Cooling', 'Property', 'Interior Features', 'Material information',\n",
              "       'Other financial information'],\n",
              "      dtype='object')"
            ]
          },
          "metadata": {},
          "execution_count": 9
        }
      ]
    },
    {
      "cell_type": "markdown",
      "source": [
        "Picking useable columns:\n",
        "- Remove same meaning columns\n",
        "- Pick roughly useful columns (drop image, url... useless information)\n",
        "- Preserve all columns from the extra file to flatten later"
      ],
      "metadata": {
        "id": "d0tQkjl3jPWe"
      }
    },
    {
      "cell_type": "code",
      "source": [
        "# Remove duplicate columns and pick useful columns (quickly)\n",
        "# Preserve all columns from extra file\n",
        "usefull_cols = ['homeInfo_price', 'statusText', 'homeInfo_homeType',\n",
        "                'brokerName', 'hasAdditionalAttributions', 'homeInfo_city',\n",
        "                'homeInfo_state', 'homeInfo_latitude', 'homeInfo_longitude',\n",
        "                'homeInfo_bathrooms', 'homeInfo_bedrooms', 'homeInfo_livingArea',\n",
        "                'homeInfo_lotAreaValue', 'homeInfo_taxAssessedValue',\n",
        "                'Bedrooms and bathrooms', 'Other interior features', 'Parking', \n",
        "                'Lot', 'Other property information', 'Type and style', \n",
        "                'Condition', 'Utility', 'Location', 'Appliances', 'Heating', \n",
        "                'Cooling', 'Property', 'Material information', 'Other facts', \n",
        "                'Flooring', 'Interior Features', 'Other financial information']\n",
        "\n",
        "dff = df[usefull_cols]"
      ],
      "metadata": {
        "id": "U4JaAdi0O3ek"
      },
      "execution_count": 10,
      "outputs": []
    },
    {
      "cell_type": "markdown",
      "source": [
        "- Rename columns for easier handling"
      ],
      "metadata": {
        "id": "Xw-1-2yoj2c3"
      }
    },
    {
      "cell_type": "code",
      "source": [
        "# Rename columns\n",
        "dff.rename(columns={'statusText':'status', 'homeInfo_city':'city', \n",
        "                    'homeInfo_state':'state', 'homeInfo_latitude': 'latitude',\n",
        "                    'homeInfo_longitude': 'longitude', 'homeInfo_price': 'price', \n",
        "                    'homeInfo_bathrooms': 'bathrooms', \n",
        "                    'homeInfo_bedrooms': 'bedrooms', 'brokerName': 'broker_name',\n",
        "                    'homeInfo_livingArea': 'living_area', \n",
        "                    'homeInfo_lotAreaValue':'lot_area', \n",
        "                    'homeInfo_taxAssessedValue':'tax_assessed_value', \n",
        "                    'homeInfo_homeType':'type',\n",
        "                    'hasAdditionalAttributions': 'has_add_attributions',\n",
        "                    },inplace=True)\n",
        "dff.columns"
      ],
      "metadata": {
        "colab": {
          "base_uri": "https://localhost:8080/"
        },
        "id": "1AKcv3k5GAvE",
        "outputId": "5ff92415-5486-4dad-e507-1a89d7643223"
      },
      "execution_count": 11,
      "outputs": [
        {
          "output_type": "execute_result",
          "data": {
            "text/plain": [
              "Index(['price', 'status', 'type', 'broker_name', 'has_add_attributions',\n",
              "       'city', 'state', 'latitude', 'longitude', 'bathrooms', 'bedrooms',\n",
              "       'living_area', 'lot_area', 'tax_assessed_value',\n",
              "       'Bedrooms and bathrooms', 'Other interior features', 'Parking', 'Lot',\n",
              "       'Other property information', 'Type and style', 'Condition', 'Utility',\n",
              "       'Location', 'Appliances', 'Heating', 'Cooling', 'Property',\n",
              "       'Material information', 'Other facts', 'Flooring', 'Interior Features',\n",
              "       'Other financial information'],\n",
              "      dtype='object')"
            ]
          },
          "metadata": {},
          "execution_count": 11
        }
      ]
    },
    {
      "cell_type": "code",
      "source": [
        "# List of listed-value columns\n",
        "extra_cols = ['Bedrooms and bathrooms', 'Other interior features', 'Parking', \n",
        "              'Lot', 'Other property information', 'Type and style', 'Condition', \n",
        "              'Utility', 'Location', 'Appliances', 'Heating', 'Cooling', \n",
        "              'Property', 'Material information', 'Other facts', 'Flooring', \n",
        "              'Interior Features', 'Other financial information']"
      ],
      "metadata": {
        "id": "ND8E4SwZMq6n"
      },
      "execution_count": 12,
      "outputs": []
    },
    {
      "cell_type": "code",
      "source": [
        "len(dff)"
      ],
      "metadata": {
        "colab": {
          "base_uri": "https://localhost:8080/"
        },
        "id": "x0_Z2P_BTpCo",
        "outputId": "93feb93b-2c5f-4d19-964a-663cd8681981"
      },
      "execution_count": 13,
      "outputs": [
        {
          "output_type": "execute_result",
          "data": {
            "text/plain": [
              "15383"
            ]
          },
          "metadata": {},
          "execution_count": 13
        }
      ]
    },
    {
      "cell_type": "code",
      "source": [
        "dff.head()"
      ],
      "metadata": {
        "colab": {
          "base_uri": "https://localhost:8080/",
          "height": 664
        },
        "id": "3gPUTfbcMRBy",
        "outputId": "d4f44aa5-2405-4988-d23e-49a61d06b1df"
      },
      "execution_count": 14,
      "outputs": [
        {
          "output_type": "execute_result",
          "data": {
            "text/plain": [
              "     price          status           type  \\\n",
              "0   274000  House for sale  SINGLE_FAMILY   \n",
              "1   270000  House for sale  SINGLE_FAMILY   \n",
              "2   899000  House for sale  SINGLE_FAMILY   \n",
              "3   599000  House for sale  SINGLE_FAMILY   \n",
              "4  1390000  House for sale  SINGLE_FAMILY   \n",
              "\n",
              "                                  broker_name  has_add_attributions  \\\n",
              "0                      Listing by: SOWAE CORP                  True   \n",
              "1                      Listing by: SOWAE CORP                  True   \n",
              "2  Listing by: Comfort Homes Realty Group Inc                  True   \n",
              "3       Listing by: Tom Crimmins Realty, Ltd.                  True   \n",
              "4              Listing by: Winzone Realty Inc                  True   \n",
              "\n",
              "               city state   latitude  longitude  bathrooms  ...  \\\n",
              "0  South Ozone Park    NY  40.675730 -73.822350          1  ...   \n",
              "1           Jamaica    NY  40.670036 -73.780450          2  ...   \n",
              "2     Staten Island    NY  40.524227 -74.215790          3  ...   \n",
              "3     Staten Island    NY  40.543262 -74.149055          2  ...   \n",
              "4          Flushing    NY  40.721615 -73.820755          4  ...   \n",
              "\n",
              "                       Location  \\\n",
              "0  ['Region: South Ozone Park']   \n",
              "1           ['Region: Jamaica']   \n",
              "2     ['Region: Staten Island']   \n",
              "3                           NaN   \n",
              "4          ['Region: Flushing']   \n",
              "\n",
              "                                          Appliances  \\\n",
              "0                                                NaN   \n",
              "1   ['Appliances included: Microwave, Range / Oven']   \n",
              "2  ['Appliances included: Dishwasher, Dryer, Refr...   \n",
              "3                                                NaN   \n",
              "4             ['Appliances included: Dryer, Washer']   \n",
              "\n",
              "                                        Heating                      Cooling  \\\n",
              "0                                           NaN                          NaN   \n",
              "1                                           NaN                          NaN   \n",
              "2  ['Heating features: Hot Water, Natural Gas']  ['Cooling features: Units']   \n",
              "3                                           NaN                          NaN   \n",
              "4                                           NaN                          NaN   \n",
              "\n",
              "                                           Property Material information  \\\n",
              "0                                               NaN                  NaN   \n",
              "1                                               NaN                  NaN   \n",
              "2  ['Levels: 2.0', 'Stories: 2', 'Waterview: None']                  NaN   \n",
              "3                                               NaN                  NaN   \n",
              "4                                               NaN                  NaN   \n",
              "\n",
              "                                         Other facts  \\\n",
              "0  ['GarageYN: true', 'HeatingYN: true', 'Basemen...   \n",
              "1  ['Flooring: Tile, Hardwood', 'HeatingYN: true'...   \n",
              "2     ['Listing Agreement: Exclusive Right To Sell']   \n",
              "3                                                NaN   \n",
              "4                                                NaN   \n",
              "\n",
              "                       Flooring Interior Features Other financial information  \n",
              "0                           NaN               NaN                         NaN  \n",
              "1  ['Flooring: Tile, Hardwood']               NaN                         NaN  \n",
              "2                           NaN               NaN                         NaN  \n",
              "3                           NaN               NaN                         NaN  \n",
              "4                           NaN               NaN                         NaN  \n",
              "\n",
              "[5 rows x 32 columns]"
            ],
            "text/html": [
              "\n",
              "  <div id=\"df-0ff0ddf6-80e5-4bed-8b11-9cb278572d36\">\n",
              "    <div class=\"colab-df-container\">\n",
              "      <div>\n",
              "<style scoped>\n",
              "    .dataframe tbody tr th:only-of-type {\n",
              "        vertical-align: middle;\n",
              "    }\n",
              "\n",
              "    .dataframe tbody tr th {\n",
              "        vertical-align: top;\n",
              "    }\n",
              "\n",
              "    .dataframe thead th {\n",
              "        text-align: right;\n",
              "    }\n",
              "</style>\n",
              "<table border=\"1\" class=\"dataframe\">\n",
              "  <thead>\n",
              "    <tr style=\"text-align: right;\">\n",
              "      <th></th>\n",
              "      <th>price</th>\n",
              "      <th>status</th>\n",
              "      <th>type</th>\n",
              "      <th>broker_name</th>\n",
              "      <th>has_add_attributions</th>\n",
              "      <th>city</th>\n",
              "      <th>state</th>\n",
              "      <th>latitude</th>\n",
              "      <th>longitude</th>\n",
              "      <th>bathrooms</th>\n",
              "      <th>...</th>\n",
              "      <th>Location</th>\n",
              "      <th>Appliances</th>\n",
              "      <th>Heating</th>\n",
              "      <th>Cooling</th>\n",
              "      <th>Property</th>\n",
              "      <th>Material information</th>\n",
              "      <th>Other facts</th>\n",
              "      <th>Flooring</th>\n",
              "      <th>Interior Features</th>\n",
              "      <th>Other financial information</th>\n",
              "    </tr>\n",
              "  </thead>\n",
              "  <tbody>\n",
              "    <tr>\n",
              "      <th>0</th>\n",
              "      <td>274000</td>\n",
              "      <td>House for sale</td>\n",
              "      <td>SINGLE_FAMILY</td>\n",
              "      <td>Listing by: SOWAE CORP</td>\n",
              "      <td>True</td>\n",
              "      <td>South Ozone Park</td>\n",
              "      <td>NY</td>\n",
              "      <td>40.675730</td>\n",
              "      <td>-73.822350</td>\n",
              "      <td>1</td>\n",
              "      <td>...</td>\n",
              "      <td>['Region: South Ozone Park']</td>\n",
              "      <td>NaN</td>\n",
              "      <td>NaN</td>\n",
              "      <td>NaN</td>\n",
              "      <td>NaN</td>\n",
              "      <td>NaN</td>\n",
              "      <td>['GarageYN: true', 'HeatingYN: true', 'Basemen...</td>\n",
              "      <td>NaN</td>\n",
              "      <td>NaN</td>\n",
              "      <td>NaN</td>\n",
              "    </tr>\n",
              "    <tr>\n",
              "      <th>1</th>\n",
              "      <td>270000</td>\n",
              "      <td>House for sale</td>\n",
              "      <td>SINGLE_FAMILY</td>\n",
              "      <td>Listing by: SOWAE CORP</td>\n",
              "      <td>True</td>\n",
              "      <td>Jamaica</td>\n",
              "      <td>NY</td>\n",
              "      <td>40.670036</td>\n",
              "      <td>-73.780450</td>\n",
              "      <td>2</td>\n",
              "      <td>...</td>\n",
              "      <td>['Region: Jamaica']</td>\n",
              "      <td>['Appliances included: Microwave, Range / Oven']</td>\n",
              "      <td>NaN</td>\n",
              "      <td>NaN</td>\n",
              "      <td>NaN</td>\n",
              "      <td>NaN</td>\n",
              "      <td>['Flooring: Tile, Hardwood', 'HeatingYN: true'...</td>\n",
              "      <td>['Flooring: Tile, Hardwood']</td>\n",
              "      <td>NaN</td>\n",
              "      <td>NaN</td>\n",
              "    </tr>\n",
              "    <tr>\n",
              "      <th>2</th>\n",
              "      <td>899000</td>\n",
              "      <td>House for sale</td>\n",
              "      <td>SINGLE_FAMILY</td>\n",
              "      <td>Listing by: Comfort Homes Realty Group Inc</td>\n",
              "      <td>True</td>\n",
              "      <td>Staten Island</td>\n",
              "      <td>NY</td>\n",
              "      <td>40.524227</td>\n",
              "      <td>-74.215790</td>\n",
              "      <td>3</td>\n",
              "      <td>...</td>\n",
              "      <td>['Region: Staten Island']</td>\n",
              "      <td>['Appliances included: Dishwasher, Dryer, Refr...</td>\n",
              "      <td>['Heating features: Hot Water, Natural Gas']</td>\n",
              "      <td>['Cooling features: Units']</td>\n",
              "      <td>['Levels: 2.0', 'Stories: 2', 'Waterview: None']</td>\n",
              "      <td>NaN</td>\n",
              "      <td>['Listing Agreement: Exclusive Right To Sell']</td>\n",
              "      <td>NaN</td>\n",
              "      <td>NaN</td>\n",
              "      <td>NaN</td>\n",
              "    </tr>\n",
              "    <tr>\n",
              "      <th>3</th>\n",
              "      <td>599000</td>\n",
              "      <td>House for sale</td>\n",
              "      <td>SINGLE_FAMILY</td>\n",
              "      <td>Listing by: Tom Crimmins Realty, Ltd.</td>\n",
              "      <td>True</td>\n",
              "      <td>Staten Island</td>\n",
              "      <td>NY</td>\n",
              "      <td>40.543262</td>\n",
              "      <td>-74.149055</td>\n",
              "      <td>2</td>\n",
              "      <td>...</td>\n",
              "      <td>NaN</td>\n",
              "      <td>NaN</td>\n",
              "      <td>NaN</td>\n",
              "      <td>NaN</td>\n",
              "      <td>NaN</td>\n",
              "      <td>NaN</td>\n",
              "      <td>NaN</td>\n",
              "      <td>NaN</td>\n",
              "      <td>NaN</td>\n",
              "      <td>NaN</td>\n",
              "    </tr>\n",
              "    <tr>\n",
              "      <th>4</th>\n",
              "      <td>1390000</td>\n",
              "      <td>House for sale</td>\n",
              "      <td>SINGLE_FAMILY</td>\n",
              "      <td>Listing by: Winzone Realty Inc</td>\n",
              "      <td>True</td>\n",
              "      <td>Flushing</td>\n",
              "      <td>NY</td>\n",
              "      <td>40.721615</td>\n",
              "      <td>-73.820755</td>\n",
              "      <td>4</td>\n",
              "      <td>...</td>\n",
              "      <td>['Region: Flushing']</td>\n",
              "      <td>['Appliances included: Dryer, Washer']</td>\n",
              "      <td>NaN</td>\n",
              "      <td>NaN</td>\n",
              "      <td>NaN</td>\n",
              "      <td>NaN</td>\n",
              "      <td>NaN</td>\n",
              "      <td>NaN</td>\n",
              "      <td>NaN</td>\n",
              "      <td>NaN</td>\n",
              "    </tr>\n",
              "  </tbody>\n",
              "</table>\n",
              "<p>5 rows × 32 columns</p>\n",
              "</div>\n",
              "      <button class=\"colab-df-convert\" onclick=\"convertToInteractive('df-0ff0ddf6-80e5-4bed-8b11-9cb278572d36')\"\n",
              "              title=\"Convert this dataframe to an interactive table.\"\n",
              "              style=\"display:none;\">\n",
              "        \n",
              "  <svg xmlns=\"http://www.w3.org/2000/svg\" height=\"24px\"viewBox=\"0 0 24 24\"\n",
              "       width=\"24px\">\n",
              "    <path d=\"M0 0h24v24H0V0z\" fill=\"none\"/>\n",
              "    <path d=\"M18.56 5.44l.94 2.06.94-2.06 2.06-.94-2.06-.94-.94-2.06-.94 2.06-2.06.94zm-11 1L8.5 8.5l.94-2.06 2.06-.94-2.06-.94L8.5 2.5l-.94 2.06-2.06.94zm10 10l.94 2.06.94-2.06 2.06-.94-2.06-.94-.94-2.06-.94 2.06-2.06.94z\"/><path d=\"M17.41 7.96l-1.37-1.37c-.4-.4-.92-.59-1.43-.59-.52 0-1.04.2-1.43.59L10.3 9.45l-7.72 7.72c-.78.78-.78 2.05 0 2.83L4 21.41c.39.39.9.59 1.41.59.51 0 1.02-.2 1.41-.59l7.78-7.78 2.81-2.81c.8-.78.8-2.07 0-2.86zM5.41 20L4 18.59l7.72-7.72 1.47 1.35L5.41 20z\"/>\n",
              "  </svg>\n",
              "      </button>\n",
              "      \n",
              "  <style>\n",
              "    .colab-df-container {\n",
              "      display:flex;\n",
              "      flex-wrap:wrap;\n",
              "      gap: 12px;\n",
              "    }\n",
              "\n",
              "    .colab-df-convert {\n",
              "      background-color: #E8F0FE;\n",
              "      border: none;\n",
              "      border-radius: 50%;\n",
              "      cursor: pointer;\n",
              "      display: none;\n",
              "      fill: #1967D2;\n",
              "      height: 32px;\n",
              "      padding: 0 0 0 0;\n",
              "      width: 32px;\n",
              "    }\n",
              "\n",
              "    .colab-df-convert:hover {\n",
              "      background-color: #E2EBFA;\n",
              "      box-shadow: 0px 1px 2px rgba(60, 64, 67, 0.3), 0px 1px 3px 1px rgba(60, 64, 67, 0.15);\n",
              "      fill: #174EA6;\n",
              "    }\n",
              "\n",
              "    [theme=dark] .colab-df-convert {\n",
              "      background-color: #3B4455;\n",
              "      fill: #D2E3FC;\n",
              "    }\n",
              "\n",
              "    [theme=dark] .colab-df-convert:hover {\n",
              "      background-color: #434B5C;\n",
              "      box-shadow: 0px 1px 3px 1px rgba(0, 0, 0, 0.15);\n",
              "      filter: drop-shadow(0px 1px 2px rgba(0, 0, 0, 0.3));\n",
              "      fill: #FFFFFF;\n",
              "    }\n",
              "  </style>\n",
              "\n",
              "      <script>\n",
              "        const buttonEl =\n",
              "          document.querySelector('#df-0ff0ddf6-80e5-4bed-8b11-9cb278572d36 button.colab-df-convert');\n",
              "        buttonEl.style.display =\n",
              "          google.colab.kernel.accessAllowed ? 'block' : 'none';\n",
              "\n",
              "        async function convertToInteractive(key) {\n",
              "          const element = document.querySelector('#df-0ff0ddf6-80e5-4bed-8b11-9cb278572d36');\n",
              "          const dataTable =\n",
              "            await google.colab.kernel.invokeFunction('convertToInteractive',\n",
              "                                                     [key], {});\n",
              "          if (!dataTable) return;\n",
              "\n",
              "          const docLinkHtml = 'Like what you see? Visit the ' +\n",
              "            '<a target=\"_blank\" href=https://colab.research.google.com/notebooks/data_table.ipynb>data table notebook</a>'\n",
              "            + ' to learn more about interactive tables.';\n",
              "          element.innerHTML = '';\n",
              "          dataTable['output_type'] = 'display_data';\n",
              "          await google.colab.output.renderOutput(dataTable, element);\n",
              "          const docLink = document.createElement('div');\n",
              "          docLink.innerHTML = docLinkHtml;\n",
              "          element.appendChild(docLink);\n",
              "        }\n",
              "      </script>\n",
              "    </div>\n",
              "  </div>\n",
              "  "
            ]
          },
          "metadata": {},
          "execution_count": 14
        }
      ]
    },
    {
      "cell_type": "markdown",
      "source": [
        "## 2.2. Flatten columns that have listed value"
      ],
      "metadata": {
        "id": "dyGO7NmumT5s"
      }
    },
    {
      "cell_type": "markdown",
      "source": [
        "* Define function to flatten each columns from the extra file"
      ],
      "metadata": {
        "id": "u_mEllKkMFXB"
      }
    },
    {
      "cell_type": "code",
      "source": [
        "# Define flatten function\n",
        "def flatten_json(nested_json, exclude=['']):\n",
        "    out = {}\n",
        "    if type(nested_json) is str:\n",
        "        lst = nested_json[1:-1].split(\", \")\n",
        "        for ex in lst:\n",
        "            try:\n",
        "                idx = ex.index(\":\")\n",
        "                start = ex.index(\"\\'\")\n",
        "            except:\n",
        "                continue\n",
        "            try:\n",
        "                out[ex[start+1:idx]] = float(ex[idx+2:-1])\n",
        "            except:\n",
        "                out[ex[start+1:idx]] = ex[idx+2:-1]\n",
        "    return out"
      ],
      "metadata": {
        "id": "wK76TicROr9S"
      },
      "execution_count": 15,
      "outputs": []
    },
    {
      "cell_type": "markdown",
      "source": [
        "Flatten strategy:\n",
        "- Flatten columns that have list value type\n",
        "- Check the null percentage of the new column and drop if it is > 50%\n",
        "- Check duplicate and same meaning columns\n",
        "- Only keep columns that have useful information and different from previous columns  "
      ],
      "metadata": {
        "id": "Meaj9_D2kZNu"
      }
    },
    {
      "cell_type": "code",
      "source": [
        "# Flatten 'Bedrooms and bathrooms'\n",
        "A = pd.DataFrame([flatten_json(x) for x in dff['Bedrooms and bathrooms']])\n",
        "A.head()"
      ],
      "metadata": {
        "colab": {
          "base_uri": "https://localhost:8080/",
          "height": 267
        },
        "id": "EAuv0A-kMf2D",
        "outputId": "78637d11-0415-4975-f74e-ad1809309103"
      },
      "execution_count": 16,
      "outputs": [
        {
          "output_type": "execute_result",
          "data": {
            "text/plain": [
              "   Bedrooms  Bathrooms  Full bathrooms  3/4 bathrooms  1/2 bathrooms  \\\n",
              "0       3.0        1.0             1.0            NaN            NaN   \n",
              "1       4.0        2.0             2.0            NaN            NaN   \n",
              "2       3.0        3.0             2.0            1.0            NaN   \n",
              "3       NaN        NaN             NaN            NaN            NaN   \n",
              "4       4.0        4.0             2.0            NaN            2.0   \n",
              "\n",
              "   1/4 bathrooms  Main level bathrooms  Main level bedrooms  Partial bathrooms  \n",
              "0            NaN                   NaN                  NaN                NaN  \n",
              "1            NaN                   NaN                  NaN                NaN  \n",
              "2            NaN                   NaN                  NaN                NaN  \n",
              "3            NaN                   NaN                  NaN                NaN  \n",
              "4            NaN                   NaN                  NaN                NaN  "
            ],
            "text/html": [
              "\n",
              "  <div id=\"df-fe4235e4-10ba-461c-ab0e-8d313350cc30\">\n",
              "    <div class=\"colab-df-container\">\n",
              "      <div>\n",
              "<style scoped>\n",
              "    .dataframe tbody tr th:only-of-type {\n",
              "        vertical-align: middle;\n",
              "    }\n",
              "\n",
              "    .dataframe tbody tr th {\n",
              "        vertical-align: top;\n",
              "    }\n",
              "\n",
              "    .dataframe thead th {\n",
              "        text-align: right;\n",
              "    }\n",
              "</style>\n",
              "<table border=\"1\" class=\"dataframe\">\n",
              "  <thead>\n",
              "    <tr style=\"text-align: right;\">\n",
              "      <th></th>\n",
              "      <th>Bedrooms</th>\n",
              "      <th>Bathrooms</th>\n",
              "      <th>Full bathrooms</th>\n",
              "      <th>3/4 bathrooms</th>\n",
              "      <th>1/2 bathrooms</th>\n",
              "      <th>1/4 bathrooms</th>\n",
              "      <th>Main level bathrooms</th>\n",
              "      <th>Main level bedrooms</th>\n",
              "      <th>Partial bathrooms</th>\n",
              "    </tr>\n",
              "  </thead>\n",
              "  <tbody>\n",
              "    <tr>\n",
              "      <th>0</th>\n",
              "      <td>3.0</td>\n",
              "      <td>1.0</td>\n",
              "      <td>1.0</td>\n",
              "      <td>NaN</td>\n",
              "      <td>NaN</td>\n",
              "      <td>NaN</td>\n",
              "      <td>NaN</td>\n",
              "      <td>NaN</td>\n",
              "      <td>NaN</td>\n",
              "    </tr>\n",
              "    <tr>\n",
              "      <th>1</th>\n",
              "      <td>4.0</td>\n",
              "      <td>2.0</td>\n",
              "      <td>2.0</td>\n",
              "      <td>NaN</td>\n",
              "      <td>NaN</td>\n",
              "      <td>NaN</td>\n",
              "      <td>NaN</td>\n",
              "      <td>NaN</td>\n",
              "      <td>NaN</td>\n",
              "    </tr>\n",
              "    <tr>\n",
              "      <th>2</th>\n",
              "      <td>3.0</td>\n",
              "      <td>3.0</td>\n",
              "      <td>2.0</td>\n",
              "      <td>1.0</td>\n",
              "      <td>NaN</td>\n",
              "      <td>NaN</td>\n",
              "      <td>NaN</td>\n",
              "      <td>NaN</td>\n",
              "      <td>NaN</td>\n",
              "    </tr>\n",
              "    <tr>\n",
              "      <th>3</th>\n",
              "      <td>NaN</td>\n",
              "      <td>NaN</td>\n",
              "      <td>NaN</td>\n",
              "      <td>NaN</td>\n",
              "      <td>NaN</td>\n",
              "      <td>NaN</td>\n",
              "      <td>NaN</td>\n",
              "      <td>NaN</td>\n",
              "      <td>NaN</td>\n",
              "    </tr>\n",
              "    <tr>\n",
              "      <th>4</th>\n",
              "      <td>4.0</td>\n",
              "      <td>4.0</td>\n",
              "      <td>2.0</td>\n",
              "      <td>NaN</td>\n",
              "      <td>2.0</td>\n",
              "      <td>NaN</td>\n",
              "      <td>NaN</td>\n",
              "      <td>NaN</td>\n",
              "      <td>NaN</td>\n",
              "    </tr>\n",
              "  </tbody>\n",
              "</table>\n",
              "</div>\n",
              "      <button class=\"colab-df-convert\" onclick=\"convertToInteractive('df-fe4235e4-10ba-461c-ab0e-8d313350cc30')\"\n",
              "              title=\"Convert this dataframe to an interactive table.\"\n",
              "              style=\"display:none;\">\n",
              "        \n",
              "  <svg xmlns=\"http://www.w3.org/2000/svg\" height=\"24px\"viewBox=\"0 0 24 24\"\n",
              "       width=\"24px\">\n",
              "    <path d=\"M0 0h24v24H0V0z\" fill=\"none\"/>\n",
              "    <path d=\"M18.56 5.44l.94 2.06.94-2.06 2.06-.94-2.06-.94-.94-2.06-.94 2.06-2.06.94zm-11 1L8.5 8.5l.94-2.06 2.06-.94-2.06-.94L8.5 2.5l-.94 2.06-2.06.94zm10 10l.94 2.06.94-2.06 2.06-.94-2.06-.94-.94-2.06-.94 2.06-2.06.94z\"/><path d=\"M17.41 7.96l-1.37-1.37c-.4-.4-.92-.59-1.43-.59-.52 0-1.04.2-1.43.59L10.3 9.45l-7.72 7.72c-.78.78-.78 2.05 0 2.83L4 21.41c.39.39.9.59 1.41.59.51 0 1.02-.2 1.41-.59l7.78-7.78 2.81-2.81c.8-.78.8-2.07 0-2.86zM5.41 20L4 18.59l7.72-7.72 1.47 1.35L5.41 20z\"/>\n",
              "  </svg>\n",
              "      </button>\n",
              "      \n",
              "  <style>\n",
              "    .colab-df-container {\n",
              "      display:flex;\n",
              "      flex-wrap:wrap;\n",
              "      gap: 12px;\n",
              "    }\n",
              "\n",
              "    .colab-df-convert {\n",
              "      background-color: #E8F0FE;\n",
              "      border: none;\n",
              "      border-radius: 50%;\n",
              "      cursor: pointer;\n",
              "      display: none;\n",
              "      fill: #1967D2;\n",
              "      height: 32px;\n",
              "      padding: 0 0 0 0;\n",
              "      width: 32px;\n",
              "    }\n",
              "\n",
              "    .colab-df-convert:hover {\n",
              "      background-color: #E2EBFA;\n",
              "      box-shadow: 0px 1px 2px rgba(60, 64, 67, 0.3), 0px 1px 3px 1px rgba(60, 64, 67, 0.15);\n",
              "      fill: #174EA6;\n",
              "    }\n",
              "\n",
              "    [theme=dark] .colab-df-convert {\n",
              "      background-color: #3B4455;\n",
              "      fill: #D2E3FC;\n",
              "    }\n",
              "\n",
              "    [theme=dark] .colab-df-convert:hover {\n",
              "      background-color: #434B5C;\n",
              "      box-shadow: 0px 1px 3px 1px rgba(0, 0, 0, 0.15);\n",
              "      filter: drop-shadow(0px 1px 2px rgba(0, 0, 0, 0.3));\n",
              "      fill: #FFFFFF;\n",
              "    }\n",
              "  </style>\n",
              "\n",
              "      <script>\n",
              "        const buttonEl =\n",
              "          document.querySelector('#df-fe4235e4-10ba-461c-ab0e-8d313350cc30 button.colab-df-convert');\n",
              "        buttonEl.style.display =\n",
              "          google.colab.kernel.accessAllowed ? 'block' : 'none';\n",
              "\n",
              "        async function convertToInteractive(key) {\n",
              "          const element = document.querySelector('#df-fe4235e4-10ba-461c-ab0e-8d313350cc30');\n",
              "          const dataTable =\n",
              "            await google.colab.kernel.invokeFunction('convertToInteractive',\n",
              "                                                     [key], {});\n",
              "          if (!dataTable) return;\n",
              "\n",
              "          const docLinkHtml = 'Like what you see? Visit the ' +\n",
              "            '<a target=\"_blank\" href=https://colab.research.google.com/notebooks/data_table.ipynb>data table notebook</a>'\n",
              "            + ' to learn more about interactive tables.';\n",
              "          element.innerHTML = '';\n",
              "          dataTable['output_type'] = 'display_data';\n",
              "          await google.colab.output.renderOutput(dataTable, element);\n",
              "          const docLink = document.createElement('div');\n",
              "          docLink.innerHTML = docLinkHtml;\n",
              "          element.appendChild(docLink);\n",
              "        }\n",
              "      </script>\n",
              "    </div>\n",
              "  </div>\n",
              "  "
            ]
          },
          "metadata": {},
          "execution_count": 16
        }
      ]
    },
    {
      "cell_type": "code",
      "source": [
        "# Checking null values percentage\n",
        "plt.figure(figsize=(12,6))\n",
        "msno = sns.heatmap(A.isnull(), yticklabels=False, cbar=False, cmap = 'viridis')"
      ],
      "metadata": {
        "colab": {
          "base_uri": "https://localhost:8080/",
          "height": 494
        },
        "id": "vMML-MkAiibj",
        "outputId": "1db3dab2-5dde-4e08-f7bf-4968c3667c4e"
      },
      "execution_count": 17,
      "outputs": [
        {
          "output_type": "display_data",
          "data": {
            "text/plain": [
              "<Figure size 864x432 with 1 Axes>"
            ],
            "image/png": "[encoded data removed]"
          },
          "metadata": {
            "needs_background": "light"
          }
        }
      ]
    },
    {
      "cell_type": "code",
      "source": [
        "(A.isnull().sum() / A.isnull().count()).sort_values(ascending=False)"
      ],
      "metadata": {
        "colab": {
          "base_uri": "https://localhost:8080/"
        },
        "id": "8xu_mbapNPkA",
        "outputId": "30278781-ed0b-49b3-e0e7-019564f0459a"
      },
      "execution_count": 18,
      "outputs": [
        {
          "output_type": "execute_result",
          "data": {
            "text/plain": [
              "Partial bathrooms       0.999935\n",
              "1/4 bathrooms           0.998375\n",
              "3/4 bathrooms           0.943639\n",
              "Main level bathrooms    0.856010\n",
              "Main level bedrooms     0.825717\n",
              "1/2 bathrooms           0.599233\n",
              "Full bathrooms          0.093285\n",
              "Bedrooms                0.034844\n",
              "Bathrooms               0.034714\n",
              "dtype: float64"
            ]
          },
          "metadata": {},
          "execution_count": 18
        }
      ]
    },
    {
      "cell_type": "code",
      "source": [
        "# Concat useful and non-duplicate column\n",
        "dff = pd.concat([dff,A[\"Full bathrooms\"]], axis=1)"
      ],
      "metadata": {
        "id": "kQuMBWOBNyWm"
      },
      "execution_count": 19,
      "outputs": []
    },
    {
      "cell_type": "code",
      "source": [
        "# Flatten 'Other interior features'\n",
        "B = pd.DataFrame([flatten_json(x) for x in dff['Other interior features']])\n",
        "B.head()"
      ],
      "metadata": {
        "colab": {
          "base_uri": "https://localhost:8080/",
          "height": 302
        },
        "outputId": "a5c25a3c-bc23-494d-f9a0-33e723db6d05",
        "id": "dKcnp9S7PYic"
      },
      "execution_count": 20,
      "outputs": [
        {
          "output_type": "execute_result",
          "data": {
            "text/plain": [
              "  Total interior livable area Total structure area  \\\n",
              "0                  1,556 sqft                  NaN   \n",
              "1                  1,920 sqft                  NaN   \n",
              "2                  2,532 sqft                2,532   \n",
              "3                         NaN                  NaN   \n",
              "4                  1,915 sqft                  NaN   \n",
              "\n",
              "  Common walls with other units/homes Virtual tour Attic Fireplace features  \\\n",
              "0                                 NaN          NaN   NaN                NaN   \n",
              "1                                 NaN          NaN   NaN                NaN   \n",
              "2                                 NaN          NaN   NaN                NaN   \n",
              "3                                 NaN          NaN   NaN                NaN   \n",
              "4                                 NaN          NaN   NaN                NaN   \n",
              "\n",
              "  Fireplace  Total number of fireplaces Furnished Finished area below ground  \\\n",
              "0       NaN                         NaN       NaN                        NaN   \n",
              "1       NaN                         NaN       NaN                        NaN   \n",
              "2       NaN                         NaN       NaN                        NaN   \n",
              "3       NaN                         NaN       NaN                        NaN   \n",
              "4       NaN                         NaN       NaN                        NaN   \n",
              "\n",
              "  Finished area above ground      \n",
              "0                        NaN NaN  \n",
              "1                        NaN NaN  \n",
              "2                        NaN NaN  \n",
              "3                        NaN NaN  \n",
              "4                        NaN NaN  "
            ],
            "text/html": [
              "\n",
              "  <div id=\"df-57611330-9120-4f52-81f6-f15e5806201e\">\n",
              "    <div class=\"colab-df-container\">\n",
              "      <div>\n",
              "<style scoped>\n",
              "    .dataframe tbody tr th:only-of-type {\n",
              "        vertical-align: middle;\n",
              "    }\n",
              "\n",
              "    .dataframe tbody tr th {\n",
              "        vertical-align: top;\n",
              "    }\n",
              "\n",
              "    .dataframe thead th {\n",
              "        text-align: right;\n",
              "    }\n",
              "</style>\n",
              "<table border=\"1\" class=\"dataframe\">\n",
              "  <thead>\n",
              "    <tr style=\"text-align: right;\">\n",
              "      <th></th>\n",
              "      <th>Total interior livable area</th>\n",
              "      <th>Total structure area</th>\n",
              "      <th>Common walls with other units/homes</th>\n",
              "      <th>Virtual tour</th>\n",
              "      <th>Attic</th>\n",
              "      <th>Fireplace features</th>\n",
              "      <th>Fireplace</th>\n",
              "      <th>Total number of fireplaces</th>\n",
              "      <th>Furnished</th>\n",
              "      <th>Finished area below ground</th>\n",
              "      <th>Finished area above ground</th>\n",
              "      <th></th>\n",
              "    </tr>\n",
              "  </thead>\n",
              "  <tbody>\n",
              "    <tr>\n",
              "      <th>0</th>\n",
              "      <td>1,556 sqft</td>\n",
              "      <td>NaN</td>\n",
              "      <td>NaN</td>\n",
              "      <td>NaN</td>\n",
              "      <td>NaN</td>\n",
              "      <td>NaN</td>\n",
              "      <td>NaN</td>\n",
              "      <td>NaN</td>\n",
              "      <td>NaN</td>\n",
              "      <td>NaN</td>\n",
              "      <td>NaN</td>\n",
              "      <td>NaN</td>\n",
              "    </tr>\n",
              "    <tr>\n",
              "      <th>1</th>\n",
              "      <td>1,920 sqft</td>\n",
              "      <td>NaN</td>\n",
              "      <td>NaN</td>\n",
              "      <td>NaN</td>\n",
              "      <td>NaN</td>\n",
              "      <td>NaN</td>\n",
              "      <td>NaN</td>\n",
              "      <td>NaN</td>\n",
              "      <td>NaN</td>\n",
              "      <td>NaN</td>\n",
              "      <td>NaN</td>\n",
              "      <td>NaN</td>\n",
              "    </tr>\n",
              "    <tr>\n",
              "      <th>2</th>\n",
              "      <td>2,532 sqft</td>\n",
              "      <td>2,532</td>\n",
              "      <td>NaN</td>\n",
              "      <td>NaN</td>\n",
              "      <td>NaN</td>\n",
              "      <td>NaN</td>\n",
              "      <td>NaN</td>\n",
              "      <td>NaN</td>\n",
              "      <td>NaN</td>\n",
              "      <td>NaN</td>\n",
              "      <td>NaN</td>\n",
              "      <td>NaN</td>\n",
              "    </tr>\n",
              "    <tr>\n",
              "      <th>3</th>\n",
              "      <td>NaN</td>\n",
              "      <td>NaN</td>\n",
              "      <td>NaN</td>\n",
              "      <td>NaN</td>\n",
              "      <td>NaN</td>\n",
              "      <td>NaN</td>\n",
              "      <td>NaN</td>\n",
              "      <td>NaN</td>\n",
              "      <td>NaN</td>\n",
              "      <td>NaN</td>\n",
              "      <td>NaN</td>\n",
              "      <td>NaN</td>\n",
              "    </tr>\n",
              "    <tr>\n",
              "      <th>4</th>\n",
              "      <td>1,915 sqft</td>\n",
              "      <td>NaN</td>\n",
              "      <td>NaN</td>\n",
              "      <td>NaN</td>\n",
              "      <td>NaN</td>\n",
              "      <td>NaN</td>\n",
              "      <td>NaN</td>\n",
              "      <td>NaN</td>\n",
              "      <td>NaN</td>\n",
              "      <td>NaN</td>\n",
              "      <td>NaN</td>\n",
              "      <td>NaN</td>\n",
              "    </tr>\n",
              "  </tbody>\n",
              "</table>\n",
              "</div>\n",
              "      <button class=\"colab-df-convert\" onclick=\"convertToInteractive('df-57611330-9120-4f52-81f6-f15e5806201e')\"\n",
              "              title=\"Convert this dataframe to an interactive table.\"\n",
              "              style=\"display:none;\">\n",
              "        \n",
              "  <svg xmlns=\"http://www.w3.org/2000/svg\" height=\"24px\"viewBox=\"0 0 24 24\"\n",
              "       width=\"24px\">\n",
              "    <path d=\"M0 0h24v24H0V0z\" fill=\"none\"/>\n",
              "    <path d=\"M18.56 5.44l.94 2.06.94-2.06 2.06-.94-2.06-.94-.94-2.06-.94 2.06-2.06.94zm-11 1L8.5 8.5l.94-2.06 2.06-.94-2.06-.94L8.5 2.5l-.94 2.06-2.06.94zm10 10l.94 2.06.94-2.06 2.06-.94-2.06-.94-.94-2.06-.94 2.06-2.06.94z\"/><path d=\"M17.41 7.96l-1.37-1.37c-.4-.4-.92-.59-1.43-.59-.52 0-1.04.2-1.43.59L10.3 9.45l-7.72 7.72c-.78.78-.78 2.05 0 2.83L4 21.41c.39.39.9.59 1.41.59.51 0 1.02-.2 1.41-.59l7.78-7.78 2.81-2.81c.8-.78.8-2.07 0-2.86zM5.41 20L4 18.59l7.72-7.72 1.47 1.35L5.41 20z\"/>\n",
              "  </svg>\n",
              "      </button>\n",
              "      \n",
              "  <style>\n",
              "    .colab-df-container {\n",
              "      display:flex;\n",
              "      flex-wrap:wrap;\n",
              "      gap: 12px;\n",
              "    }\n",
              "\n",
              "    .colab-df-convert {\n",
              "      background-color: #E8F0FE;\n",
              "      border: none;\n",
              "      border-radius: 50%;\n",
              "      cursor: pointer;\n",
              "      display: none;\n",
              "      fill: #1967D2;\n",
              "      height: 32px;\n",
              "      padding: 0 0 0 0;\n",
              "      width: 32px;\n",
              "    }\n",
              "\n",
              "    .colab-df-convert:hover {\n",
              "      background-color: #E2EBFA;\n",
              "      box-shadow: 0px 1px 2px rgba(60, 64, 67, 0.3), 0px 1px 3px 1px rgba(60, 64, 67, 0.15);\n",
              "      fill: #174EA6;\n",
              "    }\n",
              "\n",
              "    [theme=dark] .colab-df-convert {\n",
              "      background-color: #3B4455;\n",
              "      fill: #D2E3FC;\n",
              "    }\n",
              "\n",
              "    [theme=dark] .colab-df-convert:hover {\n",
              "      background-color: #434B5C;\n",
              "      box-shadow: 0px 1px 3px 1px rgba(0, 0, 0, 0.15);\n",
              "      filter: drop-shadow(0px 1px 2px rgba(0, 0, 0, 0.3));\n",
              "      fill: #FFFFFF;\n",
              "    }\n",
              "  </style>\n",
              "\n",
              "      <script>\n",
              "        const buttonEl =\n",
              "          document.querySelector('#df-57611330-9120-4f52-81f6-f15e5806201e button.colab-df-convert');\n",
              "        buttonEl.style.display =\n",
              "          google.colab.kernel.accessAllowed ? 'block' : 'none';\n",
              "\n",
              "        async function convertToInteractive(key) {\n",
              "          const element = document.querySelector('#df-57611330-9120-4f52-81f6-f15e5806201e');\n",
              "          const dataTable =\n",
              "            await google.colab.kernel.invokeFunction('convertToInteractive',\n",
              "                                                     [key], {});\n",
              "          if (!dataTable) return;\n",
              "\n",
              "          const docLinkHtml = 'Like what you see? Visit the ' +\n",
              "            '<a target=\"_blank\" href=https://colab.research.google.com/notebooks/data_table.ipynb>data table notebook</a>'\n",
              "            + ' to learn more about interactive tables.';\n",
              "          element.innerHTML = '';\n",
              "          dataTable['output_type'] = 'display_data';\n",
              "          await google.colab.output.renderOutput(dataTable, element);\n",
              "          const docLink = document.createElement('div');\n",
              "          docLink.innerHTML = docLinkHtml;\n",
              "          element.appendChild(docLink);\n",
              "        }\n",
              "      </script>\n",
              "    </div>\n",
              "  </div>\n",
              "  "
            ]
          },
          "metadata": {},
          "execution_count": 20
        }
      ]
    },
    {
      "cell_type": "code",
      "source": [
        "# Checking null values percentage\n",
        "plt.figure(figsize=(12,6))\n",
        "msno = sns.heatmap(B.isnull(), yticklabels=False, cbar=False, cmap = 'viridis')"
      ],
      "metadata": {
        "colab": {
          "base_uri": "https://localhost:8080/",
          "height": 596
        },
        "id": "nto0rJaei_Lu",
        "outputId": "de6b50d0-0531-4079-cd64-c21db1a973b0"
      },
      "execution_count": 21,
      "outputs": [
        {
          "output_type": "display_data",
          "data": {
            "text/plain": [
              "<Figure size 864x432 with 1 Axes>"
            ],
            "image/png": "[encoded data removed]"
          },
          "metadata": {
            "needs_background": "light"
          }
        }
      ]
    },
    {
      "cell_type": "code",
      "source": [
        "(B.isnull().sum() / B.isnull().count()).sort_values(ascending=False)"
      ],
      "metadata": {
        "colab": {
          "base_uri": "https://localhost:8080/"
        },
        "id": "vB2Cp-UfP4qJ",
        "outputId": "3c35a5a4-f910-4757-c412-12e0958bef64"
      },
      "execution_count": 22,
      "outputs": [
        {
          "output_type": "execute_result",
          "data": {
            "text/plain": [
              "Furnished                              0.997595\n",
              "Fireplace                              0.983228\n",
              "                                       0.974777\n",
              "Common walls with other units/homes    0.929468\n",
              "Attic                                  0.905740\n",
              "Finished area above ground             0.827862\n",
              "Finished area below ground             0.827147\n",
              "Virtual tour                           0.627901\n",
              "Total number of fireplaces             0.608984\n",
              "Fireplace features                     0.479165\n",
              "Total structure area                   0.390366\n",
              "Total interior livable area            0.080153\n",
              "dtype: float64"
            ]
          },
          "metadata": {},
          "execution_count": 22
        }
      ]
    },
    {
      "cell_type": "markdown",
      "source": [
        "Considering same meaning columns \"Fireplace feature\" and \"Total number of fireplaces\""
      ],
      "metadata": {
        "id": "OiOE9-BSjk95"
      }
    },
    {
      "cell_type": "code",
      "source": [
        "B['Fireplace features'].unique()"
      ],
      "metadata": {
        "colab": {
          "base_uri": "https://localhost:8080/"
        },
        "id": "K339kikI-F9R",
        "outputId": "ace1089e-ce01-453c-8dda-628f6441a3bd"
      },
      "execution_count": 23,
      "outputs": [
        {
          "output_type": "execute_result",
          "data": {
            "text/plain": [
              "array([nan, 'Pellet Stove', 'Wood Burning Stove', 'Family Room',\n",
              "       'Living Room', 'Non', 'Decorative', 'Dining Roo', 'None',\n",
              "       'Living Roo', 'Family Roo', 'Other', 'Wood Burning', 'De',\n",
              "       'Great Roo', 'Outsid', 'See Remarks', 'Fire Pi', 'Decorativ',\n",
              "       'Master Bedroo', 'Great Room', 'Gas', 'Pati', 'Gas Starte',\n",
              "       'Gas and Woo', 'Guest Hous', 'Electric', 'Fire Pit', 'Ga',\n",
              "       'Bonus Roo', 'Raised Heart', 'Bat', 'Librar', 'Electri', 'Kitche',\n",
              "       'Master Bedroom', 'Master Retrea', 'Othe', 'Den', 'Wood Burnin',\n",
              "       'Outside', 'Dining Room', 'Game Roo', 'Gas Lo', 'Double Side',\n",
              "       'Heatilato', 'Basement', 'Loft', 'Ventles',\n",
              "       'Attached Fireplace Doors/Scree', 'Gas Log', 'Free Standing',\n",
              "       'Free Standin', '1 Fireplac', '1 Fireplace', '2 Fireplac',\n",
              "       '3+ Fireplac', 'Other (See Remarks)', '2 Fireplace',\n",
              "       '3+ Fireplace', 'See Through', 'Gas/Propane', 'Corne', 'Bric',\n",
              "       'Marble', 'Ston', 'Brick', 'Stone', 'Marbl', 'Gas/Propan',\n",
              "       'Insert', 'Glass Door', 'Not Applicable', 'On', 'One', 'Tw', 'Two',\n",
              "       'Three', 'Stone/Rock/Brick', 'Other/Remark', 'Other/Remarks',\n",
              "       'Bonus Room', 'Gas Starter', 'Masonr', 'Double Sided', 'Masonry',\n",
              "       'Bedroo', 'Blower Fa', 'See Throug', 'Inser', 'Other Location',\n",
              "       'Metal', 'Fireplace Scree', 'Factory Buil', 'Circulating',\n",
              "       'Recreation Room', '2 or more Fireplaces', 'Brick Fireplac',\n",
              "       'Family Room/Den/Great Room', '2 or more Fireplace',\n",
              "       'Brick Fireplace', 'Stone Fireplac', 'Family Room/Den/Great Roo',\n",
              "       'Tile Fireplac', 'Direct Ven', 'Four or Mor', 'Four or More',\n",
              "       'Vente', 'Primary Bedroo', 'Ventless', 'Keeping Roo', 'Vented',\n",
              "       1.0, 'Non Functional', 'Hearth Roo', 'Den/Library Fireplac',\n",
              "       'Basemen', 'Hearth Room', 'Other Locatio', 'Main Level: 1',\n",
              "       'Lower Level: ', 'Upper Level: 1', 'Pellet Stov', 'See Remark',\n",
              "       'Main Level: ', 'Main Level: 2', 'Lower Level: 1',\n",
              "       'Rec/Bonus Room', '2+ Fireplace', 'Circulatin', 'Mantel(s)',\n",
              "       'Mantel(s', 'Glass Doors'], dtype=object)"
            ]
          },
          "metadata": {},
          "execution_count": 23
        }
      ]
    },
    {
      "cell_type": "code",
      "source": [
        "B['Total number of fireplaces'].unique()"
      ],
      "metadata": {
        "colab": {
          "base_uri": "https://localhost:8080/"
        },
        "id": "9bgvjDmD-hGo",
        "outputId": "903828e1-1d7d-4754-bce4-5c53e25e4e0c"
      },
      "execution_count": 24,
      "outputs": [
        {
          "output_type": "execute_result",
          "data": {
            "text/plain": [
              "array([nan,  1.,  2.,  3.,  6.,  5.,  8.,  7.,  4., 13.,  9., 10.])"
            ]
          },
          "metadata": {},
          "execution_count": 24
        }
      ]
    },
    {
      "cell_type": "code",
      "source": [
        "# Getting information from 2 same meaning columns into 1 column\n",
        "for i in range(len(B)):\n",
        "    if B['Total number of fireplaces'][i] not in np.array([1,2,3,4,5,6,7,8,9,10,13], dtype=np.float64):\n",
        "        B['Total number of fireplaces'][i] = B['Fireplace features'][i]"
      ],
      "metadata": {
        "id": "INeQ78nL_He1"
      },
      "execution_count": 25,
      "outputs": []
    },
    {
      "cell_type": "code",
      "source": [
        "(B.isnull().sum() / B.isnull().count()).sort_values(ascending=False)"
      ],
      "metadata": {
        "colab": {
          "base_uri": "https://localhost:8080/"
        },
        "id": "tbDLNGmX_ZDm",
        "outputId": "ee89ebf5-95dd-4a53-a003-df0dfb45f02c"
      },
      "execution_count": 26,
      "outputs": [
        {
          "output_type": "execute_result",
          "data": {
            "text/plain": [
              "Furnished                              0.997595\n",
              "Fireplace                              0.983228\n",
              "                                       0.974777\n",
              "Common walls with other units/homes    0.929468\n",
              "Attic                                  0.905740\n",
              "Finished area above ground             0.827862\n",
              "Finished area below ground             0.827147\n",
              "Virtual tour                           0.627901\n",
              "Fireplace features                     0.479165\n",
              "Total number of fireplaces             0.425210\n",
              "Total structure area                   0.390366\n",
              "Total interior livable area            0.080153\n",
              "dtype: float64"
            ]
          },
          "metadata": {},
          "execution_count": 26
        }
      ]
    },
    {
      "cell_type": "code",
      "source": [
        "# Concat useful and non-duplicate column\n",
        "dff = pd.concat([dff, B[\"Total number of fireplaces\"]], axis=1)"
      ],
      "metadata": {
        "id": "s3iOftOS_msM"
      },
      "execution_count": 27,
      "outputs": []
    },
    {
      "cell_type": "code",
      "source": [
        "# Flatten 'Parking'\n",
        "C = pd.DataFrame([flatten_json(x) for x in dff['Parking']])\n",
        "C.head()"
      ],
      "metadata": {
        "colab": {
          "base_uri": "https://localhost:8080/",
          "height": 285
        },
        "id": "C5hXeV7URiDi",
        "outputId": "b744be93-5033-4b9a-99d3-3cdd10052d23"
      },
      "execution_count": 28,
      "outputs": [
        {
          "output_type": "execute_result",
          "data": {
            "text/plain": [
              "    Parking features  Total spaces  Garage spaces Has uncovered spaces  \\\n",
              "0  Garage - Detached           NaN            NaN                  NaN   \n",
              "1                NaN           NaN            NaN                  NaN   \n",
              "2            Detache           2.0            2.0                  NaN   \n",
              "3                NaN           NaN            NaN                  NaN   \n",
              "4                NaN           NaN            NaN                  NaN   \n",
              "\n",
              "  Carport Has garage  Covered spaces  Uncovered spaces  Carport spaces  \\\n",
              "0     NaN        NaN             NaN               NaN             NaN   \n",
              "1     NaN        NaN             NaN               NaN             NaN   \n",
              "2     NaN        NaN             NaN               NaN             NaN   \n",
              "3     NaN        NaN             NaN               NaN             NaN   \n",
              "4     NaN        NaN             NaN               NaN             NaN   \n",
              "\n",
              "  Other parking information       \n",
              "0                       NaN  NaN  \n",
              "1                       NaN  NaN  \n",
              "2                       NaN  NaN  \n",
              "3                       NaN  NaN  \n",
              "4                       NaN  NaN  "
            ],
            "text/html": [
              "\n",
              "  <div id=\"df-e639d86a-51ea-43c6-8d61-5bb2d6975d65\">\n",
              "    <div class=\"colab-df-container\">\n",
              "      <div>\n",
              "<style scoped>\n",
              "    .dataframe tbody tr th:only-of-type {\n",
              "        vertical-align: middle;\n",
              "    }\n",
              "\n",
              "    .dataframe tbody tr th {\n",
              "        vertical-align: top;\n",
              "    }\n",
              "\n",
              "    .dataframe thead th {\n",
              "        text-align: right;\n",
              "    }\n",
              "</style>\n",
              "<table border=\"1\" class=\"dataframe\">\n",
              "  <thead>\n",
              "    <tr style=\"text-align: right;\">\n",
              "      <th></th>\n",
              "      <th>Parking features</th>\n",
              "      <th>Total spaces</th>\n",
              "      <th>Garage spaces</th>\n",
              "      <th>Has uncovered spaces</th>\n",
              "      <th>Carport</th>\n",
              "      <th>Has garage</th>\n",
              "      <th>Covered spaces</th>\n",
              "      <th>Uncovered spaces</th>\n",
              "      <th>Carport spaces</th>\n",
              "      <th>Other parking information</th>\n",
              "      <th></th>\n",
              "    </tr>\n",
              "  </thead>\n",
              "  <tbody>\n",
              "    <tr>\n",
              "      <th>0</th>\n",
              "      <td>Garage - Detached</td>\n",
              "      <td>NaN</td>\n",
              "      <td>NaN</td>\n",
              "      <td>NaN</td>\n",
              "      <td>NaN</td>\n",
              "      <td>NaN</td>\n",
              "      <td>NaN</td>\n",
              "      <td>NaN</td>\n",
              "      <td>NaN</td>\n",
              "      <td>NaN</td>\n",
              "      <td>NaN</td>\n",
              "    </tr>\n",
              "    <tr>\n",
              "      <th>1</th>\n",
              "      <td>NaN</td>\n",
              "      <td>NaN</td>\n",
              "      <td>NaN</td>\n",
              "      <td>NaN</td>\n",
              "      <td>NaN</td>\n",
              "      <td>NaN</td>\n",
              "      <td>NaN</td>\n",
              "      <td>NaN</td>\n",
              "      <td>NaN</td>\n",
              "      <td>NaN</td>\n",
              "      <td>NaN</td>\n",
              "    </tr>\n",
              "    <tr>\n",
              "      <th>2</th>\n",
              "      <td>Detache</td>\n",
              "      <td>2.0</td>\n",
              "      <td>2.0</td>\n",
              "      <td>NaN</td>\n",
              "      <td>NaN</td>\n",
              "      <td>NaN</td>\n",
              "      <td>NaN</td>\n",
              "      <td>NaN</td>\n",
              "      <td>NaN</td>\n",
              "      <td>NaN</td>\n",
              "      <td>NaN</td>\n",
              "    </tr>\n",
              "    <tr>\n",
              "      <th>3</th>\n",
              "      <td>NaN</td>\n",
              "      <td>NaN</td>\n",
              "      <td>NaN</td>\n",
              "      <td>NaN</td>\n",
              "      <td>NaN</td>\n",
              "      <td>NaN</td>\n",
              "      <td>NaN</td>\n",
              "      <td>NaN</td>\n",
              "      <td>NaN</td>\n",
              "      <td>NaN</td>\n",
              "      <td>NaN</td>\n",
              "    </tr>\n",
              "    <tr>\n",
              "      <th>4</th>\n",
              "      <td>NaN</td>\n",
              "      <td>NaN</td>\n",
              "      <td>NaN</td>\n",
              "      <td>NaN</td>\n",
              "      <td>NaN</td>\n",
              "      <td>NaN</td>\n",
              "      <td>NaN</td>\n",
              "      <td>NaN</td>\n",
              "      <td>NaN</td>\n",
              "      <td>NaN</td>\n",
              "      <td>NaN</td>\n",
              "    </tr>\n",
              "  </tbody>\n",
              "</table>\n",
              "</div>\n",
              "      <button class=\"colab-df-convert\" onclick=\"convertToInteractive('df-e639d86a-51ea-43c6-8d61-5bb2d6975d65')\"\n",
              "              title=\"Convert this dataframe to an interactive table.\"\n",
              "              style=\"display:none;\">\n",
              "        \n",
              "  <svg xmlns=\"http://www.w3.org/2000/svg\" height=\"24px\"viewBox=\"0 0 24 24\"\n",
              "       width=\"24px\">\n",
              "    <path d=\"M0 0h24v24H0V0z\" fill=\"none\"/>\n",
              "    <path d=\"M18.56 5.44l.94 2.06.94-2.06 2.06-.94-2.06-.94-.94-2.06-.94 2.06-2.06.94zm-11 1L8.5 8.5l.94-2.06 2.06-.94-2.06-.94L8.5 2.5l-.94 2.06-2.06.94zm10 10l.94 2.06.94-2.06 2.06-.94-2.06-.94-.94-2.06-.94 2.06-2.06.94z\"/><path d=\"M17.41 7.96l-1.37-1.37c-.4-.4-.92-.59-1.43-.59-.52 0-1.04.2-1.43.59L10.3 9.45l-7.72 7.72c-.78.78-.78 2.05 0 2.83L4 21.41c.39.39.9.59 1.41.59.51 0 1.02-.2 1.41-.59l7.78-7.78 2.81-2.81c.8-.78.8-2.07 0-2.86zM5.41 20L4 18.59l7.72-7.72 1.47 1.35L5.41 20z\"/>\n",
              "  </svg>\n",
              "      </button>\n",
              "      \n",
              "  <style>\n",
              "    .colab-df-container {\n",
              "      display:flex;\n",
              "      flex-wrap:wrap;\n",
              "      gap: 12px;\n",
              "    }\n",
              "\n",
              "    .colab-df-convert {\n",
              "      background-color: #E8F0FE;\n",
              "      border: none;\n",
              "      border-radius: 50%;\n",
              "      cursor: pointer;\n",
              "      display: none;\n",
              "      fill: #1967D2;\n",
              "      height: 32px;\n",
              "      padding: 0 0 0 0;\n",
              "      width: 32px;\n",
              "    }\n",
              "\n",
              "    .colab-df-convert:hover {\n",
              "      background-color: #E2EBFA;\n",
              "      box-shadow: 0px 1px 2px rgba(60, 64, 67, 0.3), 0px 1px 3px 1px rgba(60, 64, 67, 0.15);\n",
              "      fill: #174EA6;\n",
              "    }\n",
              "\n",
              "    [theme=dark] .colab-df-convert {\n",
              "      background-color: #3B4455;\n",
              "      fill: #D2E3FC;\n",
              "    }\n",
              "\n",
              "    [theme=dark] .colab-df-convert:hover {\n",
              "      background-color: #434B5C;\n",
              "      box-shadow: 0px 1px 3px 1px rgba(0, 0, 0, 0.15);\n",
              "      filter: drop-shadow(0px 1px 2px rgba(0, 0, 0, 0.3));\n",
              "      fill: #FFFFFF;\n",
              "    }\n",
              "  </style>\n",
              "\n",
              "      <script>\n",
              "        const buttonEl =\n",
              "          document.querySelector('#df-e639d86a-51ea-43c6-8d61-5bb2d6975d65 button.colab-df-convert');\n",
              "        buttonEl.style.display =\n",
              "          google.colab.kernel.accessAllowed ? 'block' : 'none';\n",
              "\n",
              "        async function convertToInteractive(key) {\n",
              "          const element = document.querySelector('#df-e639d86a-51ea-43c6-8d61-5bb2d6975d65');\n",
              "          const dataTable =\n",
              "            await google.colab.kernel.invokeFunction('convertToInteractive',\n",
              "                                                     [key], {});\n",
              "          if (!dataTable) return;\n",
              "\n",
              "          const docLinkHtml = 'Like what you see? Visit the ' +\n",
              "            '<a target=\"_blank\" href=https://colab.research.google.com/notebooks/data_table.ipynb>data table notebook</a>'\n",
              "            + ' to learn more about interactive tables.';\n",
              "          element.innerHTML = '';\n",
              "          dataTable['output_type'] = 'display_data';\n",
              "          await google.colab.output.renderOutput(dataTable, element);\n",
              "          const docLink = document.createElement('div');\n",
              "          docLink.innerHTML = docLinkHtml;\n",
              "          element.appendChild(docLink);\n",
              "        }\n",
              "      </script>\n",
              "    </div>\n",
              "  </div>\n",
              "  "
            ]
          },
          "metadata": {},
          "execution_count": 28
        }
      ]
    },
    {
      "cell_type": "code",
      "source": [
        "# Checking null values percentage\n",
        "plt.figure(figsize=(12,6))\n",
        "msno = sns.heatmap(C.isnull(), yticklabels=False, cbar=False, cmap = 'viridis')"
      ],
      "metadata": {
        "colab": {
          "base_uri": "https://localhost:8080/",
          "height": 521
        },
        "id": "DhPwUo2BkU3z",
        "outputId": "9c620dda-ab20-44b7-de4f-de10680e33fd"
      },
      "execution_count": 29,
      "outputs": [
        {
          "output_type": "display_data",
          "data": {
            "text/plain": [
              "<Figure size 864x432 with 1 Axes>"
            ],
            "image/png": "[encoded data removed]"
          },
          "metadata": {
            "needs_background": "light"
          }
        }
      ]
    },
    {
      "cell_type": "code",
      "source": [
        "(C.isnull().sum() / C.isnull().count()).sort_values(ascending=False)"
      ],
      "metadata": {
        "colab": {
          "base_uri": "https://localhost:8080/"
        },
        "id": "y9F7vvXVSAbC",
        "outputId": "8cec3f62-99e8-401d-e89d-a726a7f206d3"
      },
      "execution_count": 30,
      "outputs": [
        {
          "output_type": "execute_result",
          "data": {
            "text/plain": [
              "Carport                      0.991224\n",
              "                             0.978223\n",
              "Has garage                   0.958851\n",
              "Carport spaces               0.947344\n",
              "Other parking information    0.928492\n",
              "Uncovered spaces             0.911916\n",
              "Has uncovered spaces         0.795619\n",
              "Garage spaces                0.394331\n",
              "Covered spaces               0.376845\n",
              "Total spaces                 0.280699\n",
              "Parking features             0.095820\n",
              "dtype: float64"
            ]
          },
          "metadata": {},
          "execution_count": 30
        }
      ]
    },
    {
      "cell_type": "code",
      "source": [
        "# Concat useful and non-duplicate column\n",
        "dff = pd.concat([dff, C[\"Parking features\"]], axis=1)\n",
        "dff = pd.concat([dff, C[\"Covered spaces\"]], axis=1)\n",
        "dff = pd.concat([dff, C[\"Garage spaces\"]], axis=1)\n",
        "dff = pd.concat([dff, C[\"Total spaces\"]], axis=1)"
      ],
      "metadata": {
        "id": "UW2PJFZvSR-M"
      },
      "execution_count": 31,
      "outputs": []
    },
    {
      "cell_type": "code",
      "source": [
        "# Flatten 'Lot'\n",
        "D = pd.DataFrame([flatten_json(x) for x in dff['Lot']])\n",
        "D.head()"
      ],
      "metadata": {
        "colab": {
          "base_uri": "https://localhost:8080/",
          "height": 206
        },
        "id": "6hmmREKuS34k",
        "outputId": "ed286684-8ca1-4be6-f8df-5a18f190e12f"
      },
      "execution_count": 32,
      "outputs": [
        {
          "output_type": "execute_result",
          "data": {
            "text/plain": [
              "     Lot size Lot size dimensions Lot features     \n",
              "0  2,400 sqft                 NaN          NaN  NaN\n",
              "1  3,998 sqft                 NaN          NaN  NaN\n",
              "2  6,903 sqft            59 x 117          NaN  NaN\n",
              "3         NaN                 NaN          NaN  NaN\n",
              "4  2,697 sqft                 NaN          NaN  NaN"
            ],
            "text/html": [
              "\n",
              "  <div id=\"df-bc4e1f48-1562-4a9a-8dd6-b347128615ab\">\n",
              "    <div class=\"colab-df-container\">\n",
              "      <div>\n",
              "<style scoped>\n",
              "    .dataframe tbody tr th:only-of-type {\n",
              "        vertical-align: middle;\n",
              "    }\n",
              "\n",
              "    .dataframe tbody tr th {\n",
              "        vertical-align: top;\n",
              "    }\n",
              "\n",
              "    .dataframe thead th {\n",
              "        text-align: right;\n",
              "    }\n",
              "</style>\n",
              "<table border=\"1\" class=\"dataframe\">\n",
              "  <thead>\n",
              "    <tr style=\"text-align: right;\">\n",
              "      <th></th>\n",
              "      <th>Lot size</th>\n",
              "      <th>Lot size dimensions</th>\n",
              "      <th>Lot features</th>\n",
              "      <th></th>\n",
              "    </tr>\n",
              "  </thead>\n",
              "  <tbody>\n",
              "    <tr>\n",
              "      <th>0</th>\n",
              "      <td>2,400 sqft</td>\n",
              "      <td>NaN</td>\n",
              "      <td>NaN</td>\n",
              "      <td>NaN</td>\n",
              "    </tr>\n",
              "    <tr>\n",
              "      <th>1</th>\n",
              "      <td>3,998 sqft</td>\n",
              "      <td>NaN</td>\n",
              "      <td>NaN</td>\n",
              "      <td>NaN</td>\n",
              "    </tr>\n",
              "    <tr>\n",
              "      <th>2</th>\n",
              "      <td>6,903 sqft</td>\n",
              "      <td>59 x 117</td>\n",
              "      <td>NaN</td>\n",
              "      <td>NaN</td>\n",
              "    </tr>\n",
              "    <tr>\n",
              "      <th>3</th>\n",
              "      <td>NaN</td>\n",
              "      <td>NaN</td>\n",
              "      <td>NaN</td>\n",
              "      <td>NaN</td>\n",
              "    </tr>\n",
              "    <tr>\n",
              "      <th>4</th>\n",
              "      <td>2,697 sqft</td>\n",
              "      <td>NaN</td>\n",
              "      <td>NaN</td>\n",
              "      <td>NaN</td>\n",
              "    </tr>\n",
              "  </tbody>\n",
              "</table>\n",
              "</div>\n",
              "      <button class=\"colab-df-convert\" onclick=\"convertToInteractive('df-bc4e1f48-1562-4a9a-8dd6-b347128615ab')\"\n",
              "              title=\"Convert this dataframe to an interactive table.\"\n",
              "              style=\"display:none;\">\n",
              "        \n",
              "  <svg xmlns=\"http://www.w3.org/2000/svg\" height=\"24px\"viewBox=\"0 0 24 24\"\n",
              "       width=\"24px\">\n",
              "    <path d=\"M0 0h24v24H0V0z\" fill=\"none\"/>\n",
              "    <path d=\"M18.56 5.44l.94 2.06.94-2.06 2.06-.94-2.06-.94-.94-2.06-.94 2.06-2.06.94zm-11 1L8.5 8.5l.94-2.06 2.06-.94-2.06-.94L8.5 2.5l-.94 2.06-2.06.94zm10 10l.94 2.06.94-2.06 2.06-.94-2.06-.94-.94-2.06-.94 2.06-2.06.94z\"/><path d=\"M17.41 7.96l-1.37-1.37c-.4-.4-.92-.59-1.43-.59-.52 0-1.04.2-1.43.59L10.3 9.45l-7.72 7.72c-.78.78-.78 2.05 0 2.83L4 21.41c.39.39.9.59 1.41.59.51 0 1.02-.2 1.41-.59l7.78-7.78 2.81-2.81c.8-.78.8-2.07 0-2.86zM5.41 20L4 18.59l7.72-7.72 1.47 1.35L5.41 20z\"/>\n",
              "  </svg>\n",
              "      </button>\n",
              "      \n",
              "  <style>\n",
              "    .colab-df-container {\n",
              "      display:flex;\n",
              "      flex-wrap:wrap;\n",
              "      gap: 12px;\n",
              "    }\n",
              "\n",
              "    .colab-df-convert {\n",
              "      background-color: #E8F0FE;\n",
              "      border: none;\n",
              "      border-radius: 50%;\n",
              "      cursor: pointer;\n",
              "      display: none;\n",
              "      fill: #1967D2;\n",
              "      height: 32px;\n",
              "      padding: 0 0 0 0;\n",
              "      width: 32px;\n",
              "    }\n",
              "\n",
              "    .colab-df-convert:hover {\n",
              "      background-color: #E2EBFA;\n",
              "      box-shadow: 0px 1px 2px rgba(60, 64, 67, 0.3), 0px 1px 3px 1px rgba(60, 64, 67, 0.15);\n",
              "      fill: #174EA6;\n",
              "    }\n",
              "\n",
              "    [theme=dark] .colab-df-convert {\n",
              "      background-color: #3B4455;\n",
              "      fill: #D2E3FC;\n",
              "    }\n",
              "\n",
              "    [theme=dark] .colab-df-convert:hover {\n",
              "      background-color: #434B5C;\n",
              "      box-shadow: 0px 1px 3px 1px rgba(0, 0, 0, 0.15);\n",
              "      filter: drop-shadow(0px 1px 2px rgba(0, 0, 0, 0.3));\n",
              "      fill: #FFFFFF;\n",
              "    }\n",
              "  </style>\n",
              "\n",
              "      <script>\n",
              "        const buttonEl =\n",
              "          document.querySelector('#df-bc4e1f48-1562-4a9a-8dd6-b347128615ab button.colab-df-convert');\n",
              "        buttonEl.style.display =\n",
              "          google.colab.kernel.accessAllowed ? 'block' : 'none';\n",
              "\n",
              "        async function convertToInteractive(key) {\n",
              "          const element = document.querySelector('#df-bc4e1f48-1562-4a9a-8dd6-b347128615ab');\n",
              "          const dataTable =\n",
              "            await google.colab.kernel.invokeFunction('convertToInteractive',\n",
              "                                                     [key], {});\n",
              "          if (!dataTable) return;\n",
              "\n",
              "          const docLinkHtml = 'Like what you see? Visit the ' +\n",
              "            '<a target=\"_blank\" href=https://colab.research.google.com/notebooks/data_table.ipynb>data table notebook</a>'\n",
              "            + ' to learn more about interactive tables.';\n",
              "          element.innerHTML = '';\n",
              "          dataTable['output_type'] = 'display_data';\n",
              "          await google.colab.output.renderOutput(dataTable, element);\n",
              "          const docLink = document.createElement('div');\n",
              "          docLink.innerHTML = docLinkHtml;\n",
              "          element.appendChild(docLink);\n",
              "        }\n",
              "      </script>\n",
              "    </div>\n",
              "  </div>\n",
              "  "
            ]
          },
          "metadata": {},
          "execution_count": 32
        }
      ]
    },
    {
      "cell_type": "code",
      "source": [
        "# Checking null values percentage\n",
        "plt.figure(figsize=(12,6))\n",
        "msno = sns.heatmap(D.isnull(), yticklabels=False, cbar=False, cmap = 'viridis')"
      ],
      "metadata": {
        "colab": {
          "base_uri": "https://localhost:8080/",
          "height": 377
        },
        "id": "SslHMLz6kfje",
        "outputId": "778e1dce-8302-452d-a9d0-010216eb2282"
      },
      "execution_count": 33,
      "outputs": [
        {
          "output_type": "display_data",
          "data": {
            "text/plain": [
              "<Figure size 864x432 with 1 Axes>"
            ],
            "image/png": "[encoded data removed]"
          },
          "metadata": {
            "needs_background": "light"
          }
        }
      ]
    },
    {
      "cell_type": "code",
      "source": [
        "(D.isnull().sum() / D.isnull().count()).sort_values(ascending=False)"
      ],
      "metadata": {
        "colab": {
          "base_uri": "https://localhost:8080/"
        },
        "id": "-HcQEXC4W7JE",
        "outputId": "b0d58d9c-bef3-41bb-b45f-305fc17ea76e"
      },
      "execution_count": 34,
      "outputs": [
        {
          "output_type": "execute_result",
          "data": {
            "text/plain": [
              "                       0.996360\n",
              "Lot size dimensions    0.707989\n",
              "Lot features           0.457973\n",
              "Lot size               0.105246\n",
              "dtype: float64"
            ]
          },
          "metadata": {},
          "execution_count": 34
        }
      ]
    },
    {
      "cell_type": "code",
      "source": [
        "dff = pd.concat([dff, D[\"Lot features\"]], axis=1)"
      ],
      "metadata": {
        "id": "lXnS-MR2BV_6"
      },
      "execution_count": 35,
      "outputs": []
    },
    {
      "cell_type": "code",
      "source": [
        "# Flatten 'Other property information'\n",
        "E = pd.DataFrame([flatten_json(x) for x in dff['Other property information']])\n",
        "E.head()"
      ],
      "metadata": {
        "colab": {
          "base_uri": "https://localhost:8080/",
          "height": 322
        },
        "id": "GyC3dQSEXCUW",
        "outputId": "d7340893-2f71-482a-ed11-9952d56aebe8"
      },
      "execution_count": 36,
      "outputs": [
        {
          "output_type": "execute_result",
          "data": {
            "text/plain": [
              "  Lease amount Special conditions Parcel number Zoning Inclusions       \\\n",
              "0           $0         Short Sale           NaN    NaN        NaN  NaN   \n",
              "1           $0         Short Sale   122940051.0    NaN        NaN  NaN   \n",
              "2          NaN                NaN    07495-0001    R3X        NaN  NaN   \n",
              "3          NaN                NaN           NaN    NaN        NaN  NaN   \n",
              "4          NaN                NaN    66060137.0    NaN        NaN  NaN   \n",
              "\n",
              "  Zoning description Additional structures included  \\\n",
              "0                NaN                            NaN   \n",
              "1                NaN                            NaN   \n",
              "2                NaN                            NaN   \n",
              "3                NaN                            NaN   \n",
              "4                NaN                            NaN   \n",
              "\n",
              "  Attached to another structure Other equipment Exclusions  \\\n",
              "0                           NaN             NaN        NaN   \n",
              "1                           NaN             NaN        NaN   \n",
              "2                           NaN             NaN        NaN   \n",
              "3                           NaN             NaN        NaN   \n",
              "4                           NaN             NaN        NaN   \n",
              "\n",
              "  Additional parcel(s) included Raise horse On leased land Horse amenities  \n",
              "0                           NaN         NaN            NaN             NaN  \n",
              "1                           NaN         NaN            NaN             NaN  \n",
              "2                           NaN         NaN            NaN             NaN  \n",
              "3                           NaN         NaN            NaN             NaN  \n",
              "4                           NaN         NaN            NaN             NaN  "
            ],
            "text/html": [
              "\n",
              "  <div id=\"df-be3d62f6-9bec-4ba9-b16e-618825a5f511\">\n",
              "    <div class=\"colab-df-container\">\n",
              "      <div>\n",
              "<style scoped>\n",
              "    .dataframe tbody tr th:only-of-type {\n",
              "        vertical-align: middle;\n",
              "    }\n",
              "\n",
              "    .dataframe tbody tr th {\n",
              "        vertical-align: top;\n",
              "    }\n",
              "\n",
              "    .dataframe thead th {\n",
              "        text-align: right;\n",
              "    }\n",
              "</style>\n",
              "<table border=\"1\" class=\"dataframe\">\n",
              "  <thead>\n",
              "    <tr style=\"text-align: right;\">\n",
              "      <th></th>\n",
              "      <th>Lease amount</th>\n",
              "      <th>Special conditions</th>\n",
              "      <th>Parcel number</th>\n",
              "      <th>Zoning</th>\n",
              "      <th>Inclusions</th>\n",
              "      <th></th>\n",
              "      <th>Zoning description</th>\n",
              "      <th>Additional structures included</th>\n",
              "      <th>Attached to another structure</th>\n",
              "      <th>Other equipment</th>\n",
              "      <th>Exclusions</th>\n",
              "      <th>Additional parcel(s) included</th>\n",
              "      <th>Raise horse</th>\n",
              "      <th>On leased land</th>\n",
              "      <th>Horse amenities</th>\n",
              "    </tr>\n",
              "  </thead>\n",
              "  <tbody>\n",
              "    <tr>\n",
              "      <th>0</th>\n",
              "      <td>$0</td>\n",
              "      <td>Short Sale</td>\n",
              "      <td>NaN</td>\n",
              "      <td>NaN</td>\n",
              "      <td>NaN</td>\n",
              "      <td>NaN</td>\n",
              "      <td>NaN</td>\n",
              "      <td>NaN</td>\n",
              "      <td>NaN</td>\n",
              "      <td>NaN</td>\n",
              "      <td>NaN</td>\n",
              "      <td>NaN</td>\n",
              "      <td>NaN</td>\n",
              "      <td>NaN</td>\n",
              "      <td>NaN</td>\n",
              "    </tr>\n",
              "    <tr>\n",
              "      <th>1</th>\n",
              "      <td>$0</td>\n",
              "      <td>Short Sale</td>\n",
              "      <td>122940051.0</td>\n",
              "      <td>NaN</td>\n",
              "      <td>NaN</td>\n",
              "      <td>NaN</td>\n",
              "      <td>NaN</td>\n",
              "      <td>NaN</td>\n",
              "      <td>NaN</td>\n",
              "      <td>NaN</td>\n",
              "      <td>NaN</td>\n",
              "      <td>NaN</td>\n",
              "      <td>NaN</td>\n",
              "      <td>NaN</td>\n",
              "      <td>NaN</td>\n",
              "    </tr>\n",
              "    <tr>\n",
              "      <th>2</th>\n",
              "      <td>NaN</td>\n",
              "      <td>NaN</td>\n",
              "      <td>07495-0001</td>\n",
              "      <td>R3X</td>\n",
              "      <td>NaN</td>\n",
              "      <td>NaN</td>\n",
              "      <td>NaN</td>\n",
              "      <td>NaN</td>\n",
              "      <td>NaN</td>\n",
              "      <td>NaN</td>\n",
              "      <td>NaN</td>\n",
              "      <td>NaN</td>\n",
              "      <td>NaN</td>\n",
              "      <td>NaN</td>\n",
              "      <td>NaN</td>\n",
              "    </tr>\n",
              "    <tr>\n",
              "      <th>3</th>\n",
              "      <td>NaN</td>\n",
              "      <td>NaN</td>\n",
              "      <td>NaN</td>\n",
              "      <td>NaN</td>\n",
              "      <td>NaN</td>\n",
              "      <td>NaN</td>\n",
              "      <td>NaN</td>\n",
              "      <td>NaN</td>\n",
              "      <td>NaN</td>\n",
              "      <td>NaN</td>\n",
              "      <td>NaN</td>\n",
              "      <td>NaN</td>\n",
              "      <td>NaN</td>\n",
              "      <td>NaN</td>\n",
              "      <td>NaN</td>\n",
              "    </tr>\n",
              "    <tr>\n",
              "      <th>4</th>\n",
              "      <td>NaN</td>\n",
              "      <td>NaN</td>\n",
              "      <td>66060137.0</td>\n",
              "      <td>NaN</td>\n",
              "      <td>NaN</td>\n",
              "      <td>NaN</td>\n",
              "      <td>NaN</td>\n",
              "      <td>NaN</td>\n",
              "      <td>NaN</td>\n",
              "      <td>NaN</td>\n",
              "      <td>NaN</td>\n",
              "      <td>NaN</td>\n",
              "      <td>NaN</td>\n",
              "      <td>NaN</td>\n",
              "      <td>NaN</td>\n",
              "    </tr>\n",
              "  </tbody>\n",
              "</table>\n",
              "</div>\n",
              "      <button class=\"colab-df-convert\" onclick=\"convertToInteractive('df-be3d62f6-9bec-4ba9-b16e-618825a5f511')\"\n",
              "              title=\"Convert this dataframe to an interactive table.\"\n",
              "              style=\"display:none;\">\n",
              "        \n",
              "  <svg xmlns=\"http://www.w3.org/2000/svg\" height=\"24px\"viewBox=\"0 0 24 24\"\n",
              "       width=\"24px\">\n",
              "    <path d=\"M0 0h24v24H0V0z\" fill=\"none\"/>\n",
              "    <path d=\"M18.56 5.44l.94 2.06.94-2.06 2.06-.94-2.06-.94-.94-2.06-.94 2.06-2.06.94zm-11 1L8.5 8.5l.94-2.06 2.06-.94-2.06-.94L8.5 2.5l-.94 2.06-2.06.94zm10 10l.94 2.06.94-2.06 2.06-.94-2.06-.94-.94-2.06-.94 2.06-2.06.94z\"/><path d=\"M17.41 7.96l-1.37-1.37c-.4-.4-.92-.59-1.43-.59-.52 0-1.04.2-1.43.59L10.3 9.45l-7.72 7.72c-.78.78-.78 2.05 0 2.83L4 21.41c.39.39.9.59 1.41.59.51 0 1.02-.2 1.41-.59l7.78-7.78 2.81-2.81c.8-.78.8-2.07 0-2.86zM5.41 20L4 18.59l7.72-7.72 1.47 1.35L5.41 20z\"/>\n",
              "  </svg>\n",
              "      </button>\n",
              "      \n",
              "  <style>\n",
              "    .colab-df-container {\n",
              "      display:flex;\n",
              "      flex-wrap:wrap;\n",
              "      gap: 12px;\n",
              "    }\n",
              "\n",
              "    .colab-df-convert {\n",
              "      background-color: #E8F0FE;\n",
              "      border: none;\n",
              "      border-radius: 50%;\n",
              "      cursor: pointer;\n",
              "      display: none;\n",
              "      fill: #1967D2;\n",
              "      height: 32px;\n",
              "      padding: 0 0 0 0;\n",
              "      width: 32px;\n",
              "    }\n",
              "\n",
              "    .colab-df-convert:hover {\n",
              "      background-color: #E2EBFA;\n",
              "      box-shadow: 0px 1px 2px rgba(60, 64, 67, 0.3), 0px 1px 3px 1px rgba(60, 64, 67, 0.15);\n",
              "      fill: #174EA6;\n",
              "    }\n",
              "\n",
              "    [theme=dark] .colab-df-convert {\n",
              "      background-color: #3B4455;\n",
              "      fill: #D2E3FC;\n",
              "    }\n",
              "\n",
              "    [theme=dark] .colab-df-convert:hover {\n",
              "      background-color: #434B5C;\n",
              "      box-shadow: 0px 1px 3px 1px rgba(0, 0, 0, 0.15);\n",
              "      filter: drop-shadow(0px 1px 2px rgba(0, 0, 0, 0.3));\n",
              "      fill: #FFFFFF;\n",
              "    }\n",
              "  </style>\n",
              "\n",
              "      <script>\n",
              "        const buttonEl =\n",
              "          document.querySelector('#df-be3d62f6-9bec-4ba9-b16e-618825a5f511 button.colab-df-convert');\n",
              "        buttonEl.style.display =\n",
              "          google.colab.kernel.accessAllowed ? 'block' : 'none';\n",
              "\n",
              "        async function convertToInteractive(key) {\n",
              "          const element = document.querySelector('#df-be3d62f6-9bec-4ba9-b16e-618825a5f511');\n",
              "          const dataTable =\n",
              "            await google.colab.kernel.invokeFunction('convertToInteractive',\n",
              "                                                     [key], {});\n",
              "          if (!dataTable) return;\n",
              "\n",
              "          const docLinkHtml = 'Like what you see? Visit the ' +\n",
              "            '<a target=\"_blank\" href=https://colab.research.google.com/notebooks/data_table.ipynb>data table notebook</a>'\n",
              "            + ' to learn more about interactive tables.';\n",
              "          element.innerHTML = '';\n",
              "          dataTable['output_type'] = 'display_data';\n",
              "          await google.colab.output.renderOutput(dataTable, element);\n",
              "          const docLink = document.createElement('div');\n",
              "          docLink.innerHTML = docLinkHtml;\n",
              "          element.appendChild(docLink);\n",
              "        }\n",
              "      </script>\n",
              "    </div>\n",
              "  </div>\n",
              "  "
            ]
          },
          "metadata": {},
          "execution_count": 36
        }
      ]
    },
    {
      "cell_type": "code",
      "source": [
        "# Checking null values percentage\n",
        "plt.figure(figsize=(12,6))\n",
        "msno = sns.heatmap(E.isnull(), yticklabels=False, cbar=False, cmap = 'viridis')"
      ],
      "metadata": {
        "colab": {
          "base_uri": "https://localhost:8080/",
          "height": 545
        },
        "id": "6Svi0tkbk3PO",
        "outputId": "51bf690a-0706-46cc-9d25-ade8fd793c99"
      },
      "execution_count": 37,
      "outputs": [
        {
          "output_type": "display_data",
          "data": {
            "text/plain": [
              "<Figure size 864x432 with 1 Axes>"
            ],
            "image/png": "[encoded data removed]"
          },
          "metadata": {
            "needs_background": "light"
          }
        }
      ]
    },
    {
      "cell_type": "code",
      "source": [
        "# Cannot use any of these columns\n",
        "(E.isnull().sum() / E.isnull().count()).sort_values(ascending=False)"
      ],
      "metadata": {
        "colab": {
          "base_uri": "https://localhost:8080/"
        },
        "id": "_XNuVCVwXgpZ",
        "outputId": "901e5de5-f9cb-4b32-9a82-d844de66563a"
      },
      "execution_count": 38,
      "outputs": [
        {
          "output_type": "execute_result",
          "data": {
            "text/plain": [
              "On leased land                    0.999025\n",
              "Horse amenities                   0.998830\n",
              "Raise horse                       0.997010\n",
              "Additional parcel(s) included     0.992199\n",
              "Lease amount                      0.991419\n",
              "                                  0.991224\n",
              "Zoning description                0.966977\n",
              "Exclusions                        0.944354\n",
              "Inclusions                        0.931678\n",
              "Other equipment                   0.919457\n",
              "Attached to another structure     0.917766\n",
              "Additional structures included    0.777807\n",
              "Zoning                            0.715725\n",
              "Special conditions                0.584346\n",
              "Parcel number                     0.057661\n",
              "dtype: float64"
            ]
          },
          "metadata": {},
          "execution_count": 38
        }
      ]
    },
    {
      "cell_type": "code",
      "source": [
        "# Flatten 'Type and style'\n",
        "F = pd.DataFrame([flatten_json(x) for x in dff['Type and style']])\n",
        "F.head()"
      ],
      "metadata": {
        "colab": {
          "base_uri": "https://localhost:8080/",
          "height": 206
        },
        "id": "XOywckZaYKO7",
        "outputId": "66babece-434a-414c-cf23-a9d29fba5b09"
      },
      "execution_count": 39,
      "outputs": [
        {
          "output_type": "execute_result",
          "data": {
            "text/plain": [
              "      Home type Architectural style          Property subType\n",
              "0  SingleFamily                 NaN                       NaN\n",
              "1  SingleFamily                 NaN                       NaN\n",
              "2  SingleFamily            Colonial  Single Family - Detached\n",
              "3           NaN                 NaN                       NaN\n",
              "4  SingleFamily                 NaN                       NaN"
            ],
            "text/html": [
              "\n",
              "  <div id=\"df-7008ec95-260b-4eb5-b571-681783fa9fd6\">\n",
              "    <div class=\"colab-df-container\">\n",
              "      <div>\n",
              "<style scoped>\n",
              "    .dataframe tbody tr th:only-of-type {\n",
              "        vertical-align: middle;\n",
              "    }\n",
              "\n",
              "    .dataframe tbody tr th {\n",
              "        vertical-align: top;\n",
              "    }\n",
              "\n",
              "    .dataframe thead th {\n",
              "        text-align: right;\n",
              "    }\n",
              "</style>\n",
              "<table border=\"1\" class=\"dataframe\">\n",
              "  <thead>\n",
              "    <tr style=\"text-align: right;\">\n",
              "      <th></th>\n",
              "      <th>Home type</th>\n",
              "      <th>Architectural style</th>\n",
              "      <th>Property subType</th>\n",
              "    </tr>\n",
              "  </thead>\n",
              "  <tbody>\n",
              "    <tr>\n",
              "      <th>0</th>\n",
              "      <td>SingleFamily</td>\n",
              "      <td>NaN</td>\n",
              "      <td>NaN</td>\n",
              "    </tr>\n",
              "    <tr>\n",
              "      <th>1</th>\n",
              "      <td>SingleFamily</td>\n",
              "      <td>NaN</td>\n",
              "      <td>NaN</td>\n",
              "    </tr>\n",
              "    <tr>\n",
              "      <th>2</th>\n",
              "      <td>SingleFamily</td>\n",
              "      <td>Colonial</td>\n",
              "      <td>Single Family - Detached</td>\n",
              "    </tr>\n",
              "    <tr>\n",
              "      <th>3</th>\n",
              "      <td>NaN</td>\n",
              "      <td>NaN</td>\n",
              "      <td>NaN</td>\n",
              "    </tr>\n",
              "    <tr>\n",
              "      <th>4</th>\n",
              "      <td>SingleFamily</td>\n",
              "      <td>NaN</td>\n",
              "      <td>NaN</td>\n",
              "    </tr>\n",
              "  </tbody>\n",
              "</table>\n",
              "</div>\n",
              "      <button class=\"colab-df-convert\" onclick=\"convertToInteractive('df-7008ec95-260b-4eb5-b571-681783fa9fd6')\"\n",
              "              title=\"Convert this dataframe to an interactive table.\"\n",
              "              style=\"display:none;\">\n",
              "        \n",
              "  <svg xmlns=\"http://www.w3.org/2000/svg\" height=\"24px\"viewBox=\"0 0 24 24\"\n",
              "       width=\"24px\">\n",
              "    <path d=\"M0 0h24v24H0V0z\" fill=\"none\"/>\n",
              "    <path d=\"M18.56 5.44l.94 2.06.94-2.06 2.06-.94-2.06-.94-.94-2.06-.94 2.06-2.06.94zm-11 1L8.5 8.5l.94-2.06 2.06-.94-2.06-.94L8.5 2.5l-.94 2.06-2.06.94zm10 10l.94 2.06.94-2.06 2.06-.94-2.06-.94-.94-2.06-.94 2.06-2.06.94z\"/><path d=\"M17.41 7.96l-1.37-1.37c-.4-.4-.92-.59-1.43-.59-.52 0-1.04.2-1.43.59L10.3 9.45l-7.72 7.72c-.78.78-.78 2.05 0 2.83L4 21.41c.39.39.9.59 1.41.59.51 0 1.02-.2 1.41-.59l7.78-7.78 2.81-2.81c.8-.78.8-2.07 0-2.86zM5.41 20L4 18.59l7.72-7.72 1.47 1.35L5.41 20z\"/>\n",
              "  </svg>\n",
              "      </button>\n",
              "      \n",
              "  <style>\n",
              "    .colab-df-container {\n",
              "      display:flex;\n",
              "      flex-wrap:wrap;\n",
              "      gap: 12px;\n",
              "    }\n",
              "\n",
              "    .colab-df-convert {\n",
              "      background-color: #E8F0FE;\n",
              "      border: none;\n",
              "      border-radius: 50%;\n",
              "      cursor: pointer;\n",
              "      display: none;\n",
              "      fill: #1967D2;\n",
              "      height: 32px;\n",
              "      padding: 0 0 0 0;\n",
              "      width: 32px;\n",
              "    }\n",
              "\n",
              "    .colab-df-convert:hover {\n",
              "      background-color: #E2EBFA;\n",
              "      box-shadow: 0px 1px 2px rgba(60, 64, 67, 0.3), 0px 1px 3px 1px rgba(60, 64, 67, 0.15);\n",
              "      fill: #174EA6;\n",
              "    }\n",
              "\n",
              "    [theme=dark] .colab-df-convert {\n",
              "      background-color: #3B4455;\n",
              "      fill: #D2E3FC;\n",
              "    }\n",
              "\n",
              "    [theme=dark] .colab-df-convert:hover {\n",
              "      background-color: #434B5C;\n",
              "      box-shadow: 0px 1px 3px 1px rgba(0, 0, 0, 0.15);\n",
              "      filter: drop-shadow(0px 1px 2px rgba(0, 0, 0, 0.3));\n",
              "      fill: #FFFFFF;\n",
              "    }\n",
              "  </style>\n",
              "\n",
              "      <script>\n",
              "        const buttonEl =\n",
              "          document.querySelector('#df-7008ec95-260b-4eb5-b571-681783fa9fd6 button.colab-df-convert');\n",
              "        buttonEl.style.display =\n",
              "          google.colab.kernel.accessAllowed ? 'block' : 'none';\n",
              "\n",
              "        async function convertToInteractive(key) {\n",
              "          const element = document.querySelector('#df-7008ec95-260b-4eb5-b571-681783fa9fd6');\n",
              "          const dataTable =\n",
              "            await google.colab.kernel.invokeFunction('convertToInteractive',\n",
              "                                                     [key], {});\n",
              "          if (!dataTable) return;\n",
              "\n",
              "          const docLinkHtml = 'Like what you see? Visit the ' +\n",
              "            '<a target=\"_blank\" href=https://colab.research.google.com/notebooks/data_table.ipynb>data table notebook</a>'\n",
              "            + ' to learn more about interactive tables.';\n",
              "          element.innerHTML = '';\n",
              "          dataTable['output_type'] = 'display_data';\n",
              "          await google.colab.output.renderOutput(dataTable, element);\n",
              "          const docLink = document.createElement('div');\n",
              "          docLink.innerHTML = docLinkHtml;\n",
              "          element.appendChild(docLink);\n",
              "        }\n",
              "      </script>\n",
              "    </div>\n",
              "  </div>\n",
              "  "
            ]
          },
          "metadata": {},
          "execution_count": 39
        }
      ]
    },
    {
      "cell_type": "code",
      "source": [
        "# Checking null values percentage\n",
        "plt.figure(figsize=(12,6))\n",
        "msno = sns.heatmap(F.isnull(), yticklabels=False, cbar=False, cmap = 'viridis')"
      ],
      "metadata": {
        "colab": {
          "base_uri": "https://localhost:8080/",
          "height": 377
        },
        "id": "Uf7N2ZWbk_7D",
        "outputId": "fa6e52e9-dae9-4a1a-9136-23829e2f681c"
      },
      "execution_count": 40,
      "outputs": [
        {
          "output_type": "display_data",
          "data": {
            "text/plain": [
              "<Figure size 864x432 with 1 Axes>"
            ],
            "image/png": "[encoded data removed]"
          },
          "metadata": {
            "needs_background": "light"
          }
        }
      ]
    },
    {
      "cell_type": "code",
      "source": [
        "(F.isnull().sum() / F.isnull().count()).sort_values(ascending=False)"
      ],
      "metadata": {
        "colab": {
          "base_uri": "https://localhost:8080/"
        },
        "id": "pABaFQqRYifb",
        "outputId": "2f781dd7-966c-4b6a-d67b-435e56198af8"
      },
      "execution_count": 41,
      "outputs": [
        {
          "output_type": "execute_result",
          "data": {
            "text/plain": [
              "Architectural style    0.406163\n",
              "Property subType       0.071833\n",
              "Home type              0.034584\n",
              "dtype: float64"
            ]
          },
          "metadata": {},
          "execution_count": 41
        }
      ]
    },
    {
      "cell_type": "code",
      "source": [
        "# Concat useful and non-duplicate column\n",
        "dff = pd.concat([dff, F[\"Property subType\"]], axis=1)\n",
        "dff = pd.concat([dff, F[\"Architectural style\"]], axis=1)"
      ],
      "metadata": {
        "id": "cbx9H1e8YvgY"
      },
      "execution_count": 42,
      "outputs": []
    },
    {
      "cell_type": "code",
      "source": [
        "# Flatten 'Condition'\n",
        "G = pd.DataFrame([flatten_json(x) for x in dff['Condition']])\n",
        "G.head()"
      ],
      "metadata": {
        "colab": {
          "base_uri": "https://localhost:8080/",
          "height": 206
        },
        "id": "IPCWBRACZxIY",
        "outputId": "d98100f3-2bbd-4b4a-b5d3-0dd741af0547"
      },
      "execution_count": 43,
      "outputs": [
        {
          "output_type": "execute_result",
          "data": {
            "text/plain": [
              "  New construction  Year built  Property condition\n",
              "0               No      1930.0                 NaN\n",
              "1               No      1950.0                 NaN\n",
              "2               No      1899.0  Existing,Excellent\n",
              "3              NaN         NaN                 NaN\n",
              "4               No      1945.0                 NaN"
            ],
            "text/html": [
              "\n",
              "  <div id=\"df-adb8d5c9-4a60-4f2d-989b-0c50c630d8fe\">\n",
              "    <div class=\"colab-df-container\">\n",
              "      <div>\n",
              "<style scoped>\n",
              "    .dataframe tbody tr th:only-of-type {\n",
              "        vertical-align: middle;\n",
              "    }\n",
              "\n",
              "    .dataframe tbody tr th {\n",
              "        vertical-align: top;\n",
              "    }\n",
              "\n",
              "    .dataframe thead th {\n",
              "        text-align: right;\n",
              "    }\n",
              "</style>\n",
              "<table border=\"1\" class=\"dataframe\">\n",
              "  <thead>\n",
              "    <tr style=\"text-align: right;\">\n",
              "      <th></th>\n",
              "      <th>New construction</th>\n",
              "      <th>Year built</th>\n",
              "      <th>Property condition</th>\n",
              "    </tr>\n",
              "  </thead>\n",
              "  <tbody>\n",
              "    <tr>\n",
              "      <th>0</th>\n",
              "      <td>No</td>\n",
              "      <td>1930.0</td>\n",
              "      <td>NaN</td>\n",
              "    </tr>\n",
              "    <tr>\n",
              "      <th>1</th>\n",
              "      <td>No</td>\n",
              "      <td>1950.0</td>\n",
              "      <td>NaN</td>\n",
              "    </tr>\n",
              "    <tr>\n",
              "      <th>2</th>\n",
              "      <td>No</td>\n",
              "      <td>1899.0</td>\n",
              "      <td>Existing,Excellent</td>\n",
              "    </tr>\n",
              "    <tr>\n",
              "      <th>3</th>\n",
              "      <td>NaN</td>\n",
              "      <td>NaN</td>\n",
              "      <td>NaN</td>\n",
              "    </tr>\n",
              "    <tr>\n",
              "      <th>4</th>\n",
              "      <td>No</td>\n",
              "      <td>1945.0</td>\n",
              "      <td>NaN</td>\n",
              "    </tr>\n",
              "  </tbody>\n",
              "</table>\n",
              "</div>\n",
              "      <button class=\"colab-df-convert\" onclick=\"convertToInteractive('df-adb8d5c9-4a60-4f2d-989b-0c50c630d8fe')\"\n",
              "              title=\"Convert this dataframe to an interactive table.\"\n",
              "              style=\"display:none;\">\n",
              "        \n",
              "  <svg xmlns=\"http://www.w3.org/2000/svg\" height=\"24px\"viewBox=\"0 0 24 24\"\n",
              "       width=\"24px\">\n",
              "    <path d=\"M0 0h24v24H0V0z\" fill=\"none\"/>\n",
              "    <path d=\"M18.56 5.44l.94 2.06.94-2.06 2.06-.94-2.06-.94-.94-2.06-.94 2.06-2.06.94zm-11 1L8.5 8.5l.94-2.06 2.06-.94-2.06-.94L8.5 2.5l-.94 2.06-2.06.94zm10 10l.94 2.06.94-2.06 2.06-.94-2.06-.94-.94-2.06-.94 2.06-2.06.94z\"/><path d=\"M17.41 7.96l-1.37-1.37c-.4-.4-.92-.59-1.43-.59-.52 0-1.04.2-1.43.59L10.3 9.45l-7.72 7.72c-.78.78-.78 2.05 0 2.83L4 21.41c.39.39.9.59 1.41.59.51 0 1.02-.2 1.41-.59l7.78-7.78 2.81-2.81c.8-.78.8-2.07 0-2.86zM5.41 20L4 18.59l7.72-7.72 1.47 1.35L5.41 20z\"/>\n",
              "  </svg>\n",
              "      </button>\n",
              "      \n",
              "  <style>\n",
              "    .colab-df-container {\n",
              "      display:flex;\n",
              "      flex-wrap:wrap;\n",
              "      gap: 12px;\n",
              "    }\n",
              "\n",
              "    .colab-df-convert {\n",
              "      background-color: #E8F0FE;\n",
              "      border: none;\n",
              "      border-radius: 50%;\n",
              "      cursor: pointer;\n",
              "      display: none;\n",
              "      fill: #1967D2;\n",
              "      height: 32px;\n",
              "      padding: 0 0 0 0;\n",
              "      width: 32px;\n",
              "    }\n",
              "\n",
              "    .colab-df-convert:hover {\n",
              "      background-color: #E2EBFA;\n",
              "      box-shadow: 0px 1px 2px rgba(60, 64, 67, 0.3), 0px 1px 3px 1px rgba(60, 64, 67, 0.15);\n",
              "      fill: #174EA6;\n",
              "    }\n",
              "\n",
              "    [theme=dark] .colab-df-convert {\n",
              "      background-color: #3B4455;\n",
              "      fill: #D2E3FC;\n",
              "    }\n",
              "\n",
              "    [theme=dark] .colab-df-convert:hover {\n",
              "      background-color: #434B5C;\n",
              "      box-shadow: 0px 1px 3px 1px rgba(0, 0, 0, 0.15);\n",
              "      filter: drop-shadow(0px 1px 2px rgba(0, 0, 0, 0.3));\n",
              "      fill: #FFFFFF;\n",
              "    }\n",
              "  </style>\n",
              "\n",
              "      <script>\n",
              "        const buttonEl =\n",
              "          document.querySelector('#df-adb8d5c9-4a60-4f2d-989b-0c50c630d8fe button.colab-df-convert');\n",
              "        buttonEl.style.display =\n",
              "          google.colab.kernel.accessAllowed ? 'block' : 'none';\n",
              "\n",
              "        async function convertToInteractive(key) {\n",
              "          const element = document.querySelector('#df-adb8d5c9-4a60-4f2d-989b-0c50c630d8fe');\n",
              "          const dataTable =\n",
              "            await google.colab.kernel.invokeFunction('convertToInteractive',\n",
              "                                                     [key], {});\n",
              "          if (!dataTable) return;\n",
              "\n",
              "          const docLinkHtml = 'Like what you see? Visit the ' +\n",
              "            '<a target=\"_blank\" href=https://colab.research.google.com/notebooks/data_table.ipynb>data table notebook</a>'\n",
              "            + ' to learn more about interactive tables.';\n",
              "          element.innerHTML = '';\n",
              "          dataTable['output_type'] = 'display_data';\n",
              "          await google.colab.output.renderOutput(dataTable, element);\n",
              "          const docLink = document.createElement('div');\n",
              "          docLink.innerHTML = docLinkHtml;\n",
              "          element.appendChild(docLink);\n",
              "        }\n",
              "      </script>\n",
              "    </div>\n",
              "  </div>\n",
              "  "
            ]
          },
          "metadata": {},
          "execution_count": 43
        }
      ]
    },
    {
      "cell_type": "code",
      "source": [
        "# Checking null values percentage\n",
        "plt.figure(figsize=(12,6))\n",
        "msno = sns.heatmap(G.isnull(), yticklabels=False, cbar=False, cmap = 'viridis')"
      ],
      "metadata": {
        "colab": {
          "base_uri": "https://localhost:8080/",
          "height": 377
        },
        "id": "H-kGRTUAlaQv",
        "outputId": "a4bba094-04a9-4921-d6a2-6a65e91ee60e"
      },
      "execution_count": 44,
      "outputs": [
        {
          "output_type": "display_data",
          "data": {
            "text/plain": [
              "<Figure size 864x432 with 1 Axes>"
            ],
            "image/png": "[encoded data removed]"
          },
          "metadata": {
            "needs_background": "light"
          }
        }
      ]
    },
    {
      "cell_type": "code",
      "source": [
        "(G.isnull().sum() / G.isnull().count()).sort_values(ascending=False)"
      ],
      "metadata": {
        "colab": {
          "base_uri": "https://localhost:8080/"
        },
        "id": "SC1qDOEaaEUJ",
        "outputId": "ddd832f9-cab5-4ceb-be81-9ad4b11747f5"
      },
      "execution_count": 45,
      "outputs": [
        {
          "output_type": "execute_result",
          "data": {
            "text/plain": [
              "Property condition    0.828512\n",
              "New construction      0.270558\n",
              "Year built            0.052981\n",
              "dtype: float64"
            ]
          },
          "metadata": {},
          "execution_count": 45
        }
      ]
    },
    {
      "cell_type": "code",
      "source": [
        "# Concat useful and non-duplicate column\n",
        "dff = pd.concat([dff, G[\"Year built\"]], axis=1)"
      ],
      "metadata": {
        "id": "In_jyv3zaSlN"
      },
      "execution_count": 46,
      "outputs": []
    },
    {
      "cell_type": "code",
      "source": [
        "# Flatten 'Utility'\n",
        "H = pd.DataFrame([flatten_json(x) for x in dff['Utility']])\n",
        "H.head()"
      ],
      "metadata": {
        "colab": {
          "base_uri": "https://localhost:8080/",
          "height": 206
        },
        "id": "ewONXzTHabZz",
        "outputId": "2d1bd06e-142c-4137-b4d8-be4dceb5ea9d"
      },
      "execution_count": 47,
      "outputs": [
        {
          "output_type": "execute_result",
          "data": {
            "text/plain": [
              "  Electric information Sewer information Water information  \\\n",
              "0              Amps(0)               NaN               NaN   \n",
              "1              Amps(0)               NaN               NaN   \n",
              "2            220 Volts      Public Sewer               NaN   \n",
              "3                  NaN               NaN               NaN   \n",
              "4                  NaN               NaN               NaN   \n",
              "\n",
              "  Utilities for property Electric utility on property Gas information       \n",
              "0                    NaN                          NaN             NaN  NaN  \n",
              "1                    NaN                          NaN             NaN  NaN  \n",
              "2                    NaN                          NaN             NaN  NaN  \n",
              "3                    NaN                          NaN             NaN  NaN  \n",
              "4                    NaN                          NaN             NaN  NaN  "
            ],
            "text/html": [
              "\n",
              "  <div id=\"df-c65af5d2-2393-4c38-a7cd-26da5c477246\">\n",
              "    <div class=\"colab-df-container\">\n",
              "      <div>\n",
              "<style scoped>\n",
              "    .dataframe tbody tr th:only-of-type {\n",
              "        vertical-align: middle;\n",
              "    }\n",
              "\n",
              "    .dataframe tbody tr th {\n",
              "        vertical-align: top;\n",
              "    }\n",
              "\n",
              "    .dataframe thead th {\n",
              "        text-align: right;\n",
              "    }\n",
              "</style>\n",
              "<table border=\"1\" class=\"dataframe\">\n",
              "  <thead>\n",
              "    <tr style=\"text-align: right;\">\n",
              "      <th></th>\n",
              "      <th>Electric information</th>\n",
              "      <th>Sewer information</th>\n",
              "      <th>Water information</th>\n",
              "      <th>Utilities for property</th>\n",
              "      <th>Electric utility on property</th>\n",
              "      <th>Gas information</th>\n",
              "      <th></th>\n",
              "    </tr>\n",
              "  </thead>\n",
              "  <tbody>\n",
              "    <tr>\n",
              "      <th>0</th>\n",
              "      <td>Amps(0)</td>\n",
              "      <td>NaN</td>\n",
              "      <td>NaN</td>\n",
              "      <td>NaN</td>\n",
              "      <td>NaN</td>\n",
              "      <td>NaN</td>\n",
              "      <td>NaN</td>\n",
              "    </tr>\n",
              "    <tr>\n",
              "      <th>1</th>\n",
              "      <td>Amps(0)</td>\n",
              "      <td>NaN</td>\n",
              "      <td>NaN</td>\n",
              "      <td>NaN</td>\n",
              "      <td>NaN</td>\n",
              "      <td>NaN</td>\n",
              "      <td>NaN</td>\n",
              "    </tr>\n",
              "    <tr>\n",
              "      <th>2</th>\n",
              "      <td>220 Volts</td>\n",
              "      <td>Public Sewer</td>\n",
              "      <td>NaN</td>\n",
              "      <td>NaN</td>\n",
              "      <td>NaN</td>\n",
              "      <td>NaN</td>\n",
              "      <td>NaN</td>\n",
              "    </tr>\n",
              "    <tr>\n",
              "      <th>3</th>\n",
              "      <td>NaN</td>\n",
              "      <td>NaN</td>\n",
              "      <td>NaN</td>\n",
              "      <td>NaN</td>\n",
              "      <td>NaN</td>\n",
              "      <td>NaN</td>\n",
              "      <td>NaN</td>\n",
              "    </tr>\n",
              "    <tr>\n",
              "      <th>4</th>\n",
              "      <td>NaN</td>\n",
              "      <td>NaN</td>\n",
              "      <td>NaN</td>\n",
              "      <td>NaN</td>\n",
              "      <td>NaN</td>\n",
              "      <td>NaN</td>\n",
              "      <td>NaN</td>\n",
              "    </tr>\n",
              "  </tbody>\n",
              "</table>\n",
              "</div>\n",
              "      <button class=\"colab-df-convert\" onclick=\"convertToInteractive('df-c65af5d2-2393-4c38-a7cd-26da5c477246')\"\n",
              "              title=\"Convert this dataframe to an interactive table.\"\n",
              "              style=\"display:none;\">\n",
              "        \n",
              "  <svg xmlns=\"http://www.w3.org/2000/svg\" height=\"24px\"viewBox=\"0 0 24 24\"\n",
              "       width=\"24px\">\n",
              "    <path d=\"M0 0h24v24H0V0z\" fill=\"none\"/>\n",
              "    <path d=\"M18.56 5.44l.94 2.06.94-2.06 2.06-.94-2.06-.94-.94-2.06-.94 2.06-2.06.94zm-11 1L8.5 8.5l.94-2.06 2.06-.94-2.06-.94L8.5 2.5l-.94 2.06-2.06.94zm10 10l.94 2.06.94-2.06 2.06-.94-2.06-.94-.94-2.06-.94 2.06-2.06.94z\"/><path d=\"M17.41 7.96l-1.37-1.37c-.4-.4-.92-.59-1.43-.59-.52 0-1.04.2-1.43.59L10.3 9.45l-7.72 7.72c-.78.78-.78 2.05 0 2.83L4 21.41c.39.39.9.59 1.41.59.51 0 1.02-.2 1.41-.59l7.78-7.78 2.81-2.81c.8-.78.8-2.07 0-2.86zM5.41 20L4 18.59l7.72-7.72 1.47 1.35L5.41 20z\"/>\n",
              "  </svg>\n",
              "      </button>\n",
              "      \n",
              "  <style>\n",
              "    .colab-df-container {\n",
              "      display:flex;\n",
              "      flex-wrap:wrap;\n",
              "      gap: 12px;\n",
              "    }\n",
              "\n",
              "    .colab-df-convert {\n",
              "      background-color: #E8F0FE;\n",
              "      border: none;\n",
              "      border-radius: 50%;\n",
              "      cursor: pointer;\n",
              "      display: none;\n",
              "      fill: #1967D2;\n",
              "      height: 32px;\n",
              "      padding: 0 0 0 0;\n",
              "      width: 32px;\n",
              "    }\n",
              "\n",
              "    .colab-df-convert:hover {\n",
              "      background-color: #E2EBFA;\n",
              "      box-shadow: 0px 1px 2px rgba(60, 64, 67, 0.3), 0px 1px 3px 1px rgba(60, 64, 67, 0.15);\n",
              "      fill: #174EA6;\n",
              "    }\n",
              "\n",
              "    [theme=dark] .colab-df-convert {\n",
              "      background-color: #3B4455;\n",
              "      fill: #D2E3FC;\n",
              "    }\n",
              "\n",
              "    [theme=dark] .colab-df-convert:hover {\n",
              "      background-color: #434B5C;\n",
              "      box-shadow: 0px 1px 3px 1px rgba(0, 0, 0, 0.15);\n",
              "      filter: drop-shadow(0px 1px 2px rgba(0, 0, 0, 0.3));\n",
              "      fill: #FFFFFF;\n",
              "    }\n",
              "  </style>\n",
              "\n",
              "      <script>\n",
              "        const buttonEl =\n",
              "          document.querySelector('#df-c65af5d2-2393-4c38-a7cd-26da5c477246 button.colab-df-convert');\n",
              "        buttonEl.style.display =\n",
              "          google.colab.kernel.accessAllowed ? 'block' : 'none';\n",
              "\n",
              "        async function convertToInteractive(key) {\n",
              "          const element = document.querySelector('#df-c65af5d2-2393-4c38-a7cd-26da5c477246');\n",
              "          const dataTable =\n",
              "            await google.colab.kernel.invokeFunction('convertToInteractive',\n",
              "                                                     [key], {});\n",
              "          if (!dataTable) return;\n",
              "\n",
              "          const docLinkHtml = 'Like what you see? Visit the ' +\n",
              "            '<a target=\"_blank\" href=https://colab.research.google.com/notebooks/data_table.ipynb>data table notebook</a>'\n",
              "            + ' to learn more about interactive tables.';\n",
              "          element.innerHTML = '';\n",
              "          dataTable['output_type'] = 'display_data';\n",
              "          await google.colab.output.renderOutput(dataTable, element);\n",
              "          const docLink = document.createElement('div');\n",
              "          docLink.innerHTML = docLinkHtml;\n",
              "          element.appendChild(docLink);\n",
              "        }\n",
              "      </script>\n",
              "    </div>\n",
              "  </div>\n",
              "  "
            ]
          },
          "metadata": {},
          "execution_count": 47
        }
      ]
    },
    {
      "cell_type": "code",
      "source": [
        "# Checking null values percentage\n",
        "plt.figure(figsize=(12,6))\n",
        "msno = sns.heatmap(H.isnull(), yticklabels=False, cbar=False, cmap = 'viridis')"
      ],
      "metadata": {
        "colab": {
          "base_uri": "https://localhost:8080/",
          "height": 521
        },
        "id": "xW6bfPEJlqg2",
        "outputId": "8cc430d0-1b73-43f1-92b2-1881ef54c8be"
      },
      "execution_count": 48,
      "outputs": [
        {
          "output_type": "display_data",
          "data": {
            "text/plain": [
              "<Figure size 864x432 with 1 Axes>"
            ],
            "image/png": "[encoded data removed]"
          },
          "metadata": {
            "needs_background": "light"
          }
        }
      ]
    },
    {
      "cell_type": "code",
      "source": [
        "(H.isnull().sum() / H.isnull().count()).sort_values(ascending=False)"
      ],
      "metadata": {
        "colab": {
          "base_uri": "https://localhost:8080/"
        },
        "id": "k7gpQpIMa-T9",
        "outputId": "ad362e8b-90a6-4ec7-9ef1-f2010461318b"
      },
      "execution_count": 49,
      "outputs": [
        {
          "output_type": "execute_result",
          "data": {
            "text/plain": [
              "Electric utility on property    0.983748\n",
              "                                0.967757\n",
              "Gas information                 0.951830\n",
              "Electric information            0.821296\n",
              "Utilities for property          0.636417\n",
              "Sewer information               0.219138\n",
              "Water information               0.190730\n",
              "dtype: float64"
            ]
          },
          "metadata": {},
          "execution_count": 49
        }
      ]
    },
    {
      "cell_type": "code",
      "source": [
        "# Concat useful and non-duplicate column\n",
        "dff = pd.concat([dff, H[\"Sewer information\"]], axis=1)\n",
        "dff = pd.concat([dff, H[\"Water information\"]], axis=1)"
      ],
      "metadata": {
        "id": "hte3Lmc1bPdv"
      },
      "execution_count": 50,
      "outputs": []
    },
    {
      "cell_type": "code",
      "source": [
        "# Flatten 'Location'\n",
        "I = pd.DataFrame([flatten_json(x) for x in dff['Location']])\n",
        "I.head()"
      ],
      "metadata": {
        "colab": {
          "base_uri": "https://localhost:8080/",
          "height": 206
        },
        "id": "erH5w3Cxb-pr",
        "outputId": "aa1cbd14-acbf-4719-a828-5b7ccac5f9e1"
      },
      "execution_count": 51,
      "outputs": [
        {
          "output_type": "execute_result",
          "data": {
            "text/plain": [
              "             Region Subdivision      Municipality\n",
              "0  South Ozone Park         NaN  NaN          NaN\n",
              "1           Jamaica         NaN  NaN          NaN\n",
              "2     Staten Island         NaN  NaN          NaN\n",
              "3               NaN         NaN  NaN          NaN\n",
              "4          Flushing         NaN  NaN          NaN"
            ],
            "text/html": [
              "\n",
              "  <div id=\"df-f1fe51b7-1cae-4b02-bbc5-e51713d20022\">\n",
              "    <div class=\"colab-df-container\">\n",
              "      <div>\n",
              "<style scoped>\n",
              "    .dataframe tbody tr th:only-of-type {\n",
              "        vertical-align: middle;\n",
              "    }\n",
              "\n",
              "    .dataframe tbody tr th {\n",
              "        vertical-align: top;\n",
              "    }\n",
              "\n",
              "    .dataframe thead th {\n",
              "        text-align: right;\n",
              "    }\n",
              "</style>\n",
              "<table border=\"1\" class=\"dataframe\">\n",
              "  <thead>\n",
              "    <tr style=\"text-align: right;\">\n",
              "      <th></th>\n",
              "      <th>Region</th>\n",
              "      <th>Subdivision</th>\n",
              "      <th></th>\n",
              "      <th>Municipality</th>\n",
              "    </tr>\n",
              "  </thead>\n",
              "  <tbody>\n",
              "    <tr>\n",
              "      <th>0</th>\n",
              "      <td>South Ozone Park</td>\n",
              "      <td>NaN</td>\n",
              "      <td>NaN</td>\n",
              "      <td>NaN</td>\n",
              "    </tr>\n",
              "    <tr>\n",
              "      <th>1</th>\n",
              "      <td>Jamaica</td>\n",
              "      <td>NaN</td>\n",
              "      <td>NaN</td>\n",
              "      <td>NaN</td>\n",
              "    </tr>\n",
              "    <tr>\n",
              "      <th>2</th>\n",
              "      <td>Staten Island</td>\n",
              "      <td>NaN</td>\n",
              "      <td>NaN</td>\n",
              "      <td>NaN</td>\n",
              "    </tr>\n",
              "    <tr>\n",
              "      <th>3</th>\n",
              "      <td>NaN</td>\n",
              "      <td>NaN</td>\n",
              "      <td>NaN</td>\n",
              "      <td>NaN</td>\n",
              "    </tr>\n",
              "    <tr>\n",
              "      <th>4</th>\n",
              "      <td>Flushing</td>\n",
              "      <td>NaN</td>\n",
              "      <td>NaN</td>\n",
              "      <td>NaN</td>\n",
              "    </tr>\n",
              "  </tbody>\n",
              "</table>\n",
              "</div>\n",
              "      <button class=\"colab-df-convert\" onclick=\"convertToInteractive('df-f1fe51b7-1cae-4b02-bbc5-e51713d20022')\"\n",
              "              title=\"Convert this dataframe to an interactive table.\"\n",
              "              style=\"display:none;\">\n",
              "        \n",
              "  <svg xmlns=\"http://www.w3.org/2000/svg\" height=\"24px\"viewBox=\"0 0 24 24\"\n",
              "       width=\"24px\">\n",
              "    <path d=\"M0 0h24v24H0V0z\" fill=\"none\"/>\n",
              "    <path d=\"M18.56 5.44l.94 2.06.94-2.06 2.06-.94-2.06-.94-.94-2.06-.94 2.06-2.06.94zm-11 1L8.5 8.5l.94-2.06 2.06-.94-2.06-.94L8.5 2.5l-.94 2.06-2.06.94zm10 10l.94 2.06.94-2.06 2.06-.94-2.06-.94-.94-2.06-.94 2.06-2.06.94z\"/><path d=\"M17.41 7.96l-1.37-1.37c-.4-.4-.92-.59-1.43-.59-.52 0-1.04.2-1.43.59L10.3 9.45l-7.72 7.72c-.78.78-.78 2.05 0 2.83L4 21.41c.39.39.9.59 1.41.59.51 0 1.02-.2 1.41-.59l7.78-7.78 2.81-2.81c.8-.78.8-2.07 0-2.86zM5.41 20L4 18.59l7.72-7.72 1.47 1.35L5.41 20z\"/>\n",
              "  </svg>\n",
              "      </button>\n",
              "      \n",
              "  <style>\n",
              "    .colab-df-container {\n",
              "      display:flex;\n",
              "      flex-wrap:wrap;\n",
              "      gap: 12px;\n",
              "    }\n",
              "\n",
              "    .colab-df-convert {\n",
              "      background-color: #E8F0FE;\n",
              "      border: none;\n",
              "      border-radius: 50%;\n",
              "      cursor: pointer;\n",
              "      display: none;\n",
              "      fill: #1967D2;\n",
              "      height: 32px;\n",
              "      padding: 0 0 0 0;\n",
              "      width: 32px;\n",
              "    }\n",
              "\n",
              "    .colab-df-convert:hover {\n",
              "      background-color: #E2EBFA;\n",
              "      box-shadow: 0px 1px 2px rgba(60, 64, 67, 0.3), 0px 1px 3px 1px rgba(60, 64, 67, 0.15);\n",
              "      fill: #174EA6;\n",
              "    }\n",
              "\n",
              "    [theme=dark] .colab-df-convert {\n",
              "      background-color: #3B4455;\n",
              "      fill: #D2E3FC;\n",
              "    }\n",
              "\n",
              "    [theme=dark] .colab-df-convert:hover {\n",
              "      background-color: #434B5C;\n",
              "      box-shadow: 0px 1px 3px 1px rgba(0, 0, 0, 0.15);\n",
              "      filter: drop-shadow(0px 1px 2px rgba(0, 0, 0, 0.3));\n",
              "      fill: #FFFFFF;\n",
              "    }\n",
              "  </style>\n",
              "\n",
              "      <script>\n",
              "        const buttonEl =\n",
              "          document.querySelector('#df-f1fe51b7-1cae-4b02-bbc5-e51713d20022 button.colab-df-convert');\n",
              "        buttonEl.style.display =\n",
              "          google.colab.kernel.accessAllowed ? 'block' : 'none';\n",
              "\n",
              "        async function convertToInteractive(key) {\n",
              "          const element = document.querySelector('#df-f1fe51b7-1cae-4b02-bbc5-e51713d20022');\n",
              "          const dataTable =\n",
              "            await google.colab.kernel.invokeFunction('convertToInteractive',\n",
              "                                                     [key], {});\n",
              "          if (!dataTable) return;\n",
              "\n",
              "          const docLinkHtml = 'Like what you see? Visit the ' +\n",
              "            '<a target=\"_blank\" href=https://colab.research.google.com/notebooks/data_table.ipynb>data table notebook</a>'\n",
              "            + ' to learn more about interactive tables.';\n",
              "          element.innerHTML = '';\n",
              "          dataTable['output_type'] = 'display_data';\n",
              "          await google.colab.output.renderOutput(dataTable, element);\n",
              "          const docLink = document.createElement('div');\n",
              "          docLink.innerHTML = docLinkHtml;\n",
              "          element.appendChild(docLink);\n",
              "        }\n",
              "      </script>\n",
              "    </div>\n",
              "  </div>\n",
              "  "
            ]
          },
          "metadata": {},
          "execution_count": 51
        }
      ]
    },
    {
      "cell_type": "code",
      "source": [
        "# Checking null values percentage\n",
        "plt.figure(figsize=(12,6))\n",
        "msno = sns.heatmap(I.isnull(), yticklabels=False, cbar=False, cmap = 'viridis')"
      ],
      "metadata": {
        "colab": {
          "base_uri": "https://localhost:8080/",
          "height": 377
        },
        "id": "mqcXippylzNF",
        "outputId": "78685eb8-9e07-44b3-9701-e36cdb698647"
      },
      "execution_count": 52,
      "outputs": [
        {
          "output_type": "display_data",
          "data": {
            "text/plain": [
              "<Figure size 864x432 with 1 Axes>"
            ],
            "image/png": "[encoded data removed]"
          },
          "metadata": {
            "needs_background": "light"
          }
        }
      ]
    },
    {
      "cell_type": "code",
      "source": [
        "I['Subdivision'].unique() #Same as cities"
      ],
      "metadata": {
        "colab": {
          "base_uri": "https://localhost:8080/"
        },
        "id": "OHvp7N81l6zL",
        "outputId": "e3cde347-44fb-49a0-9487-07e8de6dc4fb"
      },
      "execution_count": 53,
      "outputs": [
        {
          "output_type": "execute_result",
          "data": {
            "text/plain": [
              "array([nan, 'Staten Island', 'Brooklyn', ..., 'Casper Zopfi Place',\n",
              "       'Cahal Cottages', 'West End'], dtype=object)"
            ]
          },
          "metadata": {},
          "execution_count": 53
        }
      ]
    },
    {
      "cell_type": "code",
      "source": [
        "# Cannot use any of these columns\n",
        "(I.isnull().sum() / I.isnull().count()).sort_values(ascending=False)"
      ],
      "metadata": {
        "colab": {
          "base_uri": "https://localhost:8080/"
        },
        "id": "-gMCCri9cR1Q",
        "outputId": "17c0ad07-34cb-4962-fa6b-edb2d05db924"
      },
      "execution_count": 54,
      "outputs": [
        {
          "output_type": "execute_result",
          "data": {
            "text/plain": [
              "                0.998440\n",
              "Municipality    0.951375\n",
              "Subdivision     0.271924\n",
              "Region          0.034454\n",
              "dtype: float64"
            ]
          },
          "metadata": {},
          "execution_count": 54
        }
      ]
    },
    {
      "cell_type": "code",
      "source": [
        "# Flatten 'Appliances'\n",
        "J = pd.DataFrame([flatten_json(x) for x in dff['Appliances']])\n",
        "J.head()"
      ],
      "metadata": {
        "colab": {
          "base_uri": "https://localhost:8080/",
          "height": 206
        },
        "id": "7FyXN5KucjxB",
        "outputId": "304dc6bf-5408-4e47-ab76-d9c2718a9aef"
      },
      "execution_count": 55,
      "outputs": [
        {
          "output_type": "execute_result",
          "data": {
            "text/plain": [
              "  Appliances included Laundry features     \n",
              "0                 NaN              NaN  NaN\n",
              "1            Microwav              NaN  NaN\n",
              "2           Dishwashe              NaN  NaN\n",
              "3                 NaN              NaN  NaN\n",
              "4                Drye              NaN  NaN"
            ],
            "text/html": [
              "\n",
              "  <div id=\"df-3ff00942-ea62-4a39-b022-f6a99fb7b963\">\n",
              "    <div class=\"colab-df-container\">\n",
              "      <div>\n",
              "<style scoped>\n",
              "    .dataframe tbody tr th:only-of-type {\n",
              "        vertical-align: middle;\n",
              "    }\n",
              "\n",
              "    .dataframe tbody tr th {\n",
              "        vertical-align: top;\n",
              "    }\n",
              "\n",
              "    .dataframe thead th {\n",
              "        text-align: right;\n",
              "    }\n",
              "</style>\n",
              "<table border=\"1\" class=\"dataframe\">\n",
              "  <thead>\n",
              "    <tr style=\"text-align: right;\">\n",
              "      <th></th>\n",
              "      <th>Appliances included</th>\n",
              "      <th>Laundry features</th>\n",
              "      <th></th>\n",
              "    </tr>\n",
              "  </thead>\n",
              "  <tbody>\n",
              "    <tr>\n",
              "      <th>0</th>\n",
              "      <td>NaN</td>\n",
              "      <td>NaN</td>\n",
              "      <td>NaN</td>\n",
              "    </tr>\n",
              "    <tr>\n",
              "      <th>1</th>\n",
              "      <td>Microwav</td>\n",
              "      <td>NaN</td>\n",
              "      <td>NaN</td>\n",
              "    </tr>\n",
              "    <tr>\n",
              "      <th>2</th>\n",
              "      <td>Dishwashe</td>\n",
              "      <td>NaN</td>\n",
              "      <td>NaN</td>\n",
              "    </tr>\n",
              "    <tr>\n",
              "      <th>3</th>\n",
              "      <td>NaN</td>\n",
              "      <td>NaN</td>\n",
              "      <td>NaN</td>\n",
              "    </tr>\n",
              "    <tr>\n",
              "      <th>4</th>\n",
              "      <td>Drye</td>\n",
              "      <td>NaN</td>\n",
              "      <td>NaN</td>\n",
              "    </tr>\n",
              "  </tbody>\n",
              "</table>\n",
              "</div>\n",
              "      <button class=\"colab-df-convert\" onclick=\"convertToInteractive('df-3ff00942-ea62-4a39-b022-f6a99fb7b963')\"\n",
              "              title=\"Convert this dataframe to an interactive table.\"\n",
              "              style=\"display:none;\">\n",
              "        \n",
              "  <svg xmlns=\"http://www.w3.org/2000/svg\" height=\"24px\"viewBox=\"0 0 24 24\"\n",
              "       width=\"24px\">\n",
              "    <path d=\"M0 0h24v24H0V0z\" fill=\"none\"/>\n",
              "    <path d=\"M18.56 5.44l.94 2.06.94-2.06 2.06-.94-2.06-.94-.94-2.06-.94 2.06-2.06.94zm-11 1L8.5 8.5l.94-2.06 2.06-.94-2.06-.94L8.5 2.5l-.94 2.06-2.06.94zm10 10l.94 2.06.94-2.06 2.06-.94-2.06-.94-.94-2.06-.94 2.06-2.06.94z\"/><path d=\"M17.41 7.96l-1.37-1.37c-.4-.4-.92-.59-1.43-.59-.52 0-1.04.2-1.43.59L10.3 9.45l-7.72 7.72c-.78.78-.78 2.05 0 2.83L4 21.41c.39.39.9.59 1.41.59.51 0 1.02-.2 1.41-.59l7.78-7.78 2.81-2.81c.8-.78.8-2.07 0-2.86zM5.41 20L4 18.59l7.72-7.72 1.47 1.35L5.41 20z\"/>\n",
              "  </svg>\n",
              "      </button>\n",
              "      \n",
              "  <style>\n",
              "    .colab-df-container {\n",
              "      display:flex;\n",
              "      flex-wrap:wrap;\n",
              "      gap: 12px;\n",
              "    }\n",
              "\n",
              "    .colab-df-convert {\n",
              "      background-color: #E8F0FE;\n",
              "      border: none;\n",
              "      border-radius: 50%;\n",
              "      cursor: pointer;\n",
              "      display: none;\n",
              "      fill: #1967D2;\n",
              "      height: 32px;\n",
              "      padding: 0 0 0 0;\n",
              "      width: 32px;\n",
              "    }\n",
              "\n",
              "    .colab-df-convert:hover {\n",
              "      background-color: #E2EBFA;\n",
              "      box-shadow: 0px 1px 2px rgba(60, 64, 67, 0.3), 0px 1px 3px 1px rgba(60, 64, 67, 0.15);\n",
              "      fill: #174EA6;\n",
              "    }\n",
              "\n",
              "    [theme=dark] .colab-df-convert {\n",
              "      background-color: #3B4455;\n",
              "      fill: #D2E3FC;\n",
              "    }\n",
              "\n",
              "    [theme=dark] .colab-df-convert:hover {\n",
              "      background-color: #434B5C;\n",
              "      box-shadow: 0px 1px 3px 1px rgba(0, 0, 0, 0.15);\n",
              "      filter: drop-shadow(0px 1px 2px rgba(0, 0, 0, 0.3));\n",
              "      fill: #FFFFFF;\n",
              "    }\n",
              "  </style>\n",
              "\n",
              "      <script>\n",
              "        const buttonEl =\n",
              "          document.querySelector('#df-3ff00942-ea62-4a39-b022-f6a99fb7b963 button.colab-df-convert');\n",
              "        buttonEl.style.display =\n",
              "          google.colab.kernel.accessAllowed ? 'block' : 'none';\n",
              "\n",
              "        async function convertToInteractive(key) {\n",
              "          const element = document.querySelector('#df-3ff00942-ea62-4a39-b022-f6a99fb7b963');\n",
              "          const dataTable =\n",
              "            await google.colab.kernel.invokeFunction('convertToInteractive',\n",
              "                                                     [key], {});\n",
              "          if (!dataTable) return;\n",
              "\n",
              "          const docLinkHtml = 'Like what you see? Visit the ' +\n",
              "            '<a target=\"_blank\" href=https://colab.research.google.com/notebooks/data_table.ipynb>data table notebook</a>'\n",
              "            + ' to learn more about interactive tables.';\n",
              "          element.innerHTML = '';\n",
              "          dataTable['output_type'] = 'display_data';\n",
              "          await google.colab.output.renderOutput(dataTable, element);\n",
              "          const docLink = document.createElement('div');\n",
              "          docLink.innerHTML = docLinkHtml;\n",
              "          element.appendChild(docLink);\n",
              "        }\n",
              "      </script>\n",
              "    </div>\n",
              "  </div>\n",
              "  "
            ]
          },
          "metadata": {},
          "execution_count": 55
        }
      ]
    },
    {
      "cell_type": "code",
      "source": [
        "# Checking null values percentage\n",
        "plt.figure(figsize=(12,6))\n",
        "msno = sns.heatmap(J.isnull(), yticklabels=False, cbar=False, cmap = 'viridis')"
      ],
      "metadata": {
        "colab": {
          "base_uri": "https://localhost:8080/",
          "height": 377
        },
        "id": "RYvMTjIPmPsD",
        "outputId": "b944fd34-355d-4ddd-c658-980b18ac7745"
      },
      "execution_count": 56,
      "outputs": [
        {
          "output_type": "display_data",
          "data": {
            "text/plain": [
              "<Figure size 864x432 with 1 Axes>"
            ],
            "image/png": "[encoded data removed]"
          },
          "metadata": {
            "needs_background": "light"
          }
        }
      ]
    },
    {
      "cell_type": "code",
      "source": [
        "(J.isnull().sum() / J.isnull().count()).sort_values(ascending=False)"
      ],
      "metadata": {
        "colab": {
          "base_uri": "https://localhost:8080/"
        },
        "id": "k5BxEbzqc2kz",
        "outputId": "e345a816-2512-41a6-8587-3ae5b1aabeaf"
      },
      "execution_count": 57,
      "outputs": [
        {
          "output_type": "execute_result",
          "data": {
            "text/plain": [
              "                       0.933498\n",
              "Laundry features       0.522785\n",
              "Appliances included    0.172268\n",
              "dtype: float64"
            ]
          },
          "metadata": {},
          "execution_count": 57
        }
      ]
    },
    {
      "cell_type": "code",
      "source": [
        "# Concat useful and non-duplicate column\n",
        "dff = pd.concat([dff, J[\"Appliances included\"]], axis=1)"
      ],
      "metadata": {
        "id": "0ApERhN9dBxX"
      },
      "execution_count": 58,
      "outputs": []
    },
    {
      "cell_type": "code",
      "source": [
        "# Flatten 'Heating'\n",
        "K = pd.DataFrame([flatten_json(x) for x in dff['Heating']])\n",
        "K.head()"
      ],
      "metadata": {
        "colab": {
          "base_uri": "https://localhost:8080/",
          "height": 206
        },
        "id": "6cbb7cS-dKbC",
        "outputId": "1ab8ff87-d1a3-4fcf-db75-423dc41e3880"
      },
      "execution_count": 59,
      "outputs": [
        {
          "output_type": "execute_result",
          "data": {
            "text/plain": [
              "  Heating features\n",
              "0              NaN\n",
              "1              NaN\n",
              "2         Hot Wate\n",
              "3              NaN\n",
              "4              NaN"
            ],
            "text/html": [
              "\n",
              "  <div id=\"df-edc43fe1-9dce-4d2c-8ad8-453f168a6a8f\">\n",
              "    <div class=\"colab-df-container\">\n",
              "      <div>\n",
              "<style scoped>\n",
              "    .dataframe tbody tr th:only-of-type {\n",
              "        vertical-align: middle;\n",
              "    }\n",
              "\n",
              "    .dataframe tbody tr th {\n",
              "        vertical-align: top;\n",
              "    }\n",
              "\n",
              "    .dataframe thead th {\n",
              "        text-align: right;\n",
              "    }\n",
              "</style>\n",
              "<table border=\"1\" class=\"dataframe\">\n",
              "  <thead>\n",
              "    <tr style=\"text-align: right;\">\n",
              "      <th></th>\n",
              "      <th>Heating features</th>\n",
              "    </tr>\n",
              "  </thead>\n",
              "  <tbody>\n",
              "    <tr>\n",
              "      <th>0</th>\n",
              "      <td>NaN</td>\n",
              "    </tr>\n",
              "    <tr>\n",
              "      <th>1</th>\n",
              "      <td>NaN</td>\n",
              "    </tr>\n",
              "    <tr>\n",
              "      <th>2</th>\n",
              "      <td>Hot Wate</td>\n",
              "    </tr>\n",
              "    <tr>\n",
              "      <th>3</th>\n",
              "      <td>NaN</td>\n",
              "    </tr>\n",
              "    <tr>\n",
              "      <th>4</th>\n",
              "      <td>NaN</td>\n",
              "    </tr>\n",
              "  </tbody>\n",
              "</table>\n",
              "</div>\n",
              "      <button class=\"colab-df-convert\" onclick=\"convertToInteractive('df-edc43fe1-9dce-4d2c-8ad8-453f168a6a8f')\"\n",
              "              title=\"Convert this dataframe to an interactive table.\"\n",
              "              style=\"display:none;\">\n",
              "        \n",
              "  <svg xmlns=\"http://www.w3.org/2000/svg\" height=\"24px\"viewBox=\"0 0 24 24\"\n",
              "       width=\"24px\">\n",
              "    <path d=\"M0 0h24v24H0V0z\" fill=\"none\"/>\n",
              "    <path d=\"M18.56 5.44l.94 2.06.94-2.06 2.06-.94-2.06-.94-.94-2.06-.94 2.06-2.06.94zm-11 1L8.5 8.5l.94-2.06 2.06-.94-2.06-.94L8.5 2.5l-.94 2.06-2.06.94zm10 10l.94 2.06.94-2.06 2.06-.94-2.06-.94-.94-2.06-.94 2.06-2.06.94z\"/><path d=\"M17.41 7.96l-1.37-1.37c-.4-.4-.92-.59-1.43-.59-.52 0-1.04.2-1.43.59L10.3 9.45l-7.72 7.72c-.78.78-.78 2.05 0 2.83L4 21.41c.39.39.9.59 1.41.59.51 0 1.02-.2 1.41-.59l7.78-7.78 2.81-2.81c.8-.78.8-2.07 0-2.86zM5.41 20L4 18.59l7.72-7.72 1.47 1.35L5.41 20z\"/>\n",
              "  </svg>\n",
              "      </button>\n",
              "      \n",
              "  <style>\n",
              "    .colab-df-container {\n",
              "      display:flex;\n",
              "      flex-wrap:wrap;\n",
              "      gap: 12px;\n",
              "    }\n",
              "\n",
              "    .colab-df-convert {\n",
              "      background-color: #E8F0FE;\n",
              "      border: none;\n",
              "      border-radius: 50%;\n",
              "      cursor: pointer;\n",
              "      display: none;\n",
              "      fill: #1967D2;\n",
              "      height: 32px;\n",
              "      padding: 0 0 0 0;\n",
              "      width: 32px;\n",
              "    }\n",
              "\n",
              "    .colab-df-convert:hover {\n",
              "      background-color: #E2EBFA;\n",
              "      box-shadow: 0px 1px 2px rgba(60, 64, 67, 0.3), 0px 1px 3px 1px rgba(60, 64, 67, 0.15);\n",
              "      fill: #174EA6;\n",
              "    }\n",
              "\n",
              "    [theme=dark] .colab-df-convert {\n",
              "      background-color: #3B4455;\n",
              "      fill: #D2E3FC;\n",
              "    }\n",
              "\n",
              "    [theme=dark] .colab-df-convert:hover {\n",
              "      background-color: #434B5C;\n",
              "      box-shadow: 0px 1px 3px 1px rgba(0, 0, 0, 0.15);\n",
              "      filter: drop-shadow(0px 1px 2px rgba(0, 0, 0, 0.3));\n",
              "      fill: #FFFFFF;\n",
              "    }\n",
              "  </style>\n",
              "\n",
              "      <script>\n",
              "        const buttonEl =\n",
              "          document.querySelector('#df-edc43fe1-9dce-4d2c-8ad8-453f168a6a8f button.colab-df-convert');\n",
              "        buttonEl.style.display =\n",
              "          google.colab.kernel.accessAllowed ? 'block' : 'none';\n",
              "\n",
              "        async function convertToInteractive(key) {\n",
              "          const element = document.querySelector('#df-edc43fe1-9dce-4d2c-8ad8-453f168a6a8f');\n",
              "          const dataTable =\n",
              "            await google.colab.kernel.invokeFunction('convertToInteractive',\n",
              "                                                     [key], {});\n",
              "          if (!dataTable) return;\n",
              "\n",
              "          const docLinkHtml = 'Like what you see? Visit the ' +\n",
              "            '<a target=\"_blank\" href=https://colab.research.google.com/notebooks/data_table.ipynb>data table notebook</a>'\n",
              "            + ' to learn more about interactive tables.';\n",
              "          element.innerHTML = '';\n",
              "          dataTable['output_type'] = 'display_data';\n",
              "          await google.colab.output.renderOutput(dataTable, element);\n",
              "          const docLink = document.createElement('div');\n",
              "          docLink.innerHTML = docLinkHtml;\n",
              "          element.appendChild(docLink);\n",
              "        }\n",
              "      </script>\n",
              "    </div>\n",
              "  </div>\n",
              "  "
            ]
          },
          "metadata": {},
          "execution_count": 59
        }
      ]
    },
    {
      "cell_type": "code",
      "source": [
        "# Checking null values percentage\n",
        "plt.figure(figsize=(12,6))\n",
        "msno = sns.heatmap(K.isnull(), yticklabels=False, cbar=False, cmap = 'viridis')"
      ],
      "metadata": {
        "colab": {
          "base_uri": "https://localhost:8080/",
          "height": 377
        },
        "id": "AP6mDrJCmVwy",
        "outputId": "5a5a6cf1-d27d-4646-e4e5-2b9e7d99a50f"
      },
      "execution_count": 60,
      "outputs": [
        {
          "output_type": "display_data",
          "data": {
            "text/plain": [
              "<Figure size 864x432 with 1 Axes>"
            ],
            "image/png": "[encoded data removed]"
          },
          "metadata": {
            "needs_background": "light"
          }
        }
      ]
    },
    {
      "cell_type": "code",
      "source": [
        "(K.isnull().sum() / K.isnull().count()).sort_values(ascending=False)"
      ],
      "metadata": {
        "colab": {
          "base_uri": "https://localhost:8080/"
        },
        "id": "k8MVnqY5dofe",
        "outputId": "0cb2d4ca-ec2e-4f92-eb66-99c6b1edd221"
      },
      "execution_count": 61,
      "outputs": [
        {
          "output_type": "execute_result",
          "data": {
            "text/plain": [
              "Heating features    0.087239\n",
              "dtype: float64"
            ]
          },
          "metadata": {},
          "execution_count": 61
        }
      ]
    },
    {
      "cell_type": "code",
      "source": [
        "# Concat useful and non-duplicate column\n",
        "dff = pd.concat([dff, K[\"Heating features\"]], axis=1)"
      ],
      "metadata": {
        "id": "qfSRKrYzd1of"
      },
      "execution_count": 62,
      "outputs": []
    },
    {
      "cell_type": "code",
      "source": [
        "# Flatten 'Cooling'\n",
        "L = pd.DataFrame([flatten_json(x) for x in dff['Cooling']])\n",
        "L.head()"
      ],
      "metadata": {
        "colab": {
          "base_uri": "https://localhost:8080/",
          "height": 206
        },
        "id": "z0-kioloeDnw",
        "outputId": "cba139d6-de33-425d-e7ce-27ee8e1b096b"
      },
      "execution_count": 63,
      "outputs": [
        {
          "output_type": "execute_result",
          "data": {
            "text/plain": [
              "  Cooling features Has cooling\n",
              "0              NaN         NaN\n",
              "1              NaN         NaN\n",
              "2            Units         NaN\n",
              "3              NaN         NaN\n",
              "4              NaN         NaN"
            ],
            "text/html": [
              "\n",
              "  <div id=\"df-05214652-672e-4eb7-9fd3-6fe88b5dcc5c\">\n",
              "    <div class=\"colab-df-container\">\n",
              "      <div>\n",
              "<style scoped>\n",
              "    .dataframe tbody tr th:only-of-type {\n",
              "        vertical-align: middle;\n",
              "    }\n",
              "\n",
              "    .dataframe tbody tr th {\n",
              "        vertical-align: top;\n",
              "    }\n",
              "\n",
              "    .dataframe thead th {\n",
              "        text-align: right;\n",
              "    }\n",
              "</style>\n",
              "<table border=\"1\" class=\"dataframe\">\n",
              "  <thead>\n",
              "    <tr style=\"text-align: right;\">\n",
              "      <th></th>\n",
              "      <th>Cooling features</th>\n",
              "      <th>Has cooling</th>\n",
              "    </tr>\n",
              "  </thead>\n",
              "  <tbody>\n",
              "    <tr>\n",
              "      <th>0</th>\n",
              "      <td>NaN</td>\n",
              "      <td>NaN</td>\n",
              "    </tr>\n",
              "    <tr>\n",
              "      <th>1</th>\n",
              "      <td>NaN</td>\n",
              "      <td>NaN</td>\n",
              "    </tr>\n",
              "    <tr>\n",
              "      <th>2</th>\n",
              "      <td>Units</td>\n",
              "      <td>NaN</td>\n",
              "    </tr>\n",
              "    <tr>\n",
              "      <th>3</th>\n",
              "      <td>NaN</td>\n",
              "      <td>NaN</td>\n",
              "    </tr>\n",
              "    <tr>\n",
              "      <th>4</th>\n",
              "      <td>NaN</td>\n",
              "      <td>NaN</td>\n",
              "    </tr>\n",
              "  </tbody>\n",
              "</table>\n",
              "</div>\n",
              "      <button class=\"colab-df-convert\" onclick=\"convertToInteractive('df-05214652-672e-4eb7-9fd3-6fe88b5dcc5c')\"\n",
              "              title=\"Convert this dataframe to an interactive table.\"\n",
              "              style=\"display:none;\">\n",
              "        \n",
              "  <svg xmlns=\"http://www.w3.org/2000/svg\" height=\"24px\"viewBox=\"0 0 24 24\"\n",
              "       width=\"24px\">\n",
              "    <path d=\"M0 0h24v24H0V0z\" fill=\"none\"/>\n",
              "    <path d=\"M18.56 5.44l.94 2.06.94-2.06 2.06-.94-2.06-.94-.94-2.06-.94 2.06-2.06.94zm-11 1L8.5 8.5l.94-2.06 2.06-.94-2.06-.94L8.5 2.5l-.94 2.06-2.06.94zm10 10l.94 2.06.94-2.06 2.06-.94-2.06-.94-.94-2.06-.94 2.06-2.06.94z\"/><path d=\"M17.41 7.96l-1.37-1.37c-.4-.4-.92-.59-1.43-.59-.52 0-1.04.2-1.43.59L10.3 9.45l-7.72 7.72c-.78.78-.78 2.05 0 2.83L4 21.41c.39.39.9.59 1.41.59.51 0 1.02-.2 1.41-.59l7.78-7.78 2.81-2.81c.8-.78.8-2.07 0-2.86zM5.41 20L4 18.59l7.72-7.72 1.47 1.35L5.41 20z\"/>\n",
              "  </svg>\n",
              "      </button>\n",
              "      \n",
              "  <style>\n",
              "    .colab-df-container {\n",
              "      display:flex;\n",
              "      flex-wrap:wrap;\n",
              "      gap: 12px;\n",
              "    }\n",
              "\n",
              "    .colab-df-convert {\n",
              "      background-color: #E8F0FE;\n",
              "      border: none;\n",
              "      border-radius: 50%;\n",
              "      cursor: pointer;\n",
              "      display: none;\n",
              "      fill: #1967D2;\n",
              "      height: 32px;\n",
              "      padding: 0 0 0 0;\n",
              "      width: 32px;\n",
              "    }\n",
              "\n",
              "    .colab-df-convert:hover {\n",
              "      background-color: #E2EBFA;\n",
              "      box-shadow: 0px 1px 2px rgba(60, 64, 67, 0.3), 0px 1px 3px 1px rgba(60, 64, 67, 0.15);\n",
              "      fill: #174EA6;\n",
              "    }\n",
              "\n",
              "    [theme=dark] .colab-df-convert {\n",
              "      background-color: #3B4455;\n",
              "      fill: #D2E3FC;\n",
              "    }\n",
              "\n",
              "    [theme=dark] .colab-df-convert:hover {\n",
              "      background-color: #434B5C;\n",
              "      box-shadow: 0px 1px 3px 1px rgba(0, 0, 0, 0.15);\n",
              "      filter: drop-shadow(0px 1px 2px rgba(0, 0, 0, 0.3));\n",
              "      fill: #FFFFFF;\n",
              "    }\n",
              "  </style>\n",
              "\n",
              "      <script>\n",
              "        const buttonEl =\n",
              "          document.querySelector('#df-05214652-672e-4eb7-9fd3-6fe88b5dcc5c button.colab-df-convert');\n",
              "        buttonEl.style.display =\n",
              "          google.colab.kernel.accessAllowed ? 'block' : 'none';\n",
              "\n",
              "        async function convertToInteractive(key) {\n",
              "          const element = document.querySelector('#df-05214652-672e-4eb7-9fd3-6fe88b5dcc5c');\n",
              "          const dataTable =\n",
              "            await google.colab.kernel.invokeFunction('convertToInteractive',\n",
              "                                                     [key], {});\n",
              "          if (!dataTable) return;\n",
              "\n",
              "          const docLinkHtml = 'Like what you see? Visit the ' +\n",
              "            '<a target=\"_blank\" href=https://colab.research.google.com/notebooks/data_table.ipynb>data table notebook</a>'\n",
              "            + ' to learn more about interactive tables.';\n",
              "          element.innerHTML = '';\n",
              "          dataTable['output_type'] = 'display_data';\n",
              "          await google.colab.output.renderOutput(dataTable, element);\n",
              "          const docLink = document.createElement('div');\n",
              "          docLink.innerHTML = docLinkHtml;\n",
              "          element.appendChild(docLink);\n",
              "        }\n",
              "      </script>\n",
              "    </div>\n",
              "  </div>\n",
              "  "
            ]
          },
          "metadata": {},
          "execution_count": 63
        }
      ]
    },
    {
      "cell_type": "code",
      "source": [
        "# Checking null values percentage\n",
        "plt.figure(figsize=(12,6))\n",
        "msno = sns.heatmap(L.isnull(), yticklabels=False, cbar=False, cmap = 'viridis')"
      ],
      "metadata": {
        "colab": {
          "base_uri": "https://localhost:8080/",
          "height": 377
        },
        "id": "ekSuIfkgmoTh",
        "outputId": "5a0f2773-5fcb-436c-efa3-63fff6a99c76"
      },
      "execution_count": 64,
      "outputs": [
        {
          "output_type": "display_data",
          "data": {
            "text/plain": [
              "<Figure size 864x432 with 1 Axes>"
            ],
            "image/png": "[encoded data removed]"
          },
          "metadata": {
            "needs_background": "light"
          }
        }
      ]
    },
    {
      "cell_type": "code",
      "source": [
        "(L.isnull().sum() / L.isnull().count()).sort_values(ascending=False)"
      ],
      "metadata": {
        "colab": {
          "base_uri": "https://localhost:8080/"
        },
        "id": "RkdQwyLcfF14",
        "outputId": "81468552-a16d-4a42-88e6-5cc462663773"
      },
      "execution_count": 65,
      "outputs": [
        {
          "output_type": "execute_result",
          "data": {
            "text/plain": [
              "Has cooling         0.998310\n",
              "Cooling features    0.094845\n",
              "dtype: float64"
            ]
          },
          "metadata": {},
          "execution_count": 65
        }
      ]
    },
    {
      "cell_type": "code",
      "source": [
        "# Concat useful and non-duplicate column\n",
        "dff = pd.concat([dff, L[\"Cooling features\"]], axis=1)"
      ],
      "metadata": {
        "id": "Cx-zM-OCfh8a"
      },
      "execution_count": 66,
      "outputs": []
    },
    {
      "cell_type": "code",
      "source": [
        "# Flatten 'Property'\n",
        "M = pd.DataFrame([flatten_json(x) for x in dff['Property']])\n",
        "M.head()"
      ],
      "metadata": {
        "colab": {
          "base_uri": "https://localhost:8080/",
          "height": 351
        },
        "id": "aU021DdOfnqN",
        "outputId": "2ce85c5e-0085-447a-bc59-3b5dd0d6bcd9"
      },
      "execution_count": 67,
      "outputs": [
        {
          "output_type": "execute_result",
          "data": {
            "text/plain": [
              "  Levels  Stories Waterview Exterior features View description  \\\n",
              "0    NaN      NaN       NaN               NaN              NaN   \n",
              "1    NaN      NaN       NaN               NaN              NaN   \n",
              "2    2.0      2.0      None               NaN              NaN   \n",
              "3    NaN      NaN       NaN               NaN              NaN   \n",
              "4    NaN      NaN       NaN               NaN              NaN   \n",
              "\n",
              "  Waterfront features Patio and porch details Fencing Private pool  \\\n",
              "0                 NaN                     NaN     NaN          NaN   \n",
              "1                 NaN                     NaN     NaN          NaN   \n",
              "2                 NaN                     NaN     NaN          NaN   \n",
              "3                 NaN                     NaN     NaN          NaN   \n",
              "4                 NaN                     NaN     NaN          NaN   \n",
              "\n",
              "  Pool features  ... Spa features Entry location Horses can be raised  \\\n",
              "0           NaN  ...          NaN            NaN                  NaN   \n",
              "1           NaN  ...          NaN            NaN                  NaN   \n",
              "2           NaN  ...          NaN            NaN                  NaN   \n",
              "3           NaN  ...          NaN            NaN                  NaN   \n",
              "4           NaN  ...          NaN            NaN                  NaN   \n",
              "\n",
              "  Frontage type Residential vegetation Frontage length Waterbody name  \\\n",
              "0           NaN                    NaN             NaN            NaN   \n",
              "1           NaN                    NaN             NaN            NaN   \n",
              "2           NaN                    NaN             NaN            NaN   \n",
              "3           NaN                    NaN             NaN            NaN   \n",
              "4           NaN                    NaN             NaN            NaN   \n",
              "\n",
              "  Topography of land Living area range       \n",
              "0                NaN               NaN  NaN  \n",
              "1                NaN               NaN  NaN  \n",
              "2                NaN               NaN  NaN  \n",
              "3                NaN               NaN  NaN  \n",
              "4                NaN               NaN  NaN  \n",
              "\n",
              "[5 rows x 22 columns]"
            ],
            "text/html": [
              "\n",
              "  <div id=\"df-c3ce5792-5aa7-4e5b-b80f-8e0dc321636d\">\n",
              "    <div class=\"colab-df-container\">\n",
              "      <div>\n",
              "<style scoped>\n",
              "    .dataframe tbody tr th:only-of-type {\n",
              "        vertical-align: middle;\n",
              "    }\n",
              "\n",
              "    .dataframe tbody tr th {\n",
              "        vertical-align: top;\n",
              "    }\n",
              "\n",
              "    .dataframe thead th {\n",
              "        text-align: right;\n",
              "    }\n",
              "</style>\n",
              "<table border=\"1\" class=\"dataframe\">\n",
              "  <thead>\n",
              "    <tr style=\"text-align: right;\">\n",
              "      <th></th>\n",
              "      <th>Levels</th>\n",
              "      <th>Stories</th>\n",
              "      <th>Waterview</th>\n",
              "      <th>Exterior features</th>\n",
              "      <th>View description</th>\n",
              "      <th>Waterfront features</th>\n",
              "      <th>Patio and porch details</th>\n",
              "      <th>Fencing</th>\n",
              "      <th>Private pool</th>\n",
              "      <th>Pool features</th>\n",
              "      <th>...</th>\n",
              "      <th>Spa features</th>\n",
              "      <th>Entry location</th>\n",
              "      <th>Horses can be raised</th>\n",
              "      <th>Frontage type</th>\n",
              "      <th>Residential vegetation</th>\n",
              "      <th>Frontage length</th>\n",
              "      <th>Waterbody name</th>\n",
              "      <th>Topography of land</th>\n",
              "      <th>Living area range</th>\n",
              "      <th></th>\n",
              "    </tr>\n",
              "  </thead>\n",
              "  <tbody>\n",
              "    <tr>\n",
              "      <th>0</th>\n",
              "      <td>NaN</td>\n",
              "      <td>NaN</td>\n",
              "      <td>NaN</td>\n",
              "      <td>NaN</td>\n",
              "      <td>NaN</td>\n",
              "      <td>NaN</td>\n",
              "      <td>NaN</td>\n",
              "      <td>NaN</td>\n",
              "      <td>NaN</td>\n",
              "      <td>NaN</td>\n",
              "      <td>...</td>\n",
              "      <td>NaN</td>\n",
              "      <td>NaN</td>\n",
              "      <td>NaN</td>\n",
              "      <td>NaN</td>\n",
              "      <td>NaN</td>\n",
              "      <td>NaN</td>\n",
              "      <td>NaN</td>\n",
              "      <td>NaN</td>\n",
              "      <td>NaN</td>\n",
              "      <td>NaN</td>\n",
              "    </tr>\n",
              "    <tr>\n",
              "      <th>1</th>\n",
              "      <td>NaN</td>\n",
              "      <td>NaN</td>\n",
              "      <td>NaN</td>\n",
              "      <td>NaN</td>\n",
              "      <td>NaN</td>\n",
              "      <td>NaN</td>\n",
              "      <td>NaN</td>\n",
              "      <td>NaN</td>\n",
              "      <td>NaN</td>\n",
              "      <td>NaN</td>\n",
              "      <td>...</td>\n",
              "      <td>NaN</td>\n",
              "      <td>NaN</td>\n",
              "      <td>NaN</td>\n",
              "      <td>NaN</td>\n",
              "      <td>NaN</td>\n",
              "      <td>NaN</td>\n",
              "      <td>NaN</td>\n",
              "      <td>NaN</td>\n",
              "      <td>NaN</td>\n",
              "      <td>NaN</td>\n",
              "    </tr>\n",
              "    <tr>\n",
              "      <th>2</th>\n",
              "      <td>2.0</td>\n",
              "      <td>2.0</td>\n",
              "      <td>None</td>\n",
              "      <td>NaN</td>\n",
              "      <td>NaN</td>\n",
              "      <td>NaN</td>\n",
              "      <td>NaN</td>\n",
              "      <td>NaN</td>\n",
              "      <td>NaN</td>\n",
              "      <td>NaN</td>\n",
              "      <td>...</td>\n",
              "      <td>NaN</td>\n",
              "      <td>NaN</td>\n",
              "      <td>NaN</td>\n",
              "      <td>NaN</td>\n",
              "      <td>NaN</td>\n",
              "      <td>NaN</td>\n",
              "      <td>NaN</td>\n",
              "      <td>NaN</td>\n",
              "      <td>NaN</td>\n",
              "      <td>NaN</td>\n",
              "    </tr>\n",
              "    <tr>\n",
              "      <th>3</th>\n",
              "      <td>NaN</td>\n",
              "      <td>NaN</td>\n",
              "      <td>NaN</td>\n",
              "      <td>NaN</td>\n",
              "      <td>NaN</td>\n",
              "      <td>NaN</td>\n",
              "      <td>NaN</td>\n",
              "      <td>NaN</td>\n",
              "      <td>NaN</td>\n",
              "      <td>NaN</td>\n",
              "      <td>...</td>\n",
              "      <td>NaN</td>\n",
              "      <td>NaN</td>\n",
              "      <td>NaN</td>\n",
              "      <td>NaN</td>\n",
              "      <td>NaN</td>\n",
              "      <td>NaN</td>\n",
              "      <td>NaN</td>\n",
              "      <td>NaN</td>\n",
              "      <td>NaN</td>\n",
              "      <td>NaN</td>\n",
              "    </tr>\n",
              "    <tr>\n",
              "      <th>4</th>\n",
              "      <td>NaN</td>\n",
              "      <td>NaN</td>\n",
              "      <td>NaN</td>\n",
              "      <td>NaN</td>\n",
              "      <td>NaN</td>\n",
              "      <td>NaN</td>\n",
              "      <td>NaN</td>\n",
              "      <td>NaN</td>\n",
              "      <td>NaN</td>\n",
              "      <td>NaN</td>\n",
              "      <td>...</td>\n",
              "      <td>NaN</td>\n",
              "      <td>NaN</td>\n",
              "      <td>NaN</td>\n",
              "      <td>NaN</td>\n",
              "      <td>NaN</td>\n",
              "      <td>NaN</td>\n",
              "      <td>NaN</td>\n",
              "      <td>NaN</td>\n",
              "      <td>NaN</td>\n",
              "      <td>NaN</td>\n",
              "    </tr>\n",
              "  </tbody>\n",
              "</table>\n",
              "<p>5 rows × 22 columns</p>\n",
              "</div>\n",
              "      <button class=\"colab-df-convert\" onclick=\"convertToInteractive('df-c3ce5792-5aa7-4e5b-b80f-8e0dc321636d')\"\n",
              "              title=\"Convert this dataframe to an interactive table.\"\n",
              "              style=\"display:none;\">\n",
              "        \n",
              "  <svg xmlns=\"http://www.w3.org/2000/svg\" height=\"24px\"viewBox=\"0 0 24 24\"\n",
              "       width=\"24px\">\n",
              "    <path d=\"M0 0h24v24H0V0z\" fill=\"none\"/>\n",
              "    <path d=\"M18.56 5.44l.94 2.06.94-2.06 2.06-.94-2.06-.94-.94-2.06-.94 2.06-2.06.94zm-11 1L8.5 8.5l.94-2.06 2.06-.94-2.06-.94L8.5 2.5l-.94 2.06-2.06.94zm10 10l.94 2.06.94-2.06 2.06-.94-2.06-.94-.94-2.06-.94 2.06-2.06.94z\"/><path d=\"M17.41 7.96l-1.37-1.37c-.4-.4-.92-.59-1.43-.59-.52 0-1.04.2-1.43.59L10.3 9.45l-7.72 7.72c-.78.78-.78 2.05 0 2.83L4 21.41c.39.39.9.59 1.41.59.51 0 1.02-.2 1.41-.59l7.78-7.78 2.81-2.81c.8-.78.8-2.07 0-2.86zM5.41 20L4 18.59l7.72-7.72 1.47 1.35L5.41 20z\"/>\n",
              "  </svg>\n",
              "      </button>\n",
              "      \n",
              "  <style>\n",
              "    .colab-df-container {\n",
              "      display:flex;\n",
              "      flex-wrap:wrap;\n",
              "      gap: 12px;\n",
              "    }\n",
              "\n",
              "    .colab-df-convert {\n",
              "      background-color: #E8F0FE;\n",
              "      border: none;\n",
              "      border-radius: 50%;\n",
              "      cursor: pointer;\n",
              "      display: none;\n",
              "      fill: #1967D2;\n",
              "      height: 32px;\n",
              "      padding: 0 0 0 0;\n",
              "      width: 32px;\n",
              "    }\n",
              "\n",
              "    .colab-df-convert:hover {\n",
              "      background-color: #E2EBFA;\n",
              "      box-shadow: 0px 1px 2px rgba(60, 64, 67, 0.3), 0px 1px 3px 1px rgba(60, 64, 67, 0.15);\n",
              "      fill: #174EA6;\n",
              "    }\n",
              "\n",
              "    [theme=dark] .colab-df-convert {\n",
              "      background-color: #3B4455;\n",
              "      fill: #D2E3FC;\n",
              "    }\n",
              "\n",
              "    [theme=dark] .colab-df-convert:hover {\n",
              "      background-color: #434B5C;\n",
              "      box-shadow: 0px 1px 3px 1px rgba(0, 0, 0, 0.15);\n",
              "      filter: drop-shadow(0px 1px 2px rgba(0, 0, 0, 0.3));\n",
              "      fill: #FFFFFF;\n",
              "    }\n",
              "  </style>\n",
              "\n",
              "      <script>\n",
              "        const buttonEl =\n",
              "          document.querySelector('#df-c3ce5792-5aa7-4e5b-b80f-8e0dc321636d button.colab-df-convert');\n",
              "        buttonEl.style.display =\n",
              "          google.colab.kernel.accessAllowed ? 'block' : 'none';\n",
              "\n",
              "        async function convertToInteractive(key) {\n",
              "          const element = document.querySelector('#df-c3ce5792-5aa7-4e5b-b80f-8e0dc321636d');\n",
              "          const dataTable =\n",
              "            await google.colab.kernel.invokeFunction('convertToInteractive',\n",
              "                                                     [key], {});\n",
              "          if (!dataTable) return;\n",
              "\n",
              "          const docLinkHtml = 'Like what you see? Visit the ' +\n",
              "            '<a target=\"_blank\" href=https://colab.research.google.com/notebooks/data_table.ipynb>data table notebook</a>'\n",
              "            + ' to learn more about interactive tables.';\n",
              "          element.innerHTML = '';\n",
              "          dataTable['output_type'] = 'display_data';\n",
              "          await google.colab.output.renderOutput(dataTable, element);\n",
              "          const docLink = document.createElement('div');\n",
              "          docLink.innerHTML = docLinkHtml;\n",
              "          element.appendChild(docLink);\n",
              "        }\n",
              "      </script>\n",
              "    </div>\n",
              "  </div>\n",
              "  "
            ]
          },
          "metadata": {},
          "execution_count": 67
        }
      ]
    },
    {
      "cell_type": "code",
      "source": [
        "# Checking null values percentage\n",
        "plt.figure(figsize=(12,6))\n",
        "msno = sns.heatmap(M.isnull(), yticklabels=False, cbar=False, cmap = 'viridis')"
      ],
      "metadata": {
        "colab": {
          "base_uri": "https://localhost:8080/",
          "height": 502
        },
        "id": "FI3J_D2Smufq",
        "outputId": "aed44bcf-2df7-405b-9869-71e2d709eaf6"
      },
      "execution_count": 68,
      "outputs": [
        {
          "output_type": "display_data",
          "data": {
            "text/plain": [
              "<Figure size 864x432 with 1 Axes>"
            ],
            "image/png": "[encoded data removed]"
          },
          "metadata": {
            "needs_background": "light"
          }
        }
      ]
    },
    {
      "cell_type": "code",
      "source": [
        "(M.isnull().sum() / M.isnull().count()).sort_values(ascending=False)"
      ],
      "metadata": {
        "colab": {
          "base_uri": "https://localhost:8080/"
        },
        "id": "vPRFVx3df45_",
        "outputId": "c69f4c81-703b-4b37-b0ad-23827a78ef94"
      },
      "execution_count": 69,
      "outputs": [
        {
          "output_type": "execute_result",
          "data": {
            "text/plain": [
              "Frontage length            0.997920\n",
              "Frontage type              0.997400\n",
              "Horses can be raised       0.997010\n",
              "                           0.996490\n",
              "Waterbody name             0.996100\n",
              "Living area range          0.991809\n",
              "Has waterview              0.960216\n",
              "Entry location             0.955405\n",
              "Waterview                  0.955275\n",
              "Residential vegetation     0.942079\n",
              "Spa included               0.941754\n",
              "Waterfront features        0.932263\n",
              "Topography of land         0.926217\n",
              "Private pool               0.871482\n",
              "Spa features               0.851589\n",
              "View description           0.791653\n",
              "Exterior features          0.710525\n",
              "Pool features              0.596048\n",
              "Fencing                    0.528050\n",
              "Patio and porch details    0.526620\n",
              "Stories                    0.374894\n",
              "Levels                     0.328675\n",
              "dtype: float64"
            ]
          },
          "metadata": {},
          "execution_count": 69
        }
      ]
    },
    {
      "cell_type": "markdown",
      "source": [
        "Checking two same meaning columns: \"Stories\" and \"Levels\""
      ],
      "metadata": {
        "id": "GnOt3_tVm2bI"
      }
    },
    {
      "cell_type": "code",
      "source": [
        "M[\"Stories\"].unique()"
      ],
      "metadata": {
        "colab": {
          "base_uri": "https://localhost:8080/"
        },
        "id": "6OHDM552ckV_",
        "outputId": "32160bf5-bcd7-47bc-ac61-9a7f1bc688dc"
      },
      "execution_count": 70,
      "outputs": [
        {
          "output_type": "execute_result",
          "data": {
            "text/plain": [
              "array([nan,  2.,  3.,  1.,  5.,  4.,  6.,  7.])"
            ]
          },
          "metadata": {},
          "execution_count": 70
        }
      ]
    },
    {
      "cell_type": "code",
      "source": [
        "M['Levels'].unique()"
      ],
      "metadata": {
        "colab": {
          "base_uri": "https://localhost:8080/"
        },
        "id": "sisdbpmAeGCR",
        "outputId": "f9216911-5d49-4371-9679-562b95cd8910"
      },
      "execution_count": 71,
      "outputs": [
        {
          "output_type": "execute_result",
          "data": {
            "text/plain": [
              "array([nan, 2.0, 'Three Or More', 'Two', 3.0, 1.0, 'Multi/Split', 'One',\n",
              "       4.0, 'Ground Level', 'One,Two', 'Multi/Split,Two',\n",
              "       'Three Or More,Multi/Split', 'Ground Level,One',\n",
              "       'One,Three Or More', 'Multi/Split,Three Or More',\n",
              "       'One,Two,Ground Level', 'Split Level', 'Multi/Split,Split Level',\n",
              "       'All Levels', 'Three', 'Split Level,One and One Half',\n",
              "       'One and One Half', 2.5, 'Split Level,Four', 'Three and One Half',\n",
              "       'Split Level,Three', 'Split Foyer,Two', 'Bi-level,Two', 'Six',\n",
              "       'Split Level,Two', 'Four', 'Split Level,2.5', 'Bi-level,Three',\n",
              "       'Bi-level,Split Level,Two', 'Bi-level,One and One Half', 'Seven',\n",
              "       'Bi-level,2.5', 'One,Multi/Split', 'One,Other', 'Two,Multi/Split',\n",
              "       '3 Story', 'Other/Remarks', 'One Story', 'Two Story',\n",
              "       'Split Level,Tri-Level', '2 Story,Split', 'Tri-Level',\n",
              "       'Multi-Level', 'Split', 'Single Story', '2 1/2 Story',\n",
              "       'Multi/Split,Bi-Level,Split-Level', '2 Story',\n",
              "       '2 story + basement', 'Two Story/Basement', 'Three Story',\n",
              "       'One Story Basement', 'Three Story/Basement', 'One Story/F.R.O.G.',\n",
              "       'Two and a Half Story/Basement', 'One and a Half Story/Basement',\n",
              "       'Two and a Half', 'One Leveland + Loft',\n",
              "       'Three or More Stories,Three Or More', 'Three or More Stories',\n",
              "       'Other', 'Bi-Level', 'Split Level,Split Foyer,Two', 'Five'],\n",
              "      dtype=object)"
            ]
          },
          "metadata": {},
          "execution_count": 71
        }
      ]
    },
    {
      "cell_type": "code",
      "source": [
        "for i in range(len(M)):\n",
        "    if M[\"Stories\"][i] not in np.array([1,2,3,4,5,6,7], dtype=np.float64):\n",
        "        M[\"Stories\"][i] = M[\"Levels\"][i]"
      ],
      "metadata": {
        "id": "kASukpdyaO5c"
      },
      "execution_count": 72,
      "outputs": []
    },
    {
      "cell_type": "code",
      "source": [
        "M['Stories'].unique()"
      ],
      "metadata": {
        "colab": {
          "base_uri": "https://localhost:8080/"
        },
        "id": "yGJzSnSueN3f",
        "outputId": "f70f9393-4289-47b7-dcd2-00fef40c06d5"
      },
      "execution_count": 73,
      "outputs": [
        {
          "output_type": "execute_result",
          "data": {
            "text/plain": [
              "array([nan, 2.0, 3.0, 1.0, 5.0, 'Multi/Split', 4.0, 'Two',\n",
              "       'Three Or More,Multi/Split', 'One', 'Three Or More', 6.0, 7.0,\n",
              "       'Other/Remarks', 'One and One Half', 'Split Level',\n",
              "       'Split Level,Tri-Level', 'Tri-Level', 'Single Story', '2 Story',\n",
              "       '2 story + basement', 'Two Story/Basement', 'Three Story',\n",
              "       'One Story Basement', 'Three Story/Basement', 'One Story/F.R.O.G.',\n",
              "       'Two and a Half Story/Basement', 'One and a Half Story/Basement',\n",
              "       'Three or More Stories,Three Or More', 'Three or More Stories',\n",
              "       'Other', 'Bi-Level'], dtype=object)"
            ]
          },
          "metadata": {},
          "execution_count": 73
        }
      ]
    },
    {
      "cell_type": "code",
      "source": [
        "(M.isnull().sum() / M.isnull().count()).sort_values(ascending=False)"
      ],
      "metadata": {
        "colab": {
          "base_uri": "https://localhost:8080/"
        },
        "id": "AhCYJyRba6Dg",
        "outputId": "a3305c2c-9d20-4209-cbd0-bd2f4d515e8c"
      },
      "execution_count": 74,
      "outputs": [
        {
          "output_type": "execute_result",
          "data": {
            "text/plain": [
              "Frontage length            0.997920\n",
              "Frontage type              0.997400\n",
              "Horses can be raised       0.997010\n",
              "                           0.996490\n",
              "Waterbody name             0.996100\n",
              "Living area range          0.991809\n",
              "Has waterview              0.960216\n",
              "Entry location             0.955405\n",
              "Waterview                  0.955275\n",
              "Residential vegetation     0.942079\n",
              "Spa included               0.941754\n",
              "Waterfront features        0.932263\n",
              "Topography of land         0.926217\n",
              "Private pool               0.871482\n",
              "Spa features               0.851589\n",
              "View description           0.791653\n",
              "Exterior features          0.710525\n",
              "Pool features              0.596048\n",
              "Fencing                    0.528050\n",
              "Patio and porch details    0.526620\n",
              "Levels                     0.328675\n",
              "Stories                    0.147565\n",
              "dtype: float64"
            ]
          },
          "metadata": {},
          "execution_count": 74
        }
      ]
    },
    {
      "cell_type": "code",
      "source": [
        "# Concat useful and non-duplicate column\n",
        "dff = pd.concat([dff, M[\"Stories\"]], axis=1)"
      ],
      "metadata": {
        "id": "93DIVpWLfExg"
      },
      "execution_count": 75,
      "outputs": []
    },
    {
      "cell_type": "code",
      "source": [
        "# Flatten 'Material information'\n",
        "N = pd.DataFrame([flatten_json(x) for x in dff['Material information']])\n",
        "N.head()"
      ],
      "metadata": {
        "colab": {
          "base_uri": "https://localhost:8080/",
          "height": 206
        },
        "id": "E3EG2QFxglr1",
        "outputId": "0a2d9a26-3f9f-480d-877c-c3349d302cab"
      },
      "execution_count": 76,
      "outputs": [
        {
          "output_type": "execute_result",
          "data": {
            "text/plain": [
              "  Construction materials Roof Foundation\n",
              "0                    NaN  NaN        NaN\n",
              "1                    NaN  NaN        NaN\n",
              "2                    NaN  NaN        NaN\n",
              "3                    NaN  NaN        NaN\n",
              "4                    NaN  NaN        NaN"
            ],
            "text/html": [
              "\n",
              "  <div id=\"df-1e1e1092-1fc2-4ace-bb57-594c0a0d50f2\">\n",
              "    <div class=\"colab-df-container\">\n",
              "      <div>\n",
              "<style scoped>\n",
              "    .dataframe tbody tr th:only-of-type {\n",
              "        vertical-align: middle;\n",
              "    }\n",
              "\n",
              "    .dataframe tbody tr th {\n",
              "        vertical-align: top;\n",
              "    }\n",
              "\n",
              "    .dataframe thead th {\n",
              "        text-align: right;\n",
              "    }\n",
              "</style>\n",
              "<table border=\"1\" class=\"dataframe\">\n",
              "  <thead>\n",
              "    <tr style=\"text-align: right;\">\n",
              "      <th></th>\n",
              "      <th>Construction materials</th>\n",
              "      <th>Roof</th>\n",
              "      <th>Foundation</th>\n",
              "    </tr>\n",
              "  </thead>\n",
              "  <tbody>\n",
              "    <tr>\n",
              "      <th>0</th>\n",
              "      <td>NaN</td>\n",
              "      <td>NaN</td>\n",
              "      <td>NaN</td>\n",
              "    </tr>\n",
              "    <tr>\n",
              "      <th>1</th>\n",
              "      <td>NaN</td>\n",
              "      <td>NaN</td>\n",
              "      <td>NaN</td>\n",
              "    </tr>\n",
              "    <tr>\n",
              "      <th>2</th>\n",
              "      <td>NaN</td>\n",
              "      <td>NaN</td>\n",
              "      <td>NaN</td>\n",
              "    </tr>\n",
              "    <tr>\n",
              "      <th>3</th>\n",
              "      <td>NaN</td>\n",
              "      <td>NaN</td>\n",
              "      <td>NaN</td>\n",
              "    </tr>\n",
              "    <tr>\n",
              "      <th>4</th>\n",
              "      <td>NaN</td>\n",
              "      <td>NaN</td>\n",
              "      <td>NaN</td>\n",
              "    </tr>\n",
              "  </tbody>\n",
              "</table>\n",
              "</div>\n",
              "      <button class=\"colab-df-convert\" onclick=\"convertToInteractive('df-1e1e1092-1fc2-4ace-bb57-594c0a0d50f2')\"\n",
              "              title=\"Convert this dataframe to an interactive table.\"\n",
              "              style=\"display:none;\">\n",
              "        \n",
              "  <svg xmlns=\"http://www.w3.org/2000/svg\" height=\"24px\"viewBox=\"0 0 24 24\"\n",
              "       width=\"24px\">\n",
              "    <path d=\"M0 0h24v24H0V0z\" fill=\"none\"/>\n",
              "    <path d=\"M18.56 5.44l.94 2.06.94-2.06 2.06-.94-2.06-.94-.94-2.06-.94 2.06-2.06.94zm-11 1L8.5 8.5l.94-2.06 2.06-.94-2.06-.94L8.5 2.5l-.94 2.06-2.06.94zm10 10l.94 2.06.94-2.06 2.06-.94-2.06-.94-.94-2.06-.94 2.06-2.06.94z\"/><path d=\"M17.41 7.96l-1.37-1.37c-.4-.4-.92-.59-1.43-.59-.52 0-1.04.2-1.43.59L10.3 9.45l-7.72 7.72c-.78.78-.78 2.05 0 2.83L4 21.41c.39.39.9.59 1.41.59.51 0 1.02-.2 1.41-.59l7.78-7.78 2.81-2.81c.8-.78.8-2.07 0-2.86zM5.41 20L4 18.59l7.72-7.72 1.47 1.35L5.41 20z\"/>\n",
              "  </svg>\n",
              "      </button>\n",
              "      \n",
              "  <style>\n",
              "    .colab-df-container {\n",
              "      display:flex;\n",
              "      flex-wrap:wrap;\n",
              "      gap: 12px;\n",
              "    }\n",
              "\n",
              "    .colab-df-convert {\n",
              "      background-color: #E8F0FE;\n",
              "      border: none;\n",
              "      border-radius: 50%;\n",
              "      cursor: pointer;\n",
              "      display: none;\n",
              "      fill: #1967D2;\n",
              "      height: 32px;\n",
              "      padding: 0 0 0 0;\n",
              "      width: 32px;\n",
              "    }\n",
              "\n",
              "    .colab-df-convert:hover {\n",
              "      background-color: #E2EBFA;\n",
              "      box-shadow: 0px 1px 2px rgba(60, 64, 67, 0.3), 0px 1px 3px 1px rgba(60, 64, 67, 0.15);\n",
              "      fill: #174EA6;\n",
              "    }\n",
              "\n",
              "    [theme=dark] .colab-df-convert {\n",
              "      background-color: #3B4455;\n",
              "      fill: #D2E3FC;\n",
              "    }\n",
              "\n",
              "    [theme=dark] .colab-df-convert:hover {\n",
              "      background-color: #434B5C;\n",
              "      box-shadow: 0px 1px 3px 1px rgba(0, 0, 0, 0.15);\n",
              "      filter: drop-shadow(0px 1px 2px rgba(0, 0, 0, 0.3));\n",
              "      fill: #FFFFFF;\n",
              "    }\n",
              "  </style>\n",
              "\n",
              "      <script>\n",
              "        const buttonEl =\n",
              "          document.querySelector('#df-1e1e1092-1fc2-4ace-bb57-594c0a0d50f2 button.colab-df-convert');\n",
              "        buttonEl.style.display =\n",
              "          google.colab.kernel.accessAllowed ? 'block' : 'none';\n",
              "\n",
              "        async function convertToInteractive(key) {\n",
              "          const element = document.querySelector('#df-1e1e1092-1fc2-4ace-bb57-594c0a0d50f2');\n",
              "          const dataTable =\n",
              "            await google.colab.kernel.invokeFunction('convertToInteractive',\n",
              "                                                     [key], {});\n",
              "          if (!dataTable) return;\n",
              "\n",
              "          const docLinkHtml = 'Like what you see? Visit the ' +\n",
              "            '<a target=\"_blank\" href=https://colab.research.google.com/notebooks/data_table.ipynb>data table notebook</a>'\n",
              "            + ' to learn more about interactive tables.';\n",
              "          element.innerHTML = '';\n",
              "          dataTable['output_type'] = 'display_data';\n",
              "          await google.colab.output.renderOutput(dataTable, element);\n",
              "          const docLink = document.createElement('div');\n",
              "          docLink.innerHTML = docLinkHtml;\n",
              "          element.appendChild(docLink);\n",
              "        }\n",
              "      </script>\n",
              "    </div>\n",
              "  </div>\n",
              "  "
            ]
          },
          "metadata": {},
          "execution_count": 76
        }
      ]
    },
    {
      "cell_type": "code",
      "source": [
        "# Checking null values percentage\n",
        "plt.figure(figsize=(12,6))\n",
        "msno = sns.heatmap(N.isnull(), yticklabels=False, cbar=False, cmap = 'viridis')"
      ],
      "metadata": {
        "colab": {
          "base_uri": "https://localhost:8080/",
          "height": 377
        },
        "id": "viT3net0nFvy",
        "outputId": "f3408efc-1ce0-4726-de35-5305de924154"
      },
      "execution_count": 77,
      "outputs": [
        {
          "output_type": "display_data",
          "data": {
            "text/plain": [
              "<Figure size 864x432 with 1 Axes>"
            ],
            "image/png": "[encoded data removed]"
          },
          "metadata": {
            "needs_background": "light"
          }
        }
      ]
    },
    {
      "cell_type": "code",
      "source": [
        "(N.isnull().sum() / N.isnull().count()).sort_values(ascending=False)"
      ],
      "metadata": {
        "colab": {
          "base_uri": "https://localhost:8080/"
        },
        "id": "nXVmyCwyhM1E",
        "outputId": "d9e088e4-510d-4f3b-fa1a-9d1e00af6c1a"
      },
      "execution_count": 78,
      "outputs": [
        {
          "output_type": "execute_result",
          "data": {
            "text/plain": [
              "Foundation                0.491127\n",
              "Roof                      0.377495\n",
              "Construction materials    0.185464\n",
              "dtype: float64"
            ]
          },
          "metadata": {},
          "execution_count": 78
        }
      ]
    },
    {
      "cell_type": "code",
      "source": [
        "# Concat useful and non-duplicate column\n",
        "dff = pd.concat([dff, N[\"Construction materials\"]], axis=1)\n",
        "dff = pd.concat([dff, N[\"Roof\"]], axis=1)\n",
        "dff = pd.concat([dff, N[\"Foundation\"]], axis=1)"
      ],
      "metadata": {
        "id": "-l4tk6T6hmUp"
      },
      "execution_count": 79,
      "outputs": []
    },
    {
      "cell_type": "code",
      "source": [
        "# Flatten 'Other facts'\n",
        "O = pd.DataFrame([flatten_json(x) for x in dff['Other facts']])\n",
        "O.head()"
      ],
      "metadata": {
        "colab": {
          "base_uri": "https://localhost:8080/",
          "height": 334
        },
        "id": "krmRAZzSDA83",
        "outputId": "04fd9159-1a91-4dab-ce07-0f59c100077b"
      },
      "execution_count": 80,
      "outputs": [
        {
          "output_type": "execute_result",
          "data": {
            "text/plain": [
              "  GarageYN HeatingYN Basement    Furnished SpecialListingConditions  \\\n",
              "0     true      true     Full  Unfurnished               Short Sale   \n",
              "1      NaN      true      NaN  Unfurnished               Short Sale   \n",
              "2      NaN       NaN      NaN          NaN                      NaN   \n",
              "3      NaN       NaN      NaN          NaN                      NaN   \n",
              "4      NaN       NaN      NaN          NaN                      NaN   \n",
              "\n",
              "  ParkingFeatures  YearBuiltEffective  CoveredSpaces  LandLeaseAmount  \\\n",
              "0        Detached                 0.0            0.0              0.0   \n",
              "1             NaN                 0.0            0.0              0.0   \n",
              "2             NaN                 NaN            NaN              NaN   \n",
              "3             NaN                 NaN            NaN              NaN   \n",
              "4             NaN                 NaN            NaN              NaN   \n",
              "\n",
              "  MlsStatus  ...  Road Frontage Driveway Type Subdivision Y/N  Total Rooms  \\\n",
              "0    Active  ...            NaN           NaN             NaN          NaN   \n",
              "1    Active  ...            NaN           NaN             NaN          NaN   \n",
              "2       NaN  ...            NaN           NaN             NaN          NaN   \n",
              "3       NaN  ...            NaN           NaN             NaN          NaN   \n",
              "4       NaN  ...            NaN           NaN             NaN          NaN   \n",
              "\n",
              "  Bath 1 Level  Semi-Annual Taxes Living Room Additional Rooms Floor Covering  \\\n",
              "0          NaN                NaN         NaN              NaN            NaN   \n",
              "1          NaN                NaN         NaN              NaN            NaN   \n",
              "2          NaN                NaN         NaN              NaN            NaN   \n",
              "3          NaN                NaN         NaN              NaN            NaN   \n",
              "4          NaN                NaN         NaN              NaN            NaN   \n",
              "\n",
              "  Lot Features  \n",
              "0          NaN  \n",
              "1          NaN  \n",
              "2          NaN  \n",
              "3          NaN  \n",
              "4          NaN  \n",
              "\n",
              "[5 rows x 245 columns]"
            ],
            "text/html": [
              "\n",
              "  <div id=\"df-aacf4059-4bcb-4a3b-8f92-7fb2596dda4b\">\n",
              "    <div class=\"colab-df-container\">\n",
              "      <div>\n",
              "<style scoped>\n",
              "    .dataframe tbody tr th:only-of-type {\n",
              "        vertical-align: middle;\n",
              "    }\n",
              "\n",
              "    .dataframe tbody tr th {\n",
              "        vertical-align: top;\n",
              "    }\n",
              "\n",
              "    .dataframe thead th {\n",
              "        text-align: right;\n",
              "    }\n",
              "</style>\n",
              "<table border=\"1\" class=\"dataframe\">\n",
              "  <thead>\n",
              "    <tr style=\"text-align: right;\">\n",
              "      <th></th>\n",
              "      <th>GarageYN</th>\n",
              "      <th>HeatingYN</th>\n",
              "      <th>Basement</th>\n",
              "      <th>Furnished</th>\n",
              "      <th>SpecialListingConditions</th>\n",
              "      <th>ParkingFeatures</th>\n",
              "      <th>YearBuiltEffective</th>\n",
              "      <th>CoveredSpaces</th>\n",
              "      <th>LandLeaseAmount</th>\n",
              "      <th>MlsStatus</th>\n",
              "      <th>...</th>\n",
              "      <th>Road Frontage</th>\n",
              "      <th>Driveway Type</th>\n",
              "      <th>Subdivision Y/N</th>\n",
              "      <th>Total Rooms</th>\n",
              "      <th>Bath 1 Level</th>\n",
              "      <th>Semi-Annual Taxes</th>\n",
              "      <th>Living Room</th>\n",
              "      <th>Additional Rooms</th>\n",
              "      <th>Floor Covering</th>\n",
              "      <th>Lot Features</th>\n",
              "    </tr>\n",
              "  </thead>\n",
              "  <tbody>\n",
              "    <tr>\n",
              "      <th>0</th>\n",
              "      <td>true</td>\n",
              "      <td>true</td>\n",
              "      <td>Full</td>\n",
              "      <td>Unfurnished</td>\n",
              "      <td>Short Sale</td>\n",
              "      <td>Detached</td>\n",
              "      <td>0.0</td>\n",
              "      <td>0.0</td>\n",
              "      <td>0.0</td>\n",
              "      <td>Active</td>\n",
              "      <td>...</td>\n",
              "      <td>NaN</td>\n",
              "      <td>NaN</td>\n",
              "      <td>NaN</td>\n",
              "      <td>NaN</td>\n",
              "      <td>NaN</td>\n",
              "      <td>NaN</td>\n",
              "      <td>NaN</td>\n",
              "      <td>NaN</td>\n",
              "      <td>NaN</td>\n",
              "      <td>NaN</td>\n",
              "    </tr>\n",
              "    <tr>\n",
              "      <th>1</th>\n",
              "      <td>NaN</td>\n",
              "      <td>true</td>\n",
              "      <td>NaN</td>\n",
              "      <td>Unfurnished</td>\n",
              "      <td>Short Sale</td>\n",
              "      <td>NaN</td>\n",
              "      <td>0.0</td>\n",
              "      <td>0.0</td>\n",
              "      <td>0.0</td>\n",
              "      <td>Active</td>\n",
              "      <td>...</td>\n",
              "      <td>NaN</td>\n",
              "      <td>NaN</td>\n",
              "      <td>NaN</td>\n",
              "      <td>NaN</td>\n",
              "      <td>NaN</td>\n",
              "      <td>NaN</td>\n",
              "      <td>NaN</td>\n",
              "      <td>NaN</td>\n",
              "      <td>NaN</td>\n",
              "      <td>NaN</td>\n",
              "    </tr>\n",
              "    <tr>\n",
              "      <th>2</th>\n",
              "      <td>NaN</td>\n",
              "      <td>NaN</td>\n",
              "      <td>NaN</td>\n",
              "      <td>NaN</td>\n",
              "      <td>NaN</td>\n",
              "      <td>NaN</td>\n",
              "      <td>NaN</td>\n",
              "      <td>NaN</td>\n",
              "      <td>NaN</td>\n",
              "      <td>NaN</td>\n",
              "      <td>...</td>\n",
              "      <td>NaN</td>\n",
              "      <td>NaN</td>\n",
              "      <td>NaN</td>\n",
              "      <td>NaN</td>\n",
              "      <td>NaN</td>\n",
              "      <td>NaN</td>\n",
              "      <td>NaN</td>\n",
              "      <td>NaN</td>\n",
              "      <td>NaN</td>\n",
              "      <td>NaN</td>\n",
              "    </tr>\n",
              "    <tr>\n",
              "      <th>3</th>\n",
              "      <td>NaN</td>\n",
              "      <td>NaN</td>\n",
              "      <td>NaN</td>\n",
              "      <td>NaN</td>\n",
              "      <td>NaN</td>\n",
              "      <td>NaN</td>\n",
              "      <td>NaN</td>\n",
              "      <td>NaN</td>\n",
              "      <td>NaN</td>\n",
              "      <td>NaN</td>\n",
              "      <td>...</td>\n",
              "      <td>NaN</td>\n",
              "      <td>NaN</td>\n",
              "      <td>NaN</td>\n",
              "      <td>NaN</td>\n",
              "      <td>NaN</td>\n",
              "      <td>NaN</td>\n",
              "      <td>NaN</td>\n",
              "      <td>NaN</td>\n",
              "      <td>NaN</td>\n",
              "      <td>NaN</td>\n",
              "    </tr>\n",
              "    <tr>\n",
              "      <th>4</th>\n",
              "      <td>NaN</td>\n",
              "      <td>NaN</td>\n",
              "      <td>NaN</td>\n",
              "      <td>NaN</td>\n",
              "      <td>NaN</td>\n",
              "      <td>NaN</td>\n",
              "      <td>NaN</td>\n",
              "      <td>NaN</td>\n",
              "      <td>NaN</td>\n",
              "      <td>NaN</td>\n",
              "      <td>...</td>\n",
              "      <td>NaN</td>\n",
              "      <td>NaN</td>\n",
              "      <td>NaN</td>\n",
              "      <td>NaN</td>\n",
              "      <td>NaN</td>\n",
              "      <td>NaN</td>\n",
              "      <td>NaN</td>\n",
              "      <td>NaN</td>\n",
              "      <td>NaN</td>\n",
              "      <td>NaN</td>\n",
              "    </tr>\n",
              "  </tbody>\n",
              "</table>\n",
              "<p>5 rows × 245 columns</p>\n",
              "</div>\n",
              "      <button class=\"colab-df-convert\" onclick=\"convertToInteractive('df-aacf4059-4bcb-4a3b-8f92-7fb2596dda4b')\"\n",
              "              title=\"Convert this dataframe to an interactive table.\"\n",
              "              style=\"display:none;\">\n",
              "        \n",
              "  <svg xmlns=\"http://www.w3.org/2000/svg\" height=\"24px\"viewBox=\"0 0 24 24\"\n",
              "       width=\"24px\">\n",
              "    <path d=\"M0 0h24v24H0V0z\" fill=\"none\"/>\n",
              "    <path d=\"M18.56 5.44l.94 2.06.94-2.06 2.06-.94-2.06-.94-.94-2.06-.94 2.06-2.06.94zm-11 1L8.5 8.5l.94-2.06 2.06-.94-2.06-.94L8.5 2.5l-.94 2.06-2.06.94zm10 10l.94 2.06.94-2.06 2.06-.94-2.06-.94-.94-2.06-.94 2.06-2.06.94z\"/><path d=\"M17.41 7.96l-1.37-1.37c-.4-.4-.92-.59-1.43-.59-.52 0-1.04.2-1.43.59L10.3 9.45l-7.72 7.72c-.78.78-.78 2.05 0 2.83L4 21.41c.39.39.9.59 1.41.59.51 0 1.02-.2 1.41-.59l7.78-7.78 2.81-2.81c.8-.78.8-2.07 0-2.86zM5.41 20L4 18.59l7.72-7.72 1.47 1.35L5.41 20z\"/>\n",
              "  </svg>\n",
              "      </button>\n",
              "      \n",
              "  <style>\n",
              "    .colab-df-container {\n",
              "      display:flex;\n",
              "      flex-wrap:wrap;\n",
              "      gap: 12px;\n",
              "    }\n",
              "\n",
              "    .colab-df-convert {\n",
              "      background-color: #E8F0FE;\n",
              "      border: none;\n",
              "      border-radius: 50%;\n",
              "      cursor: pointer;\n",
              "      display: none;\n",
              "      fill: #1967D2;\n",
              "      height: 32px;\n",
              "      padding: 0 0 0 0;\n",
              "      width: 32px;\n",
              "    }\n",
              "\n",
              "    .colab-df-convert:hover {\n",
              "      background-color: #E2EBFA;\n",
              "      box-shadow: 0px 1px 2px rgba(60, 64, 67, 0.3), 0px 1px 3px 1px rgba(60, 64, 67, 0.15);\n",
              "      fill: #174EA6;\n",
              "    }\n",
              "\n",
              "    [theme=dark] .colab-df-convert {\n",
              "      background-color: #3B4455;\n",
              "      fill: #D2E3FC;\n",
              "    }\n",
              "\n",
              "    [theme=dark] .colab-df-convert:hover {\n",
              "      background-color: #434B5C;\n",
              "      box-shadow: 0px 1px 3px 1px rgba(0, 0, 0, 0.15);\n",
              "      filter: drop-shadow(0px 1px 2px rgba(0, 0, 0, 0.3));\n",
              "      fill: #FFFFFF;\n",
              "    }\n",
              "  </style>\n",
              "\n",
              "      <script>\n",
              "        const buttonEl =\n",
              "          document.querySelector('#df-aacf4059-4bcb-4a3b-8f92-7fb2596dda4b button.colab-df-convert');\n",
              "        buttonEl.style.display =\n",
              "          google.colab.kernel.accessAllowed ? 'block' : 'none';\n",
              "\n",
              "        async function convertToInteractive(key) {\n",
              "          const element = document.querySelector('#df-aacf4059-4bcb-4a3b-8f92-7fb2596dda4b');\n",
              "          const dataTable =\n",
              "            await google.colab.kernel.invokeFunction('convertToInteractive',\n",
              "                                                     [key], {});\n",
              "          if (!dataTable) return;\n",
              "\n",
              "          const docLinkHtml = 'Like what you see? Visit the ' +\n",
              "            '<a target=\"_blank\" href=https://colab.research.google.com/notebooks/data_table.ipynb>data table notebook</a>'\n",
              "            + ' to learn more about interactive tables.';\n",
              "          element.innerHTML = '';\n",
              "          dataTable['output_type'] = 'display_data';\n",
              "          await google.colab.output.renderOutput(dataTable, element);\n",
              "          const docLink = document.createElement('div');\n",
              "          docLink.innerHTML = docLinkHtml;\n",
              "          element.appendChild(docLink);\n",
              "        }\n",
              "      </script>\n",
              "    </div>\n",
              "  </div>\n",
              "  "
            ]
          },
          "metadata": {},
          "execution_count": 80
        }
      ]
    },
    {
      "cell_type": "code",
      "source": [
        "# Cannot use any of these columns\n",
        "(O.isnull().sum() / O.isnull().count()).sort_values(ascending=False)"
      ],
      "metadata": {
        "colab": {
          "base_uri": "https://localhost:8080/"
        },
        "id": "2VzAsCaLDuXT",
        "outputId": "ecbfad4e-a0ee-49bc-a272-5f29ae7e3cbe"
      },
      "execution_count": 81,
      "outputs": [
        {
          "output_type": "execute_result",
          "data": {
            "text/plain": [
              "Lot Features         0.999935\n",
              "State                0.999935\n",
              "Interior             0.999935\n",
              "Listoffice State     0.999935\n",
              "Bonus Room           0.999935\n",
              "                       ...   \n",
              "Price Range          0.865501\n",
              "Road surface type    0.824547\n",
              "Listing Agreement    0.808165\n",
              "Ownership            0.726906\n",
              "Listing Terms        0.579796\n",
              "Length: 245, dtype: float64"
            ]
          },
          "metadata": {},
          "execution_count": 81
        }
      ]
    },
    {
      "cell_type": "code",
      "source": [
        "# Flatten 'Flooring'\n",
        "P = pd.DataFrame([flatten_json(x) for x in dff['Flooring']])\n",
        "P.head()"
      ],
      "metadata": {
        "colab": {
          "base_uri": "https://localhost:8080/",
          "height": 206
        },
        "id": "jn9MFlWUECch",
        "outputId": "8e7890af-1720-4f4b-b739-c7437714fa71"
      },
      "execution_count": 82,
      "outputs": [
        {
          "output_type": "execute_result",
          "data": {
            "text/plain": [
              "  Flooring\n",
              "0      NaN\n",
              "1      Til\n",
              "2      NaN\n",
              "3      NaN\n",
              "4      NaN"
            ],
            "text/html": [
              "\n",
              "  <div id=\"df-533b7dd1-a388-43ef-a1f7-0ec6aac75327\">\n",
              "    <div class=\"colab-df-container\">\n",
              "      <div>\n",
              "<style scoped>\n",
              "    .dataframe tbody tr th:only-of-type {\n",
              "        vertical-align: middle;\n",
              "    }\n",
              "\n",
              "    .dataframe tbody tr th {\n",
              "        vertical-align: top;\n",
              "    }\n",
              "\n",
              "    .dataframe thead th {\n",
              "        text-align: right;\n",
              "    }\n",
              "</style>\n",
              "<table border=\"1\" class=\"dataframe\">\n",
              "  <thead>\n",
              "    <tr style=\"text-align: right;\">\n",
              "      <th></th>\n",
              "      <th>Flooring</th>\n",
              "    </tr>\n",
              "  </thead>\n",
              "  <tbody>\n",
              "    <tr>\n",
              "      <th>0</th>\n",
              "      <td>NaN</td>\n",
              "    </tr>\n",
              "    <tr>\n",
              "      <th>1</th>\n",
              "      <td>Til</td>\n",
              "    </tr>\n",
              "    <tr>\n",
              "      <th>2</th>\n",
              "      <td>NaN</td>\n",
              "    </tr>\n",
              "    <tr>\n",
              "      <th>3</th>\n",
              "      <td>NaN</td>\n",
              "    </tr>\n",
              "    <tr>\n",
              "      <th>4</th>\n",
              "      <td>NaN</td>\n",
              "    </tr>\n",
              "  </tbody>\n",
              "</table>\n",
              "</div>\n",
              "      <button class=\"colab-df-convert\" onclick=\"convertToInteractive('df-533b7dd1-a388-43ef-a1f7-0ec6aac75327')\"\n",
              "              title=\"Convert this dataframe to an interactive table.\"\n",
              "              style=\"display:none;\">\n",
              "        \n",
              "  <svg xmlns=\"http://www.w3.org/2000/svg\" height=\"24px\"viewBox=\"0 0 24 24\"\n",
              "       width=\"24px\">\n",
              "    <path d=\"M0 0h24v24H0V0z\" fill=\"none\"/>\n",
              "    <path d=\"M18.56 5.44l.94 2.06.94-2.06 2.06-.94-2.06-.94-.94-2.06-.94 2.06-2.06.94zm-11 1L8.5 8.5l.94-2.06 2.06-.94-2.06-.94L8.5 2.5l-.94 2.06-2.06.94zm10 10l.94 2.06.94-2.06 2.06-.94-2.06-.94-.94-2.06-.94 2.06-2.06.94z\"/><path d=\"M17.41 7.96l-1.37-1.37c-.4-.4-.92-.59-1.43-.59-.52 0-1.04.2-1.43.59L10.3 9.45l-7.72 7.72c-.78.78-.78 2.05 0 2.83L4 21.41c.39.39.9.59 1.41.59.51 0 1.02-.2 1.41-.59l7.78-7.78 2.81-2.81c.8-.78.8-2.07 0-2.86zM5.41 20L4 18.59l7.72-7.72 1.47 1.35L5.41 20z\"/>\n",
              "  </svg>\n",
              "      </button>\n",
              "      \n",
              "  <style>\n",
              "    .colab-df-container {\n",
              "      display:flex;\n",
              "      flex-wrap:wrap;\n",
              "      gap: 12px;\n",
              "    }\n",
              "\n",
              "    .colab-df-convert {\n",
              "      background-color: #E8F0FE;\n",
              "      border: none;\n",
              "      border-radius: 50%;\n",
              "      cursor: pointer;\n",
              "      display: none;\n",
              "      fill: #1967D2;\n",
              "      height: 32px;\n",
              "      padding: 0 0 0 0;\n",
              "      width: 32px;\n",
              "    }\n",
              "\n",
              "    .colab-df-convert:hover {\n",
              "      background-color: #E2EBFA;\n",
              "      box-shadow: 0px 1px 2px rgba(60, 64, 67, 0.3), 0px 1px 3px 1px rgba(60, 64, 67, 0.15);\n",
              "      fill: #174EA6;\n",
              "    }\n",
              "\n",
              "    [theme=dark] .colab-df-convert {\n",
              "      background-color: #3B4455;\n",
              "      fill: #D2E3FC;\n",
              "    }\n",
              "\n",
              "    [theme=dark] .colab-df-convert:hover {\n",
              "      background-color: #434B5C;\n",
              "      box-shadow: 0px 1px 3px 1px rgba(0, 0, 0, 0.15);\n",
              "      filter: drop-shadow(0px 1px 2px rgba(0, 0, 0, 0.3));\n",
              "      fill: #FFFFFF;\n",
              "    }\n",
              "  </style>\n",
              "\n",
              "      <script>\n",
              "        const buttonEl =\n",
              "          document.querySelector('#df-533b7dd1-a388-43ef-a1f7-0ec6aac75327 button.colab-df-convert');\n",
              "        buttonEl.style.display =\n",
              "          google.colab.kernel.accessAllowed ? 'block' : 'none';\n",
              "\n",
              "        async function convertToInteractive(key) {\n",
              "          const element = document.querySelector('#df-533b7dd1-a388-43ef-a1f7-0ec6aac75327');\n",
              "          const dataTable =\n",
              "            await google.colab.kernel.invokeFunction('convertToInteractive',\n",
              "                                                     [key], {});\n",
              "          if (!dataTable) return;\n",
              "\n",
              "          const docLinkHtml = 'Like what you see? Visit the ' +\n",
              "            '<a target=\"_blank\" href=https://colab.research.google.com/notebooks/data_table.ipynb>data table notebook</a>'\n",
              "            + ' to learn more about interactive tables.';\n",
              "          element.innerHTML = '';\n",
              "          dataTable['output_type'] = 'display_data';\n",
              "          await google.colab.output.renderOutput(dataTable, element);\n",
              "          const docLink = document.createElement('div');\n",
              "          docLink.innerHTML = docLinkHtml;\n",
              "          element.appendChild(docLink);\n",
              "        }\n",
              "      </script>\n",
              "    </div>\n",
              "  </div>\n",
              "  "
            ]
          },
          "metadata": {},
          "execution_count": 82
        }
      ]
    },
    {
      "cell_type": "code",
      "source": [
        "# Checking null values percentage\n",
        "plt.figure(figsize=(12,6))\n",
        "msno = sns.heatmap(P.isnull(), yticklabels=False, cbar=False, cmap = 'viridis')"
      ],
      "metadata": {
        "colab": {
          "base_uri": "https://localhost:8080/",
          "height": 377
        },
        "id": "BGBkBTWJnawA",
        "outputId": "ab688552-148e-4ea7-ce91-d8f224698b9f"
      },
      "execution_count": 83,
      "outputs": [
        {
          "output_type": "display_data",
          "data": {
            "text/plain": [
              "<Figure size 864x432 with 1 Axes>"
            ],
            "image/png": "[encoded data removed]"
          },
          "metadata": {
            "needs_background": "light"
          }
        }
      ]
    },
    {
      "cell_type": "code",
      "source": [
        "(P.isnull().sum() / P.isnull().count()).sort_values(ascending=False)"
      ],
      "metadata": {
        "colab": {
          "base_uri": "https://localhost:8080/"
        },
        "id": "yoTZbjXNELVN",
        "outputId": "9bce7c39-164a-4ad2-f0cc-dcdc318e54b8"
      },
      "execution_count": 84,
      "outputs": [
        {
          "output_type": "execute_result",
          "data": {
            "text/plain": [
              "Flooring    0.295651\n",
              "dtype: float64"
            ]
          },
          "metadata": {},
          "execution_count": 84
        }
      ]
    },
    {
      "cell_type": "code",
      "source": [
        "# Concat useful and non-duplicate column\n",
        "dff = pd.concat([dff, P[\"Flooring\"]], axis=1)"
      ],
      "metadata": {
        "id": "XQO0WkmCEQ9L"
      },
      "execution_count": 85,
      "outputs": []
    },
    {
      "cell_type": "code",
      "source": [
        "# Flatten 'Interior Features'\n",
        "Q = pd.DataFrame([flatten_json(x) for x in dff['Interior Features']])\n",
        "Q.head()"
      ],
      "metadata": {
        "colab": {
          "base_uri": "https://localhost:8080/",
          "height": 206
        },
        "id": "9dbsBthwEjKV",
        "outputId": "831294f7-a175-4972-b281-42cbd538b57a"
      },
      "execution_count": 86,
      "outputs": [
        {
          "output_type": "execute_result",
          "data": {
            "text/plain": [
              "  Interior features Window features Door features     \n",
              "0               NaN             NaN           NaN  NaN\n",
              "1               NaN             NaN           NaN  NaN\n",
              "2               NaN             NaN           NaN  NaN\n",
              "3               NaN             NaN           NaN  NaN\n",
              "4               NaN             NaN           NaN  NaN"
            ],
            "text/html": [
              "\n",
              "  <div id=\"df-5f54f8e1-2367-429c-8ee5-bb0133f64b88\">\n",
              "    <div class=\"colab-df-container\">\n",
              "      <div>\n",
              "<style scoped>\n",
              "    .dataframe tbody tr th:only-of-type {\n",
              "        vertical-align: middle;\n",
              "    }\n",
              "\n",
              "    .dataframe tbody tr th {\n",
              "        vertical-align: top;\n",
              "    }\n",
              "\n",
              "    .dataframe thead th {\n",
              "        text-align: right;\n",
              "    }\n",
              "</style>\n",
              "<table border=\"1\" class=\"dataframe\">\n",
              "  <thead>\n",
              "    <tr style=\"text-align: right;\">\n",
              "      <th></th>\n",
              "      <th>Interior features</th>\n",
              "      <th>Window features</th>\n",
              "      <th>Door features</th>\n",
              "      <th></th>\n",
              "    </tr>\n",
              "  </thead>\n",
              "  <tbody>\n",
              "    <tr>\n",
              "      <th>0</th>\n",
              "      <td>NaN</td>\n",
              "      <td>NaN</td>\n",
              "      <td>NaN</td>\n",
              "      <td>NaN</td>\n",
              "    </tr>\n",
              "    <tr>\n",
              "      <th>1</th>\n",
              "      <td>NaN</td>\n",
              "      <td>NaN</td>\n",
              "      <td>NaN</td>\n",
              "      <td>NaN</td>\n",
              "    </tr>\n",
              "    <tr>\n",
              "      <th>2</th>\n",
              "      <td>NaN</td>\n",
              "      <td>NaN</td>\n",
              "      <td>NaN</td>\n",
              "      <td>NaN</td>\n",
              "    </tr>\n",
              "    <tr>\n",
              "      <th>3</th>\n",
              "      <td>NaN</td>\n",
              "      <td>NaN</td>\n",
              "      <td>NaN</td>\n",
              "      <td>NaN</td>\n",
              "    </tr>\n",
              "    <tr>\n",
              "      <th>4</th>\n",
              "      <td>NaN</td>\n",
              "      <td>NaN</td>\n",
              "      <td>NaN</td>\n",
              "      <td>NaN</td>\n",
              "    </tr>\n",
              "  </tbody>\n",
              "</table>\n",
              "</div>\n",
              "      <button class=\"colab-df-convert\" onclick=\"convertToInteractive('df-5f54f8e1-2367-429c-8ee5-bb0133f64b88')\"\n",
              "              title=\"Convert this dataframe to an interactive table.\"\n",
              "              style=\"display:none;\">\n",
              "        \n",
              "  <svg xmlns=\"http://www.w3.org/2000/svg\" height=\"24px\"viewBox=\"0 0 24 24\"\n",
              "       width=\"24px\">\n",
              "    <path d=\"M0 0h24v24H0V0z\" fill=\"none\"/>\n",
              "    <path d=\"M18.56 5.44l.94 2.06.94-2.06 2.06-.94-2.06-.94-.94-2.06-.94 2.06-2.06.94zm-11 1L8.5 8.5l.94-2.06 2.06-.94-2.06-.94L8.5 2.5l-.94 2.06-2.06.94zm10 10l.94 2.06.94-2.06 2.06-.94-2.06-.94-.94-2.06-.94 2.06-2.06.94z\"/><path d=\"M17.41 7.96l-1.37-1.37c-.4-.4-.92-.59-1.43-.59-.52 0-1.04.2-1.43.59L10.3 9.45l-7.72 7.72c-.78.78-.78 2.05 0 2.83L4 21.41c.39.39.9.59 1.41.59.51 0 1.02-.2 1.41-.59l7.78-7.78 2.81-2.81c.8-.78.8-2.07 0-2.86zM5.41 20L4 18.59l7.72-7.72 1.47 1.35L5.41 20z\"/>\n",
              "  </svg>\n",
              "      </button>\n",
              "      \n",
              "  <style>\n",
              "    .colab-df-container {\n",
              "      display:flex;\n",
              "      flex-wrap:wrap;\n",
              "      gap: 12px;\n",
              "    }\n",
              "\n",
              "    .colab-df-convert {\n",
              "      background-color: #E8F0FE;\n",
              "      border: none;\n",
              "      border-radius: 50%;\n",
              "      cursor: pointer;\n",
              "      display: none;\n",
              "      fill: #1967D2;\n",
              "      height: 32px;\n",
              "      padding: 0 0 0 0;\n",
              "      width: 32px;\n",
              "    }\n",
              "\n",
              "    .colab-df-convert:hover {\n",
              "      background-color: #E2EBFA;\n",
              "      box-shadow: 0px 1px 2px rgba(60, 64, 67, 0.3), 0px 1px 3px 1px rgba(60, 64, 67, 0.15);\n",
              "      fill: #174EA6;\n",
              "    }\n",
              "\n",
              "    [theme=dark] .colab-df-convert {\n",
              "      background-color: #3B4455;\n",
              "      fill: #D2E3FC;\n",
              "    }\n",
              "\n",
              "    [theme=dark] .colab-df-convert:hover {\n",
              "      background-color: #434B5C;\n",
              "      box-shadow: 0px 1px 3px 1px rgba(0, 0, 0, 0.15);\n",
              "      filter: drop-shadow(0px 1px 2px rgba(0, 0, 0, 0.3));\n",
              "      fill: #FFFFFF;\n",
              "    }\n",
              "  </style>\n",
              "\n",
              "      <script>\n",
              "        const buttonEl =\n",
              "          document.querySelector('#df-5f54f8e1-2367-429c-8ee5-bb0133f64b88 button.colab-df-convert');\n",
              "        buttonEl.style.display =\n",
              "          google.colab.kernel.accessAllowed ? 'block' : 'none';\n",
              "\n",
              "        async function convertToInteractive(key) {\n",
              "          const element = document.querySelector('#df-5f54f8e1-2367-429c-8ee5-bb0133f64b88');\n",
              "          const dataTable =\n",
              "            await google.colab.kernel.invokeFunction('convertToInteractive',\n",
              "                                                     [key], {});\n",
              "          if (!dataTable) return;\n",
              "\n",
              "          const docLinkHtml = 'Like what you see? Visit the ' +\n",
              "            '<a target=\"_blank\" href=https://colab.research.google.com/notebooks/data_table.ipynb>data table notebook</a>'\n",
              "            + ' to learn more about interactive tables.';\n",
              "          element.innerHTML = '';\n",
              "          dataTable['output_type'] = 'display_data';\n",
              "          await google.colab.output.renderOutput(dataTable, element);\n",
              "          const docLink = document.createElement('div');\n",
              "          docLink.innerHTML = docLinkHtml;\n",
              "          element.appendChild(docLink);\n",
              "        }\n",
              "      </script>\n",
              "    </div>\n",
              "  </div>\n",
              "  "
            ]
          },
          "metadata": {},
          "execution_count": 86
        }
      ]
    },
    {
      "cell_type": "code",
      "source": [
        "# Checking null values percentage\n",
        "plt.figure(figsize=(12,6))\n",
        "msno = sns.heatmap(Q.isnull(), yticklabels=False, cbar=False, cmap = 'viridis')"
      ],
      "metadata": {
        "colab": {
          "base_uri": "https://localhost:8080/",
          "height": 377
        },
        "id": "9G5gHmz8nfec",
        "outputId": "92507ab7-231b-4065-c642-4369a793ba78"
      },
      "execution_count": 87,
      "outputs": [
        {
          "output_type": "display_data",
          "data": {
            "text/plain": [
              "<Figure size 864x432 with 1 Axes>"
            ],
            "image/png": "[encoded data removed]"
          },
          "metadata": {
            "needs_background": "light"
          }
        }
      ]
    },
    {
      "cell_type": "code",
      "source": [
        "(Q.isnull().sum() / Q.isnull().count()).sort_values(ascending=False)"
      ],
      "metadata": {
        "colab": {
          "base_uri": "https://localhost:8080/"
        },
        "id": "H2l8b8KFEsbN",
        "outputId": "82074950-ed49-45d4-c5d9-6e5043fd5156"
      },
      "execution_count": 88,
      "outputs": [
        {
          "output_type": "execute_result",
          "data": {
            "text/plain": [
              "                     0.958396\n",
              "Door features        0.946564\n",
              "Window features      0.650783\n",
              "Interior features    0.340051\n",
              "dtype: float64"
            ]
          },
          "metadata": {},
          "execution_count": 88
        }
      ]
    },
    {
      "cell_type": "code",
      "source": [
        "# Concat useful and non-duplicate column\n",
        "dff = pd.concat([dff, Q[\"Interior features\"]], axis=1)"
      ],
      "metadata": {
        "id": "44dJuQ3nGOst"
      },
      "execution_count": 89,
      "outputs": []
    },
    {
      "cell_type": "code",
      "source": [
        "# Flatten 'Other financial information'\n",
        "R = pd.DataFrame([flatten_json(x) for x in dff['Other financial information']])\n",
        "R.head()"
      ],
      "metadata": {
        "colab": {
          "base_uri": "https://localhost:8080/",
          "height": 206
        },
        "id": "CB25BWe-FHWm",
        "outputId": "81a2292f-557b-411d-e07e-8dd85cd08f8a"
      },
      "execution_count": 90,
      "outputs": [
        {
          "output_type": "execute_result",
          "data": {
            "text/plain": [
              "  Buyer agency compensation       Total actual rent Additional fee information\n",
              "0                       NaN  NaN                NaN                        NaN\n",
              "1                       NaN  NaN                NaN                        NaN\n",
              "2                       NaN  NaN                NaN                        NaN\n",
              "3                       NaN  NaN                NaN                        NaN\n",
              "4                       NaN  NaN                NaN                        NaN"
            ],
            "text/html": [
              "\n",
              "  <div id=\"df-d122d21d-55c4-4dea-a852-abffac36079a\">\n",
              "    <div class=\"colab-df-container\">\n",
              "      <div>\n",
              "<style scoped>\n",
              "    .dataframe tbody tr th:only-of-type {\n",
              "        vertical-align: middle;\n",
              "    }\n",
              "\n",
              "    .dataframe tbody tr th {\n",
              "        vertical-align: top;\n",
              "    }\n",
              "\n",
              "    .dataframe thead th {\n",
              "        text-align: right;\n",
              "    }\n",
              "</style>\n",
              "<table border=\"1\" class=\"dataframe\">\n",
              "  <thead>\n",
              "    <tr style=\"text-align: right;\">\n",
              "      <th></th>\n",
              "      <th>Buyer agency compensation</th>\n",
              "      <th></th>\n",
              "      <th>Total actual rent</th>\n",
              "      <th>Additional fee information</th>\n",
              "    </tr>\n",
              "  </thead>\n",
              "  <tbody>\n",
              "    <tr>\n",
              "      <th>0</th>\n",
              "      <td>NaN</td>\n",
              "      <td>NaN</td>\n",
              "      <td>NaN</td>\n",
              "      <td>NaN</td>\n",
              "    </tr>\n",
              "    <tr>\n",
              "      <th>1</th>\n",
              "      <td>NaN</td>\n",
              "      <td>NaN</td>\n",
              "      <td>NaN</td>\n",
              "      <td>NaN</td>\n",
              "    </tr>\n",
              "    <tr>\n",
              "      <th>2</th>\n",
              "      <td>NaN</td>\n",
              "      <td>NaN</td>\n",
              "      <td>NaN</td>\n",
              "      <td>NaN</td>\n",
              "    </tr>\n",
              "    <tr>\n",
              "      <th>3</th>\n",
              "      <td>NaN</td>\n",
              "      <td>NaN</td>\n",
              "      <td>NaN</td>\n",
              "      <td>NaN</td>\n",
              "    </tr>\n",
              "    <tr>\n",
              "      <th>4</th>\n",
              "      <td>NaN</td>\n",
              "      <td>NaN</td>\n",
              "      <td>NaN</td>\n",
              "      <td>NaN</td>\n",
              "    </tr>\n",
              "  </tbody>\n",
              "</table>\n",
              "</div>\n",
              "      <button class=\"colab-df-convert\" onclick=\"convertToInteractive('df-d122d21d-55c4-4dea-a852-abffac36079a')\"\n",
              "              title=\"Convert this dataframe to an interactive table.\"\n",
              "              style=\"display:none;\">\n",
              "        \n",
              "  <svg xmlns=\"http://www.w3.org/2000/svg\" height=\"24px\"viewBox=\"0 0 24 24\"\n",
              "       width=\"24px\">\n",
              "    <path d=\"M0 0h24v24H0V0z\" fill=\"none\"/>\n",
              "    <path d=\"M18.56 5.44l.94 2.06.94-2.06 2.06-.94-2.06-.94-.94-2.06-.94 2.06-2.06.94zm-11 1L8.5 8.5l.94-2.06 2.06-.94-2.06-.94L8.5 2.5l-.94 2.06-2.06.94zm10 10l.94 2.06.94-2.06 2.06-.94-2.06-.94-.94-2.06-.94 2.06-2.06.94z\"/><path d=\"M17.41 7.96l-1.37-1.37c-.4-.4-.92-.59-1.43-.59-.52 0-1.04.2-1.43.59L10.3 9.45l-7.72 7.72c-.78.78-.78 2.05 0 2.83L4 21.41c.39.39.9.59 1.41.59.51 0 1.02-.2 1.41-.59l7.78-7.78 2.81-2.81c.8-.78.8-2.07 0-2.86zM5.41 20L4 18.59l7.72-7.72 1.47 1.35L5.41 20z\"/>\n",
              "  </svg>\n",
              "      </button>\n",
              "      \n",
              "  <style>\n",
              "    .colab-df-container {\n",
              "      display:flex;\n",
              "      flex-wrap:wrap;\n",
              "      gap: 12px;\n",
              "    }\n",
              "\n",
              "    .colab-df-convert {\n",
              "      background-color: #E8F0FE;\n",
              "      border: none;\n",
              "      border-radius: 50%;\n",
              "      cursor: pointer;\n",
              "      display: none;\n",
              "      fill: #1967D2;\n",
              "      height: 32px;\n",
              "      padding: 0 0 0 0;\n",
              "      width: 32px;\n",
              "    }\n",
              "\n",
              "    .colab-df-convert:hover {\n",
              "      background-color: #E2EBFA;\n",
              "      box-shadow: 0px 1px 2px rgba(60, 64, 67, 0.3), 0px 1px 3px 1px rgba(60, 64, 67, 0.15);\n",
              "      fill: #174EA6;\n",
              "    }\n",
              "\n",
              "    [theme=dark] .colab-df-convert {\n",
              "      background-color: #3B4455;\n",
              "      fill: #D2E3FC;\n",
              "    }\n",
              "\n",
              "    [theme=dark] .colab-df-convert:hover {\n",
              "      background-color: #434B5C;\n",
              "      box-shadow: 0px 1px 3px 1px rgba(0, 0, 0, 0.15);\n",
              "      filter: drop-shadow(0px 1px 2px rgba(0, 0, 0, 0.3));\n",
              "      fill: #FFFFFF;\n",
              "    }\n",
              "  </style>\n",
              "\n",
              "      <script>\n",
              "        const buttonEl =\n",
              "          document.querySelector('#df-d122d21d-55c4-4dea-a852-abffac36079a button.colab-df-convert');\n",
              "        buttonEl.style.display =\n",
              "          google.colab.kernel.accessAllowed ? 'block' : 'none';\n",
              "\n",
              "        async function convertToInteractive(key) {\n",
              "          const element = document.querySelector('#df-d122d21d-55c4-4dea-a852-abffac36079a');\n",
              "          const dataTable =\n",
              "            await google.colab.kernel.invokeFunction('convertToInteractive',\n",
              "                                                     [key], {});\n",
              "          if (!dataTable) return;\n",
              "\n",
              "          const docLinkHtml = 'Like what you see? Visit the ' +\n",
              "            '<a target=\"_blank\" href=https://colab.research.google.com/notebooks/data_table.ipynb>data table notebook</a>'\n",
              "            + ' to learn more about interactive tables.';\n",
              "          element.innerHTML = '';\n",
              "          dataTable['output_type'] = 'display_data';\n",
              "          await google.colab.output.renderOutput(dataTable, element);\n",
              "          const docLink = document.createElement('div');\n",
              "          docLink.innerHTML = docLinkHtml;\n",
              "          element.appendChild(docLink);\n",
              "        }\n",
              "      </script>\n",
              "    </div>\n",
              "  </div>\n",
              "  "
            ]
          },
          "metadata": {},
          "execution_count": 90
        }
      ]
    },
    {
      "cell_type": "code",
      "source": [
        "# Checking null values percentage\n",
        "plt.figure(figsize=(12,6))\n",
        "msno = sns.heatmap(R.isnull(), yticklabels=False, cbar=False, cmap = 'viridis')"
      ],
      "metadata": {
        "colab": {
          "base_uri": "https://localhost:8080/",
          "height": 377
        },
        "id": "q9ujYQ4-nlH0",
        "outputId": "bce3ede5-99b9-4831-94bc-bdf29efefecd"
      },
      "execution_count": 91,
      "outputs": [
        {
          "output_type": "display_data",
          "data": {
            "text/plain": [
              "<Figure size 864x432 with 1 Axes>"
            ],
            "image/png": "[encoded data removed]"
          },
          "metadata": {
            "needs_background": "light"
          }
        }
      ]
    },
    {
      "cell_type": "code",
      "source": [
        "(R.isnull().sum() / R.isnull().count()).sort_values(ascending=False)"
      ],
      "metadata": {
        "colab": {
          "base_uri": "https://localhost:8080/"
        },
        "id": "RzN6NmF2FSft",
        "outputId": "26cf003d-5d33-4b51-8fbe-1f9bfb4eba0f"
      },
      "execution_count": 92,
      "outputs": [
        {
          "output_type": "execute_result",
          "data": {
            "text/plain": [
              "                              0.999805\n",
              "Additional fee information    0.999610\n",
              "Total actual rent             0.983098\n",
              "Buyer agency compensation     0.366573\n",
              "dtype: float64"
            ]
          },
          "metadata": {},
          "execution_count": 92
        }
      ]
    },
    {
      "cell_type": "code",
      "source": [
        "# Concat useful and non-duplicate column\n",
        "dff = pd.concat([dff, R[\"Buyer agency compensation\"]], axis=1)"
      ],
      "metadata": {
        "id": "ryjzpa3yGVf9"
      },
      "execution_count": 93,
      "outputs": []
    },
    {
      "cell_type": "markdown",
      "source": [
        "## 2.3. Preparing data for next steps"
      ],
      "metadata": {
        "id": "OcaFGVK4nqhn"
      }
    },
    {
      "cell_type": "markdown",
      "source": [
        "- Delete all listed value columns"
      ],
      "metadata": {
        "id": "OYKkKbY9nN5W"
      }
    },
    {
      "cell_type": "code",
      "source": [
        "dff.drop(extra_cols, axis = 1, inplace=True)"
      ],
      "metadata": {
        "id": "Vji5uSyGh2G0"
      },
      "execution_count": 94,
      "outputs": []
    },
    {
      "cell_type": "markdown",
      "source": [
        "- Check if new flattened numeric columns have too many 0 values (>50%). If yes, drop it."
      ],
      "metadata": {
        "id": "LbardMcmn30y"
      }
    },
    {
      "cell_type": "code",
      "source": [
        "extra_cols = ['Full bathrooms', 'Total number of fireplaces', 'Parking features',\n",
        "              'Covered spaces', 'Garage spaces', 'Total spaces', 'Lot features',\n",
        "              'Property subType', 'Year built', 'Architectural style', \n",
        "              'Sewer information', 'Water information', 'Appliances included', \n",
        "              'Heating features', 'Cooling features', 'Construction materials', \n",
        "              'Stories', 'Roof', 'Foundation', 'Interior features', 'Buyer agency compensation']"
      ],
      "metadata": {
        "id": "sWZ8oZsMNTIb"
      },
      "execution_count": 95,
      "outputs": []
    },
    {
      "cell_type": "code",
      "source": [
        "# Delete bad records from the extra file\n",
        "dff.dropna(axis=0, thresh=len(extra_cols)*0.1, subset=extra_cols, inplace = True)"
      ],
      "metadata": {
        "id": "G0uR2oeXEypC"
      },
      "execution_count": 96,
      "outputs": []
    },
    {
      "cell_type": "code",
      "source": [
        "# Same for records with too many 0 values\n",
        "length = len(df)\n",
        "drop_ids = []\n",
        "for i in range(length):\n",
        "    count = 0\n",
        "    for x in dff.columns:\n",
        "        try: \n",
        "            if dff[x][i] == 0:\n",
        "                count +=1\n",
        "        except:\n",
        "            pass\n",
        "    if count/len(dff.columns) > 0.1:\n",
        "        drop_ids.append(i)\n",
        "\n",
        "dff.drop(drop_ids, axis=0, inplace=True)"
      ],
      "metadata": {
        "id": "R52BBeSUVN38"
      },
      "execution_count": 97,
      "outputs": []
    },
    {
      "cell_type": "markdown",
      "source": [
        "- Rename new columns"
      ],
      "metadata": {
        "id": "NLCSnyCloJqO"
      }
    },
    {
      "cell_type": "code",
      "source": [
        "dff.columns"
      ],
      "metadata": {
        "colab": {
          "base_uri": "https://localhost:8080/"
        },
        "id": "nlFRcf_5iRZZ",
        "outputId": "da503510-4e8f-4475-e3b7-1bccb32ca6e2"
      },
      "execution_count": 98,
      "outputs": [
        {
          "output_type": "execute_result",
          "data": {
            "text/plain": [
              "Index(['price', 'status', 'type', 'broker_name', 'has_add_attributions',\n",
              "       'city', 'state', 'latitude', 'longitude', 'bathrooms', 'bedrooms',\n",
              "       'living_area', 'lot_area', 'tax_assessed_value', 'Full bathrooms',\n",
              "       'Total number of fireplaces', 'Parking features', 'Covered spaces',\n",
              "       'Garage spaces', 'Total spaces', 'Lot features', 'Property subType',\n",
              "       'Architectural style', 'Year built', 'Sewer information',\n",
              "       'Water information', 'Appliances included', 'Heating features',\n",
              "       'Cooling features', 'Stories', 'Construction materials', 'Roof',\n",
              "       'Foundation', 'Interior features', 'Buyer agency compensation'],\n",
              "      dtype='object')"
            ]
          },
          "metadata": {},
          "execution_count": 98
        }
      ]
    },
    {
      "cell_type": "code",
      "source": [
        "# Rename columns\n",
        "dff.rename(columns={'Full bathrooms': 'full_bathrooms',\n",
        "                    'Total number of fireplaces': 'num_fireplaces', \n",
        "                    'Parking features':\"parking\",\n",
        "                    'Covered spaces': 'covered_spaces',\n",
        "                    'Garage spaces': 'garage_spaces',\n",
        "                    'Total spaces': 'total_spaces',\n",
        "                    'Lot features': 'lot_features',\n",
        "                    'Property subType': 'subtype', 'Year built':'year_built',\n",
        "                    'Architectural style': 'architectural_style', \n",
        "                    'Sewer information': 'sewer_info', \n",
        "                    'Water information': 'water_info', \n",
        "                    'Appliances included':'appliances', \n",
        "                    'Heating features':'heating', 'Cooling features':'cooling', \n",
        "                    'Construction materials': 'materials', 'Stories': 'stories',\n",
        "                    'Roof': 'roof', 'Foundation': 'foundation', \n",
        "                    'Interior features': 'interior_features',\n",
        "                    'Buyer agency compensation': 'compensation'},inplace=True)\n",
        "dff.columns"
      ],
      "metadata": {
        "colab": {
          "base_uri": "https://localhost:8080/"
        },
        "id": "_eNFx5kziUx9",
        "outputId": "72d2c078-e735-431d-871a-ecc8e16dcdb6"
      },
      "execution_count": 99,
      "outputs": [
        {
          "output_type": "execute_result",
          "data": {
            "text/plain": [
              "Index(['price', 'status', 'type', 'broker_name', 'has_add_attributions',\n",
              "       'city', 'state', 'latitude', 'longitude', 'bathrooms', 'bedrooms',\n",
              "       'living_area', 'lot_area', 'tax_assessed_value', 'full_bathrooms',\n",
              "       'num_fireplaces', 'parking', 'covered_spaces', 'garage_spaces',\n",
              "       'total_spaces', 'lot_features', 'subtype', 'architectural_style',\n",
              "       'year_built', 'sewer_info', 'water_info', 'appliances', 'heating',\n",
              "       'cooling', 'stories', 'materials', 'roof', 'foundation',\n",
              "       'interior_features', 'compensation'],\n",
              "      dtype='object')"
            ]
          },
          "metadata": {},
          "execution_count": 99
        }
      ]
    },
    {
      "cell_type": "markdown",
      "source": [
        "- Our data after the cleaning step"
      ],
      "metadata": {
        "id": "0H2JuN3XoTsE"
      }
    },
    {
      "cell_type": "code",
      "source": [
        "dff.head()"
      ],
      "metadata": {
        "colab": {
          "base_uri": "https://localhost:8080/",
          "height": 507
        },
        "id": "iuXiSNxnlpRT",
        "outputId": "fa132501-7cd2-4b31-80b0-8de5cd6e9b3c"
      },
      "execution_count": 100,
      "outputs": [
        {
          "output_type": "execute_result",
          "data": {
            "text/plain": [
              "     price          status           type  \\\n",
              "0   274000  House for sale  SINGLE_FAMILY   \n",
              "1   270000  House for sale  SINGLE_FAMILY   \n",
              "2   899000  House for sale  SINGLE_FAMILY   \n",
              "4  1390000  House for sale  SINGLE_FAMILY   \n",
              "5  1390000  House for sale  SINGLE_FAMILY   \n",
              "\n",
              "                                  broker_name  has_add_attributions  \\\n",
              "0                      Listing by: SOWAE CORP                  True   \n",
              "1                      Listing by: SOWAE CORP                  True   \n",
              "2  Listing by: Comfort Homes Realty Group Inc                  True   \n",
              "4              Listing by: Winzone Realty Inc                  True   \n",
              "5              Listing by: Winzone Realty Inc                  True   \n",
              "\n",
              "               city state   latitude  longitude  bathrooms  ...  water_info  \\\n",
              "0  South Ozone Park    NY  40.675730 -73.822350          1  ...         NaN   \n",
              "1           Jamaica    NY  40.670036 -73.780450          2  ...         NaN   \n",
              "2     Staten Island    NY  40.524227 -74.215790          3  ...         NaN   \n",
              "4          Flushing    NY  40.721615 -73.820755          4  ...         NaN   \n",
              "5          Flushing    NY  40.721615 -73.820755          4  ...      Public   \n",
              "\n",
              "   appliances     heating       cooling  stories materials roof  foundation  \\\n",
              "0         NaN         NaN           NaN      NaN       NaN  NaN         NaN   \n",
              "1    Microwav         NaN           NaN      NaN       NaN  NaN         NaN   \n",
              "2   Dishwashe    Hot Wate         Units      2.0       NaN  NaN         NaN   \n",
              "4        Drye         NaN           NaN      NaN       NaN  NaN         NaN   \n",
              "5         NaN  Natural Ga  Wall Unit(s)      3.0      Fram  NaN         NaN   \n",
              "\n",
              "   interior_features  compensation  \n",
              "0                NaN           NaN  \n",
              "1                NaN           NaN  \n",
              "2                NaN           NaN  \n",
              "4                NaN           NaN  \n",
              "5      Eat-in Kitche           NaN  \n",
              "\n",
              "[5 rows x 35 columns]"
            ],
            "text/html": [
              "\n",
              "  <div id=\"df-60e338dc-d8ae-4901-b807-cf04ecdec650\">\n",
              "    <div class=\"colab-df-container\">\n",
              "      <div>\n",
              "<style scoped>\n",
              "    .dataframe tbody tr th:only-of-type {\n",
              "        vertical-align: middle;\n",
              "    }\n",
              "\n",
              "    .dataframe tbody tr th {\n",
              "        vertical-align: top;\n",
              "    }\n",
              "\n",
              "    .dataframe thead th {\n",
              "        text-align: right;\n",
              "    }\n",
              "</style>\n",
              "<table border=\"1\" class=\"dataframe\">\n",
              "  <thead>\n",
              "    <tr style=\"text-align: right;\">\n",
              "      <th></th>\n",
              "      <th>price</th>\n",
              "      <th>status</th>\n",
              "      <th>type</th>\n",
              "      <th>broker_name</th>\n",
              "      <th>has_add_attributions</th>\n",
              "      <th>city</th>\n",
              "      <th>state</th>\n",
              "      <th>latitude</th>\n",
              "      <th>longitude</th>\n",
              "      <th>bathrooms</th>\n",
              "      <th>...</th>\n",
              "      <th>water_info</th>\n",
              "      <th>appliances</th>\n",
              "      <th>heating</th>\n",
              "      <th>cooling</th>\n",
              "      <th>stories</th>\n",
              "      <th>materials</th>\n",
              "      <th>roof</th>\n",
              "      <th>foundation</th>\n",
              "      <th>interior_features</th>\n",
              "      <th>compensation</th>\n",
              "    </tr>\n",
              "  </thead>\n",
              "  <tbody>\n",
              "    <tr>\n",
              "      <th>0</th>\n",
              "      <td>274000</td>\n",
              "      <td>House for sale</td>\n",
              "      <td>SINGLE_FAMILY</td>\n",
              "      <td>Listing by: SOWAE CORP</td>\n",
              "      <td>True</td>\n",
              "      <td>South Ozone Park</td>\n",
              "      <td>NY</td>\n",
              "      <td>40.675730</td>\n",
              "      <td>-73.822350</td>\n",
              "      <td>1</td>\n",
              "      <td>...</td>\n",
              "      <td>NaN</td>\n",
              "      <td>NaN</td>\n",
              "      <td>NaN</td>\n",
              "      <td>NaN</td>\n",
              "      <td>NaN</td>\n",
              "      <td>NaN</td>\n",
              "      <td>NaN</td>\n",
              "      <td>NaN</td>\n",
              "      <td>NaN</td>\n",
              "      <td>NaN</td>\n",
              "    </tr>\n",
              "    <tr>\n",
              "      <th>1</th>\n",
              "      <td>270000</td>\n",
              "      <td>House for sale</td>\n",
              "      <td>SINGLE_FAMILY</td>\n",
              "      <td>Listing by: SOWAE CORP</td>\n",
              "      <td>True</td>\n",
              "      <td>Jamaica</td>\n",
              "      <td>NY</td>\n",
              "      <td>40.670036</td>\n",
              "      <td>-73.780450</td>\n",
              "      <td>2</td>\n",
              "      <td>...</td>\n",
              "      <td>NaN</td>\n",
              "      <td>Microwav</td>\n",
              "      <td>NaN</td>\n",
              "      <td>NaN</td>\n",
              "      <td>NaN</td>\n",
              "      <td>NaN</td>\n",
              "      <td>NaN</td>\n",
              "      <td>NaN</td>\n",
              "      <td>NaN</td>\n",
              "      <td>NaN</td>\n",
              "    </tr>\n",
              "    <tr>\n",
              "      <th>2</th>\n",
              "      <td>899000</td>\n",
              "      <td>House for sale</td>\n",
              "      <td>SINGLE_FAMILY</td>\n",
              "      <td>Listing by: Comfort Homes Realty Group Inc</td>\n",
              "      <td>True</td>\n",
              "      <td>Staten Island</td>\n",
              "      <td>NY</td>\n",
              "      <td>40.524227</td>\n",
              "      <td>-74.215790</td>\n",
              "      <td>3</td>\n",
              "      <td>...</td>\n",
              "      <td>NaN</td>\n",
              "      <td>Dishwashe</td>\n",
              "      <td>Hot Wate</td>\n",
              "      <td>Units</td>\n",
              "      <td>2.0</td>\n",
              "      <td>NaN</td>\n",
              "      <td>NaN</td>\n",
              "      <td>NaN</td>\n",
              "      <td>NaN</td>\n",
              "      <td>NaN</td>\n",
              "    </tr>\n",
              "    <tr>\n",
              "      <th>4</th>\n",
              "      <td>1390000</td>\n",
              "      <td>House for sale</td>\n",
              "      <td>SINGLE_FAMILY</td>\n",
              "      <td>Listing by: Winzone Realty Inc</td>\n",
              "      <td>True</td>\n",
              "      <td>Flushing</td>\n",
              "      <td>NY</td>\n",
              "      <td>40.721615</td>\n",
              "      <td>-73.820755</td>\n",
              "      <td>4</td>\n",
              "      <td>...</td>\n",
              "      <td>NaN</td>\n",
              "      <td>Drye</td>\n",
              "      <td>NaN</td>\n",
              "      <td>NaN</td>\n",
              "      <td>NaN</td>\n",
              "      <td>NaN</td>\n",
              "      <td>NaN</td>\n",
              "      <td>NaN</td>\n",
              "      <td>NaN</td>\n",
              "      <td>NaN</td>\n",
              "    </tr>\n",
              "    <tr>\n",
              "      <th>5</th>\n",
              "      <td>1390000</td>\n",
              "      <td>House for sale</td>\n",
              "      <td>SINGLE_FAMILY</td>\n",
              "      <td>Listing by: Winzone Realty Inc</td>\n",
              "      <td>True</td>\n",
              "      <td>Flushing</td>\n",
              "      <td>NY</td>\n",
              "      <td>40.721615</td>\n",
              "      <td>-73.820755</td>\n",
              "      <td>4</td>\n",
              "      <td>...</td>\n",
              "      <td>Public</td>\n",
              "      <td>NaN</td>\n",
              "      <td>Natural Ga</td>\n",
              "      <td>Wall Unit(s)</td>\n",
              "      <td>3.0</td>\n",
              "      <td>Fram</td>\n",
              "      <td>NaN</td>\n",
              "      <td>NaN</td>\n",
              "      <td>Eat-in Kitche</td>\n",
              "      <td>NaN</td>\n",
              "    </tr>\n",
              "  </tbody>\n",
              "</table>\n",
              "<p>5 rows × 35 columns</p>\n",
              "</div>\n",
              "      <button class=\"colab-df-convert\" onclick=\"convertToInteractive('df-60e338dc-d8ae-4901-b807-cf04ecdec650')\"\n",
              "              title=\"Convert this dataframe to an interactive table.\"\n",
              "              style=\"display:none;\">\n",
              "        \n",
              "  <svg xmlns=\"http://www.w3.org/2000/svg\" height=\"24px\"viewBox=\"0 0 24 24\"\n",
              "       width=\"24px\">\n",
              "    <path d=\"M0 0h24v24H0V0z\" fill=\"none\"/>\n",
              "    <path d=\"M18.56 5.44l.94 2.06.94-2.06 2.06-.94-2.06-.94-.94-2.06-.94 2.06-2.06.94zm-11 1L8.5 8.5l.94-2.06 2.06-.94-2.06-.94L8.5 2.5l-.94 2.06-2.06.94zm10 10l.94 2.06.94-2.06 2.06-.94-2.06-.94-.94-2.06-.94 2.06-2.06.94z\"/><path d=\"M17.41 7.96l-1.37-1.37c-.4-.4-.92-.59-1.43-.59-.52 0-1.04.2-1.43.59L10.3 9.45l-7.72 7.72c-.78.78-.78 2.05 0 2.83L4 21.41c.39.39.9.59 1.41.59.51 0 1.02-.2 1.41-.59l7.78-7.78 2.81-2.81c.8-.78.8-2.07 0-2.86zM5.41 20L4 18.59l7.72-7.72 1.47 1.35L5.41 20z\"/>\n",
              "  </svg>\n",
              "      </button>\n",
              "      \n",
              "  <style>\n",
              "    .colab-df-container {\n",
              "      display:flex;\n",
              "      flex-wrap:wrap;\n",
              "      gap: 12px;\n",
              "    }\n",
              "\n",
              "    .colab-df-convert {\n",
              "      background-color: #E8F0FE;\n",
              "      border: none;\n",
              "      border-radius: 50%;\n",
              "      cursor: pointer;\n",
              "      display: none;\n",
              "      fill: #1967D2;\n",
              "      height: 32px;\n",
              "      padding: 0 0 0 0;\n",
              "      width: 32px;\n",
              "    }\n",
              "\n",
              "    .colab-df-convert:hover {\n",
              "      background-color: #E2EBFA;\n",
              "      box-shadow: 0px 1px 2px rgba(60, 64, 67, 0.3), 0px 1px 3px 1px rgba(60, 64, 67, 0.15);\n",
              "      fill: #174EA6;\n",
              "    }\n",
              "\n",
              "    [theme=dark] .colab-df-convert {\n",
              "      background-color: #3B4455;\n",
              "      fill: #D2E3FC;\n",
              "    }\n",
              "\n",
              "    [theme=dark] .colab-df-convert:hover {\n",
              "      background-color: #434B5C;\n",
              "      box-shadow: 0px 1px 3px 1px rgba(0, 0, 0, 0.15);\n",
              "      filter: drop-shadow(0px 1px 2px rgba(0, 0, 0, 0.3));\n",
              "      fill: #FFFFFF;\n",
              "    }\n",
              "  </style>\n",
              "\n",
              "      <script>\n",
              "        const buttonEl =\n",
              "          document.querySelector('#df-60e338dc-d8ae-4901-b807-cf04ecdec650 button.colab-df-convert');\n",
              "        buttonEl.style.display =\n",
              "          google.colab.kernel.accessAllowed ? 'block' : 'none';\n",
              "\n",
              "        async function convertToInteractive(key) {\n",
              "          const element = document.querySelector('#df-60e338dc-d8ae-4901-b807-cf04ecdec650');\n",
              "          const dataTable =\n",
              "            await google.colab.kernel.invokeFunction('convertToInteractive',\n",
              "                                                     [key], {});\n",
              "          if (!dataTable) return;\n",
              "\n",
              "          const docLinkHtml = 'Like what you see? Visit the ' +\n",
              "            '<a target=\"_blank\" href=https://colab.research.google.com/notebooks/data_table.ipynb>data table notebook</a>'\n",
              "            + ' to learn more about interactive tables.';\n",
              "          element.innerHTML = '';\n",
              "          dataTable['output_type'] = 'display_data';\n",
              "          await google.colab.output.renderOutput(dataTable, element);\n",
              "          const docLink = document.createElement('div');\n",
              "          docLink.innerHTML = docLinkHtml;\n",
              "          element.appendChild(docLink);\n",
              "        }\n",
              "      </script>\n",
              "    </div>\n",
              "  </div>\n",
              "  "
            ]
          },
          "metadata": {},
          "execution_count": 100
        }
      ]
    },
    {
      "cell_type": "code",
      "source": [
        "dff.info()"
      ],
      "metadata": {
        "colab": {
          "base_uri": "https://localhost:8080/"
        },
        "id": "eU36CJL5iKiK",
        "outputId": "9b3c573f-6b53-4a90-bf67-0648eb09c46d"
      },
      "execution_count": 101,
      "outputs": [
        {
          "output_type": "stream",
          "name": "stdout",
          "text": [
            "<class 'pandas.core.frame.DataFrame'>\n",
            "Int64Index: 13701 entries, 0 to 14421\n",
            "Data columns (total 35 columns):\n",
            " #   Column                Non-Null Count  Dtype  \n",
            "---  ------                --------------  -----  \n",
            " 0   price                 13701 non-null  int64  \n",
            " 1   status                13701 non-null  object \n",
            " 2   type                  13701 non-null  object \n",
            " 3   broker_name           10370 non-null  object \n",
            " 4   has_add_attributions  13701 non-null  bool   \n",
            " 5   city                  13701 non-null  object \n",
            " 6   state                 13701 non-null  object \n",
            " 7   latitude              13701 non-null  float64\n",
            " 8   longitude             13701 non-null  float64\n",
            " 9   bathrooms             13701 non-null  int64  \n",
            " 10  bedrooms              13701 non-null  int64  \n",
            " 11  living_area           13701 non-null  int64  \n",
            " 12  lot_area              13701 non-null  float64\n",
            " 13  tax_assessed_value    13701 non-null  int64  \n",
            " 14  full_bathrooms        12810 non-null  float64\n",
            " 15  num_fireplaces        8342 non-null   object \n",
            " 16  parking               13011 non-null  object \n",
            " 17  covered_spaces        8984 non-null   float64\n",
            " 18  garage_spaces         8776 non-null   float64\n",
            " 19  total_spaces          10205 non-null  float64\n",
            " 20  lot_features          8132 non-null   object \n",
            " 21  subtype               13307 non-null  object \n",
            " 22  architectural_style   8585 non-null   object \n",
            " 23  year_built            13557 non-null  float64\n",
            " 24  sewer_info            11046 non-null  object \n",
            " 25  water_info            11480 non-null  object \n",
            " 26  appliances            11957 non-null  object \n",
            " 27  heating               13072 non-null  object \n",
            " 28  cooling               12952 non-null  object \n",
            " 29  stories               12146 non-null  object \n",
            " 30  materials             11562 non-null  object \n",
            " 31  roof                  9069 non-null   object \n",
            " 32  foundation            7654 non-null   object \n",
            " 33  interior_features     9601 non-null   object \n",
            " 34  compensation          9547 non-null   object \n",
            "dtypes: bool(1), float64(8), int64(5), object(21)\n",
            "memory usage: 3.7+ MB\n"
          ]
        }
      ]
    },
    {
      "cell_type": "markdown",
      "source": [
        "Problems:\n",
        "- Null values (also the zero values in numeric columns)\n",
        "- Object data type"
      ],
      "metadata": {
        "id": "9e4gvnw2piIK"
      }
    },
    {
      "cell_type": "code",
      "source": [
        "dff.to_csv(\"zillow_cleaned.csv\", index = False)"
      ],
      "metadata": {
        "id": "Uw7zh5ZoL7Ye"
      },
      "execution_count": 102,
      "outputs": []
    }
  ]
}