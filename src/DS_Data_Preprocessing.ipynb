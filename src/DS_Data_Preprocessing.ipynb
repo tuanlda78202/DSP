{
  "nbformat": 4,
  "nbformat_minor": 0,
  "metadata": {
    "colab": {
      "provenance": []
    },
    "kernelspec": {
      "name": "python3",
      "display_name": "Python 3"
    },
    "language_info": {
      "name": "python"
    }
  },
  "cells": [
    {
      "cell_type": "markdown",
      "source": [
        "# DATA PREPROCESS\n",
        "A notebook to preprocess the crawled data."
      ],
      "metadata": {
        "id": "y_ZvVgRsEEsE"
      }
    },
    {
      "cell_type": "markdown",
      "source": [
        "# 1. Setup"
      ],
      "metadata": {
        "id": "Sg6-o89aEO8E"
      }
    },
    {
      "cell_type": "code",
      "execution_count": 75,
      "metadata": {
        "id": "14UH0LCmKSDK"
      },
      "outputs": [],
      "source": [
        "# Python ≥3.5 is required\n",
        "import sys\n",
        "assert sys.version_info >= (3, 5)\n",
        "\n",
        "# Disable warnings\n",
        "import warnings\n",
        "warnings.filterwarnings('ignore')\n",
        "\n",
        "# Scikit-Learn ≥0.20 is required\n",
        "import sklearn\n",
        "assert sklearn.__version__ >= \"0.20\"\n",
        "\n",
        "# Common imports\n",
        "import pandas as pd\n",
        "import numpy as np\n",
        "import os\n",
        "import matplotlib.pyplot as plt\n",
        "import math\n",
        "\n",
        "# to make this notebook's output stable across runs\n",
        "np.random.seed(42)"
      ]
    },
    {
      "cell_type": "markdown",
      "source": [
        "# Data preprocessing"
      ],
      "metadata": {
        "id": "uKEDJA2477Mo"
      }
    },
    {
      "cell_type": "markdown",
      "source": [],
      "metadata": {
        "id": "WPUwE6zn8i3f"
      }
    },
    {
      "cell_type": "code",
      "execution_count": 76,
      "metadata": {
        "id": "-5wCN3AWPGzP"
      },
      "outputs": [],
      "source": [
        "from google.colab import drive\n",
        "\n",
        "drive.mount('/content/gdrive')"
      ]
    },
    {
      "cell_type": "code",
      "source": [
        "dff = pd.read_csv('/content/gdrive/MyDrive/DS/zillow_cleaned.csv')"
      ],
      "metadata": {
        "id": "XUdgQsVJcQ6X"
      },
      "execution_count": 77,
      "outputs": []
    },
    {
      "cell_type": "markdown",
      "source": [
        "##3.1 Mispell word handling"
      ],
      "metadata": {
        "id": "1GDjEC9z8tlp"
      }
    },
    {
      "cell_type": "markdown",
      "source": [
        "First let's list all the object-type feature"
      ],
      "metadata": {
        "id": "uGtFXaF8Qff1"
      }
    },
    {
      "cell_type": "code",
      "source": [
        "object_col = ['status', 'type', 'broker_name', 'has_add_attributions',\n",
        "       'city', 'state', 'num_fireplaces', 'parking','lot_features',\n",
        "       'subtype', 'architectural_style', 'sewer_info',\n",
        "       'water_info', 'appliances', 'heating', 'cooling', 'stories',\n",
        "       'materials', 'roof', 'foundation', 'interior_features', 'compensation']\n",
        "\n"
      ],
      "metadata": {
        "id": "WygkkcvkQNHY"
      },
      "execution_count": 79,
      "outputs": []
    },
    {
      "cell_type": "markdown",
      "source": [
        "Since these object-type features appeared due to the 'flatten()' function in the previous data cleaning process, so the 'NaN' values appearing in these features mean that 'doesn't exist', not missing value, so that we're gonna replace them by 'none'"
      ],
      "metadata": {
        "id": "0eS7sn7TP5N9"
      }
    },
    {
      "cell_type": "markdown",
      "source": [
        "We're gonna check the object-type features in our data to see if they have any mispell-words"
      ],
      "metadata": {
        "id": "nEbRcfV49es1"
      }
    },
    {
      "cell_type": "code",
      "source": [
        "for i in object_col:\n",
        "  print(i, \": \",dff[i].nunique())"
      ],
      "metadata": {
        "colab": {
          "base_uri": "https://localhost:8080/"
        },
        "id": "zIVWQ9RDRCgb",
        "outputId": "b22ca95c-1e07-43e8-fc30-63de01d7b721"
      },
      "execution_count": 80,
      "outputs": [
        {
          "output_type": "stream",
          "name": "stdout",
          "text": [
            "status :  9\n",
            "type :  1\n",
            "broker_name :  3264\n",
            "has_add_attributions :  2\n",
            "city :  177\n",
            "state :  14\n",
            "num_fireplaces :  92\n",
            "parking :  280\n",
            "lot_features :  361\n",
            "subtype :  26\n",
            "architectural_style :  394\n",
            "sewer_info :  101\n",
            "water_info :  73\n",
            "appliances :  194\n",
            "heating :  128\n",
            "cooling :  116\n",
            "stories :  31\n",
            "materials :  181\n",
            "roof :  288\n",
            "foundation :  62\n",
            "interior_features :  448\n",
            "compensation :  369\n"
          ]
        }
      ]
    },
    {
      "cell_type": "markdown",
      "source": [
        "Seems like some features have a lot of unique values (architecture style, interior_features,...), so they are prone to have many values that mispelled.\n",
        "Let's see those values, start with feature 'num_fireplaces' "
      ],
      "metadata": {
        "id": "VY7jqYO6-ICx"
      }
    },
    {
      "cell_type": "code",
      "source": [
        "!pip install wordcloud"
      ],
      "metadata": {
        "colab": {
          "base_uri": "https://localhost:8080/"
        },
        "id": "88htnh52SuYW",
        "outputId": "f9509ce0-f7fb-4f46-f81a-020b785a28a7"
      },
      "execution_count": 81,
      "outputs": [
        {
          "output_type": "stream",
          "name": "stdout",
          "text": [
            "Looking in indexes: https://pypi.org/simple, https://us-python.pkg.dev/colab-wheels/public/simple/\n",
            "Requirement already satisfied: wordcloud in /usr/local/lib/python3.8/dist-packages (1.8.2.2)\n",
            "Requirement already satisfied: pillow in /usr/local/lib/python3.8/dist-packages (from wordcloud) (7.1.2)\n",
            "Requirement already satisfied: matplotlib in /usr/local/lib/python3.8/dist-packages (from wordcloud) (3.2.2)\n",
            "Requirement already satisfied: numpy>=1.6.1 in /usr/local/lib/python3.8/dist-packages (from wordcloud) (1.21.6)\n",
            "Requirement already satisfied: python-dateutil>=2.1 in /usr/local/lib/python3.8/dist-packages (from matplotlib->wordcloud) (2.8.2)\n",
            "Requirement already satisfied: kiwisolver>=1.0.1 in /usr/local/lib/python3.8/dist-packages (from matplotlib->wordcloud) (1.4.4)\n",
            "Requirement already satisfied: pyparsing!=2.0.4,!=2.1.2,!=2.1.6,>=2.0.1 in /usr/local/lib/python3.8/dist-packages (from matplotlib->wordcloud) (3.0.9)\n",
            "Requirement already satisfied: cycler>=0.10 in /usr/local/lib/python3.8/dist-packages (from matplotlib->wordcloud) (0.11.0)\n",
            "Requirement already satisfied: six>=1.5 in /usr/local/lib/python3.8/dist-packages (from python-dateutil>=2.1->matplotlib->wordcloud) (1.15.0)\n"
          ]
        }
      ]
    },
    {
      "cell_type": "code",
      "source": [
        "from wordcloud import WordCloud, STOPWORDS\n",
        "text=''\n",
        "for i in range(dff.shape[0]):\n",
        "    text+=str(dff['num_fireplaces'][i])+' '\n",
        "word_cloud = WordCloud(\n",
        "        width=3000,\n",
        "        height=2000,\n",
        "        random_state=1,\n",
        "        background_color=\"salmon\",\n",
        "        colormap=\"Pastel1\",\n",
        "        collocations=False,\n",
        "        stopwords=STOPWORDS,\n",
        "        ).generate(text)\n",
        "plt.imshow(word_cloud)\n",
        "plt.axis(\"off\")\n",
        "plt.show()"
      ],
      "metadata": {
        "colab": {
          "base_uri": "https://localhost:8080/",
          "height": 248
        },
        "id": "nSDpYM6cdfQ1",
        "outputId": "de1c2af5-587c-4047-adeb-c69268c19265"
      },
      "execution_count": 82,
      "outputs": [
        {
          "output_type": "display_data",
          "data": {
            "text/plain": [
              "<Figure size 432x288 with 1 Axes>"
            ],
            "image/png": "[encoded data removed]"
          },
          "metadata": {
            "needs_background": "light"
          }
        }
      ]
    },
    {
      "cell_type": "code",
      "source": [
        "for i in object_col:\n",
        "  dff[i]=dff[i].fillna(value = 'none')"
      ],
      "metadata": {
        "id": "vTuDw2IMalVp"
      },
      "execution_count": 83,
      "outputs": []
    },
    {
      "cell_type": "markdown",
      "source": [
        "As you can see, there are quiet a lot mispelled values. For example, 'Fireplac' and 'Fireplace', Roo' and 'Room',... They are pointing at the same object but the mispelling is making them become different, and this will affect negatively to our prediction model.\n",
        "After checking other features, we have collect many other mispell words too, and the most convenient way to fix them is to correct them directly.\n",
        "We gather all mispell words and their correction in a dictionary and we will use that too fix all features in our data  "
      ],
      "metadata": {
        "id": "Qi7FZ7VA_AZw"
      }
    },
    {
      "cell_type": "code",
      "source": [
        "dict = {\n",
        "'de':'den',\n",
        "'vente':'vented',\n",
        "'wate': 'water',\n",
        "'microwav':'microwave',\n",
        "'washe': 'washer',\n",
        "'drye': 'dryer',\n",
        "'refrigerato': 'refrigerator',\n",
        "'ove':'oven',\n",
        " 'gril':'grill', \n",
        " 'compacto':'compactor',\n",
        " 'cookto':'cooktop',\n",
        "  'stov':'stove',\n",
        "  'barbequ':'barbeque',\n",
        " 'barbecu': 'barbeque',\n",
        "  'rang': 'range',\n",
        "  'ga':'gas',\n",
        "  'disposa':'disposal',\n",
        "  'heate':'heater',\n",
        "  'ele':'electric',\n",
        "  'elec':'electric',\n",
        "  'kitche': 'kitchen',\n",
        "  'othe':'other',\n",
        "  'electri': 'electric',\n",
        "  'fridg':'fridge',\n",
        "  'uni':'unit',\n",
        "  'vacuu':'vacuum',\n",
        "  'non': 'none',\n",
        "  'basemen':'basement',\n",
        "\n",
        "  'propan': 'propane',\n",
        "  'oi':'oil',\n",
        "  'pum': 'pump',\n",
        "  'ai': 'air',\n",
        "  'stea': 'steam',\n",
        "  'centra':'central',\n",
        "  'furnac' : 'furnace',\n",
        "  'equipmen': 'equipment',\n",
        "  'combinatio': 'combination',\n",
        "  'uni' : 'unit',\n",
        "  'ceilin': 'ceiling',\n",
        "  'radiato' : 'radiator',\n",
        "  'backu': 'backup',\n",
        "  'gravit': 'gravity',\n",
        "  'plac':'place',\n",
        "  'heatin': 'heating',\n",
        "  'floo': 'floor',\n",
        "  'inser': 'insert',\n",
        "  'boile': 'boiled',\n",
        "   'a/': 'a/c',\n",
        "   'geotherma': 'geothermal',\n",
        "   'dua': 'dual',\n",
        "   'efficienc': 'efficiency',\n",
        "\n",
        "   'sidin': 'siding',\n",
        "   'lo': 'log',\n",
        "   'partia': 'partial',\n",
        "   'shak':'shake',\n",
        "   'bric': 'brick',\n",
        "   'planke': 'planked',\n",
        "   'fram':'frame',\n",
        "   'syste': 'system',\n",
        "\n",
        "   'combinatio': 'combination',\n",
        "   'sla': 'slab',\n",
        "   'perimete':'perimeter',\n",
        "   'bloc': 'block',\n",
        "   'bea': 'beam',\n",
        "   'ston': 'stone',\n",
        "   'permanen':'permanent',\n",
        "   'spac': 'space',\n",
        "   'concret':'concrete',\n",
        "   'gri':'grid',\n",
        "   'ful':'full',\n",
        "   'ribbo':'ribbon',\n",
        "   'roo': 'room',\n",
        "   'sid':'side',\n",
        "   'gasrag':'garage',\n",
        "    'gasrage':'garage',\n",
        "    'fire pi': 'fire pit',\n",
        "    'free standin':'free standing',\n",
        "    'throug': 'through',\n",
        "    'connecte':'connected'\n",
        "}"
      ],
      "metadata": {
        "id": "KWoWbu3Iir8J"
      },
      "execution_count": 84,
      "outputs": []
    },
    {
      "cell_type": "markdown",
      "source": [
        "We define a function to replace the mispell word with its correct word"
      ],
      "metadata": {
        "id": "3qzePTkOLca0"
      }
    },
    {
      "cell_type": "code",
      "source": [
        "def is_mispell(word):\n",
        "  mispell, correct =\"\",\"\"\n",
        "  for i in dict.keys():\n",
        "    if dict[i] not in word and i in word:\n",
        "      mispell = i\n",
        "      correct = dict[i]\n",
        "  return mispell,correct\n",
        "mispell, correct = is_mispell('garage')\n",
        "print(correct)"
      ],
      "metadata": {
        "colab": {
          "base_uri": "https://localhost:8080/"
        },
        "id": "VbN8kD0LnCeG",
        "outputId": "4f2c3a80-76ac-433e-a804-3f08aa21f437"
      },
      "execution_count": 85,
      "outputs": [
        {
          "output_type": "stream",
          "name": "stdout",
          "text": [
            "gas\n"
          ]
        }
      ]
    },
    {
      "cell_type": "code",
      "source": [
        "type(dff['foundation'][34])"
      ],
      "metadata": {
        "colab": {
          "base_uri": "https://localhost:8080/"
        },
        "id": "MYsc2EY3ZZaa",
        "outputId": "8b2b8f4f-105d-4da4-9d58-526b5cd8063e"
      },
      "execution_count": 86,
      "outputs": [
        {
          "output_type": "execute_result",
          "data": {
            "text/plain": [
              "str"
            ]
          },
          "metadata": {},
          "execution_count": 86
        }
      ]
    },
    {
      "cell_type": "code",
      "source": [
        "mispell_col = ['foundation','num_fireplaces','appliances','heating','materials','parking','sewer_info'] #columns contain mispell categorical values\n",
        "for i in range(dff.shape[0]):\n",
        "  for col in mispell_col:\n",
        "      dff[col][i] = str(dff[col][i]).lower()\n",
        "      mispell, correct = is_mispell(dff[col][i])\n",
        "      if mispell != \"\":\n",
        "        dff[col][i] = dff[col][i].replace(mispell,correct)"
      ],
      "metadata": {
        "id": "ADkRqnX8nGxA"
      },
      "execution_count": 87,
      "outputs": []
    },
    {
      "cell_type": "code",
      "source": [
        "dff['num_fireplaces'].unique()"
      ],
      "metadata": {
        "colab": {
          "base_uri": "https://localhost:8080/"
        },
        "id": "-8GJBXNAf6ZR",
        "outputId": "3cb1aea0-5d76-45ca-9962-83df06d176c7"
      },
      "execution_count": 88,
      "outputs": [
        {
          "output_type": "execute_result",
          "data": {
            "text/plain": [
              "array(['none', 'pellet stoven', '1.0', 'wood burning stoven', '2.0',\n",
              "       '3.0', '6.0', 'family room', 'living room', 'dencorative',\n",
              "       'dining room', 'other', 'den', 'great room', 'outside',\n",
              "       'see remarks', '5.0', 'fire pit', 'master bedroom', 'gas', 'pati',\n",
              "       'guest hous', 'electric', '8.0', '7.0', '4.0', 'dencorativ',\n",
              "       'rairsed heart', 'bat', 'bonus room', 'librar', 'kitchen', '13.0',\n",
              "       'master retrea', 'wood burning', 'outsiden', 'game room', '9.0',\n",
              "       '10.0', 'other (see remarks)', 'free standing', 'see through',\n",
              "       'marble', 'gas/propane', 'insert', 'brick', 'not applicable',\n",
              "       'three', 'gas starte', 'other/remarks', 'gas starter',\n",
              "       '1 fireplace', '2 or more fireplaces', 'brick fireplace',\n",
              "       'family room/den/great room', '2 or more fireplace',\n",
              "       'stone fireplace', 'family room/den/great roo', 'tile fireplace',\n",
              "       'gas log', 'vented', 'ventles', 'primary bedroom', 'ventless',\n",
              "       'keeping room', 'hearth room', 'wood burnin', 'other logcatio',\n",
              "       '2+ fireplace', 'basement', 'glass door'], dtype=object)"
            ]
          },
          "metadata": {},
          "execution_count": 88
        }
      ]
    },
    {
      "cell_type": "markdown",
      "source": [
        "## 3.2 Convert object features to number"
      ],
      "metadata": {
        "id": "6Llj_GcdM4s0"
      }
    },
    {
      "cell_type": "markdown",
      "source": [
        "While seeing values of feature 'stories', we have found this"
      ],
      "metadata": {
        "id": "ruu-k5kUNHRH"
      }
    },
    {
      "cell_type": "code",
      "source": [
        "dff['stories'].unique()"
      ],
      "metadata": {
        "colab": {
          "base_uri": "https://localhost:8080/"
        },
        "id": "FqEDrMvxNpFJ",
        "outputId": "a57a1913-43d0-4d65-804f-b5701f5e3341"
      },
      "execution_count": 89,
      "outputs": [
        {
          "output_type": "execute_result",
          "data": {
            "text/plain": [
              "array(['none', '2.0', '3.0', '1.0', '5.0', 'Multi/Split', '4.0', 'Two',\n",
              "       'Three Or More,Multi/Split', 'One', 'Three Or More', '6.0', '7.0',\n",
              "       'Other/Remarks', 'One and One Half', 'Split Level',\n",
              "       'Split Level,Tri-Level', 'Tri-Level', 'Single Story', '2 Story',\n",
              "       '2 story + basement', 'Two Story/Basement', 'Three Story',\n",
              "       'One Story Basement', 'Three Story/Basement', 'One Story/F.R.O.G.',\n",
              "       'Two and a Half Story/Basement', 'One and a Half Story/Basement',\n",
              "       'Three or More Stories,Three Or More', 'Three or More Stories',\n",
              "       'Other', 'Bi-Level'], dtype=object)"
            ]
          },
          "metadata": {},
          "execution_count": 89
        }
      ]
    },
    {
      "cell_type": "markdown",
      "source": [
        "We are given different kind of stories that a house can have, but each of these can be performed by a specific number, so that we can understand the size, the architecture of the house, so that we can obtain a better prediction system.\n",
        "So let's convert these values into numbers."
      ],
      "metadata": {
        "id": "uRoe6vUxOIff"
      }
    },
    {
      "cell_type": "code",
      "source": [
        "import random \n",
        "story_dict = {\n",
        "    'none': 0,\n",
        "     'Multi/Split':3.0,\n",
        " 'Two':2.0,\n",
        " 'Three Or More,Multi/Split': 3.5,\n",
        " 'One': 1.0,\n",
        " 'Three Or More':3.5,\n",
        " 'Other/Remarks': random.randint(1, 7),\n",
        " 'One and One Half': 2.5,\n",
        " 'Split Level': 3.0,\n",
        " 'Split Level,Tri-Level':3.0,\n",
        " 'Tri-Level':3.0,\n",
        " 'Single Story':1.0,\n",
        " '2 Story':2.0,\n",
        " 'Two Story/Basement':2.5,\n",
        " 'Three Story':3.0,\n",
        " 'One Story Basement':1.5,\n",
        " 'Three Story/Basement':3.5,\n",
        " 'One Story/F.R.O.G.':1.0,\n",
        " 'Two and a Half Story/Basement':3.0,\n",
        " 'One and a Half Story/Basement':2.0,\n",
        " 'Three or More Stories,Three Or More':3.5,\n",
        " 'Three or More Stories':3.5,\n",
        " 'Other': random.randint(1, 7),\n",
        " 'Bi-Level':2.0,\n",
        " '2 story + basement': 2.5\n",
        "}"
      ],
      "metadata": {
        "id": "nIgf85zrn8Tw"
      },
      "execution_count": 90,
      "outputs": []
    },
    {
      "cell_type": "code",
      "source": [
        "for i in range(dff.shape[0]):\n",
        "    if dff['stories'][i] in story_dict.keys():\n",
        "       dff['stories'][i] = story_dict[dff['stories'][i]]\n",
        "    elif dff['stories'][i] =='none': \n",
        "       dff['stories'][i]=0.0\n",
        "    else:\n",
        "      dff['stories'][i]=float(dff['stories'][i])"
      ],
      "metadata": {
        "id": "bg8UK1nFoVVj"
      },
      "execution_count": 91,
      "outputs": []
    },
    {
      "cell_type": "code",
      "source": [
        "stories_unique = list(dff['stories'].unique())\n",
        "stories_unique"
      ],
      "metadata": {
        "colab": {
          "base_uri": "https://localhost:8080/"
        },
        "id": "3gdTWfAGoZzh",
        "outputId": "87794956-5352-45b6-f062-15ded984c171"
      },
      "execution_count": 92,
      "outputs": [
        {
          "output_type": "execute_result",
          "data": {
            "text/plain": [
              "[0, 2.0, 3.0, 1.0, 5.0, 4.0, 3.5, 6.0, 7.0, 2.5, 1.5]"
            ]
          },
          "metadata": {},
          "execution_count": 92
        }
      ]
    },
    {
      "cell_type": "code",
      "source": [
        "dff['stories'] = dff['stories'].astype('float64')"
      ],
      "metadata": {
        "id": "JonRHbWLDx0o"
      },
      "execution_count": 93,
      "outputs": []
    },
    {
      "cell_type": "code",
      "source": [
        "dff"
      ],
      "metadata": {
        "colab": {
          "base_uri": "https://localhost:8080/",
          "height": 765
        },
        "id": "PUi9m9iPO3xd",
        "outputId": "ad871692-2230-4526-cd81-c3dda44a297f"
      },
      "execution_count": 94,
      "outputs": [
        {
          "output_type": "execute_result",
          "data": {
            "text/plain": [
              "         price          status           type  \\\n",
              "0       274000  House for sale  SINGLE_FAMILY   \n",
              "1       270000  House for sale  SINGLE_FAMILY   \n",
              "2       899000  House for sale  SINGLE_FAMILY   \n",
              "3      1390000  House for sale  SINGLE_FAMILY   \n",
              "4      1390000  House for sale  SINGLE_FAMILY   \n",
              "...        ...             ...            ...   \n",
              "13696  1479000  House for sale  SINGLE_FAMILY   \n",
              "13697   575000  House for sale  SINGLE_FAMILY   \n",
              "13698   609000  House for sale  SINGLE_FAMILY   \n",
              "13699   460000     Coming soon  SINGLE_FAMILY   \n",
              "13700  4300000  House for sale  SINGLE_FAMILY   \n",
              "\n",
              "                           broker_name  has_add_attributions  \\\n",
              "0                           SOWAE CORP                  True   \n",
              "1                           SOWAE CORP                  True   \n",
              "2       Comfort Homes Realty Group Inc                  True   \n",
              "3                   Winzone Realty Inc                  True   \n",
              "4                   Winzone Realty Inc                  True   \n",
              "...                                ...                   ...   \n",
              "13696                          Compass                  True   \n",
              "13697              RE/MAX Gateway, LLC                  True   \n",
              "13698  Long & Foster Real Estate, Inc.                  True   \n",
              "13699                  Northrop Realty                  True   \n",
              "13700             Evergreen Properties                  True   \n",
              "\n",
              "                   city state   latitude  longitude  bathrooms  ...  \\\n",
              "0      South Ozone Park    NY  40.675730 -73.822350          1  ...   \n",
              "1               Jamaica    NY  40.670036 -73.780450          2  ...   \n",
              "2         Staten Island    NY  40.524227 -74.215790          3  ...   \n",
              "3              Flushing    NY  40.721615 -73.820755          4  ...   \n",
              "4              Flushing    NY  40.721615 -73.820755          4  ...   \n",
              "...                 ...   ...        ...        ...        ...  ...   \n",
              "13696         Nashville    TN  36.123120 -86.778210          5  ...   \n",
              "13697         Nashville    TN  36.204834 -86.738660          2  ...   \n",
              "13698         Nashville    TN  36.196106 -86.735115          3  ...   \n",
              "13699         Nashville    TN  36.026558 -86.717710          2  ...   \n",
              "13700         Nashville    TN  36.134396 -86.822710          5  ...   \n",
              "\n",
              "       water_info             appliances      heating             cooling  \\\n",
              "0            none                   none         none                none   \n",
              "1            none              microwave         none                none   \n",
              "2            none             dishwasher    hot water               Units   \n",
              "3            none                  dryer         none                none   \n",
              "4          Public                   none  natural gas        Wall Unit(s)   \n",
              "...           ...                    ...          ...                 ...   \n",
              "13696      Public  electric water heater      central          Central A/   \n",
              "13697      Public             dishwasher   forced air          Central A/   \n",
              "13698      Public       gas water heater    hot water  Ductless/Mini-Spli   \n",
              "13699      Public     built-in microwave   forced air          Central A/   \n",
              "13700      Public       gas water heater    hot water          Central A/   \n",
              "\n",
              "       stories    materials         roof    foundation  interior_features  \\\n",
              "0          0.0         none         none          none               none   \n",
              "1          0.0         none         none          none               none   \n",
              "2          2.0         none         none          none               none   \n",
              "3          0.0         none         none          none               none   \n",
              "4          3.0        frame         none          none      Eat-in Kitche   \n",
              "...        ...          ...          ...           ...                ...   \n",
              "13696      3.0        other         none  brick/mortar               none   \n",
              "13697      3.0        brick         none          slab   Kitchen - Gourme   \n",
              "13698      3.0        brick         none  brick/mortar     Ceiling Fan(s)   \n",
              "13699      3.0  combination      Unknown         other      Ceiling Fan(s   \n",
              "13700      3.0        brick  Flat,Rubber         other               none   \n",
              "\n",
              "        compensation  \n",
              "0               none  \n",
              "1               none  \n",
              "2               none  \n",
              "3               none  \n",
              "4               none  \n",
              "...              ...  \n",
              "13696  % Of Gross2.5  \n",
              "13697    % Of Gross3  \n",
              "13698  % Of Gross2.5  \n",
              "13699  % Of Gross2.5  \n",
              "13700  % Of Gross2.5  \n",
              "\n",
              "[13701 rows x 35 columns]"
            ],
            "text/html": [
              "\n",
              "  <div id=\"df-6ecaccdc-277c-4dd2-9e41-ea489f81b7c4\">\n",
              "    <div class=\"colab-df-container\">\n",
              "      <div>\n",
              "<style scoped>\n",
              "    .dataframe tbody tr th:only-of-type {\n",
              "        vertical-align: middle;\n",
              "    }\n",
              "\n",
              "    .dataframe tbody tr th {\n",
              "        vertical-align: top;\n",
              "    }\n",
              "\n",
              "    .dataframe thead th {\n",
              "        text-align: right;\n",
              "    }\n",
              "</style>\n",
              "<table border=\"1\" class=\"dataframe\">\n",
              "  <thead>\n",
              "    <tr style=\"text-align: right;\">\n",
              "      <th></th>\n",
              "      <th>price</th>\n",
              "      <th>status</th>\n",
              "      <th>type</th>\n",
              "      <th>broker_name</th>\n",
              "      <th>has_add_attributions</th>\n",
              "      <th>city</th>\n",
              "      <th>state</th>\n",
              "      <th>latitude</th>\n",
              "      <th>longitude</th>\n",
              "      <th>bathrooms</th>\n",
              "      <th>...</th>\n",
              "      <th>water_info</th>\n",
              "      <th>appliances</th>\n",
              "      <th>heating</th>\n",
              "      <th>cooling</th>\n",
              "      <th>stories</th>\n",
              "      <th>materials</th>\n",
              "      <th>roof</th>\n",
              "      <th>foundation</th>\n",
              "      <th>interior_features</th>\n",
              "      <th>compensation</th>\n",
              "    </tr>\n",
              "  </thead>\n",
              "  <tbody>\n",
              "    <tr>\n",
              "      <th>0</th>\n",
              "      <td>274000</td>\n",
              "      <td>House for sale</td>\n",
              "      <td>SINGLE_FAMILY</td>\n",
              "      <td>SOWAE CORP</td>\n",
              "      <td>True</td>\n",
              "      <td>South Ozone Park</td>\n",
              "      <td>NY</td>\n",
              "      <td>40.675730</td>\n",
              "      <td>-73.822350</td>\n",
              "      <td>1</td>\n",
              "      <td>...</td>\n",
              "      <td>none</td>\n",
              "      <td>none</td>\n",
              "      <td>none</td>\n",
              "      <td>none</td>\n",
              "      <td>0.0</td>\n",
              "      <td>none</td>\n",
              "      <td>none</td>\n",
              "      <td>none</td>\n",
              "      <td>none</td>\n",
              "      <td>none</td>\n",
              "    </tr>\n",
              "    <tr>\n",
              "      <th>1</th>\n",
              "      <td>270000</td>\n",
              "      <td>House for sale</td>\n",
              "      <td>SINGLE_FAMILY</td>\n",
              "      <td>SOWAE CORP</td>\n",
              "      <td>True</td>\n",
              "      <td>Jamaica</td>\n",
              "      <td>NY</td>\n",
              "      <td>40.670036</td>\n",
              "      <td>-73.780450</td>\n",
              "      <td>2</td>\n",
              "      <td>...</td>\n",
              "      <td>none</td>\n",
              "      <td>microwave</td>\n",
              "      <td>none</td>\n",
              "      <td>none</td>\n",
              "      <td>0.0</td>\n",
              "      <td>none</td>\n",
              "      <td>none</td>\n",
              "      <td>none</td>\n",
              "      <td>none</td>\n",
              "      <td>none</td>\n",
              "    </tr>\n",
              "    <tr>\n",
              "      <th>2</th>\n",
              "      <td>899000</td>\n",
              "      <td>House for sale</td>\n",
              "      <td>SINGLE_FAMILY</td>\n",
              "      <td>Comfort Homes Realty Group Inc</td>\n",
              "      <td>True</td>\n",
              "      <td>Staten Island</td>\n",
              "      <td>NY</td>\n",
              "      <td>40.524227</td>\n",
              "      <td>-74.215790</td>\n",
              "      <td>3</td>\n",
              "      <td>...</td>\n",
              "      <td>none</td>\n",
              "      <td>dishwasher</td>\n",
              "      <td>hot water</td>\n",
              "      <td>Units</td>\n",
              "      <td>2.0</td>\n",
              "      <td>none</td>\n",
              "      <td>none</td>\n",
              "      <td>none</td>\n",
              "      <td>none</td>\n",
              "      <td>none</td>\n",
              "    </tr>\n",
              "    <tr>\n",
              "      <th>3</th>\n",
              "      <td>1390000</td>\n",
              "      <td>House for sale</td>\n",
              "      <td>SINGLE_FAMILY</td>\n",
              "      <td>Winzone Realty Inc</td>\n",
              "      <td>True</td>\n",
              "      <td>Flushing</td>\n",
              "      <td>NY</td>\n",
              "      <td>40.721615</td>\n",
              "      <td>-73.820755</td>\n",
              "      <td>4</td>\n",
              "      <td>...</td>\n",
              "      <td>none</td>\n",
              "      <td>dryer</td>\n",
              "      <td>none</td>\n",
              "      <td>none</td>\n",
              "      <td>0.0</td>\n",
              "      <td>none</td>\n",
              "      <td>none</td>\n",
              "      <td>none</td>\n",
              "      <td>none</td>\n",
              "      <td>none</td>\n",
              "    </tr>\n",
              "    <tr>\n",
              "      <th>4</th>\n",
              "      <td>1390000</td>\n",
              "      <td>House for sale</td>\n",
              "      <td>SINGLE_FAMILY</td>\n",
              "      <td>Winzone Realty Inc</td>\n",
              "      <td>True</td>\n",
              "      <td>Flushing</td>\n",
              "      <td>NY</td>\n",
              "      <td>40.721615</td>\n",
              "      <td>-73.820755</td>\n",
              "      <td>4</td>\n",
              "      <td>...</td>\n",
              "      <td>Public</td>\n",
              "      <td>none</td>\n",
              "      <td>natural gas</td>\n",
              "      <td>Wall Unit(s)</td>\n",
              "      <td>3.0</td>\n",
              "      <td>frame</td>\n",
              "      <td>none</td>\n",
              "      <td>none</td>\n",
              "      <td>Eat-in Kitche</td>\n",
              "      <td>none</td>\n",
              "    </tr>\n",
              "    <tr>\n",
              "      <th>...</th>\n",
              "      <td>...</td>\n",
              "      <td>...</td>\n",
              "      <td>...</td>\n",
              "      <td>...</td>\n",
              "      <td>...</td>\n",
              "      <td>...</td>\n",
              "      <td>...</td>\n",
              "      <td>...</td>\n",
              "      <td>...</td>\n",
              "      <td>...</td>\n",
              "      <td>...</td>\n",
              "      <td>...</td>\n",
              "      <td>...</td>\n",
              "      <td>...</td>\n",
              "      <td>...</td>\n",
              "      <td>...</td>\n",
              "      <td>...</td>\n",
              "      <td>...</td>\n",
              "      <td>...</td>\n",
              "      <td>...</td>\n",
              "      <td>...</td>\n",
              "    </tr>\n",
              "    <tr>\n",
              "      <th>13696</th>\n",
              "      <td>1479000</td>\n",
              "      <td>House for sale</td>\n",
              "      <td>SINGLE_FAMILY</td>\n",
              "      <td>Compass</td>\n",
              "      <td>True</td>\n",
              "      <td>Nashville</td>\n",
              "      <td>TN</td>\n",
              "      <td>36.123120</td>\n",
              "      <td>-86.778210</td>\n",
              "      <td>5</td>\n",
              "      <td>...</td>\n",
              "      <td>Public</td>\n",
              "      <td>electric water heater</td>\n",
              "      <td>central</td>\n",
              "      <td>Central A/</td>\n",
              "      <td>3.0</td>\n",
              "      <td>other</td>\n",
              "      <td>none</td>\n",
              "      <td>brick/mortar</td>\n",
              "      <td>none</td>\n",
              "      <td>% Of Gross2.5</td>\n",
              "    </tr>\n",
              "    <tr>\n",
              "      <th>13697</th>\n",
              "      <td>575000</td>\n",
              "      <td>House for sale</td>\n",
              "      <td>SINGLE_FAMILY</td>\n",
              "      <td>RE/MAX Gateway, LLC</td>\n",
              "      <td>True</td>\n",
              "      <td>Nashville</td>\n",
              "      <td>TN</td>\n",
              "      <td>36.204834</td>\n",
              "      <td>-86.738660</td>\n",
              "      <td>2</td>\n",
              "      <td>...</td>\n",
              "      <td>Public</td>\n",
              "      <td>dishwasher</td>\n",
              "      <td>forced air</td>\n",
              "      <td>Central A/</td>\n",
              "      <td>3.0</td>\n",
              "      <td>brick</td>\n",
              "      <td>none</td>\n",
              "      <td>slab</td>\n",
              "      <td>Kitchen - Gourme</td>\n",
              "      <td>% Of Gross3</td>\n",
              "    </tr>\n",
              "    <tr>\n",
              "      <th>13698</th>\n",
              "      <td>609000</td>\n",
              "      <td>House for sale</td>\n",
              "      <td>SINGLE_FAMILY</td>\n",
              "      <td>Long &amp; Foster Real Estate, Inc.</td>\n",
              "      <td>True</td>\n",
              "      <td>Nashville</td>\n",
              "      <td>TN</td>\n",
              "      <td>36.196106</td>\n",
              "      <td>-86.735115</td>\n",
              "      <td>3</td>\n",
              "      <td>...</td>\n",
              "      <td>Public</td>\n",
              "      <td>gas water heater</td>\n",
              "      <td>hot water</td>\n",
              "      <td>Ductless/Mini-Spli</td>\n",
              "      <td>3.0</td>\n",
              "      <td>brick</td>\n",
              "      <td>none</td>\n",
              "      <td>brick/mortar</td>\n",
              "      <td>Ceiling Fan(s)</td>\n",
              "      <td>% Of Gross2.5</td>\n",
              "    </tr>\n",
              "    <tr>\n",
              "      <th>13699</th>\n",
              "      <td>460000</td>\n",
              "      <td>Coming soon</td>\n",
              "      <td>SINGLE_FAMILY</td>\n",
              "      <td>Northrop Realty</td>\n",
              "      <td>True</td>\n",
              "      <td>Nashville</td>\n",
              "      <td>TN</td>\n",
              "      <td>36.026558</td>\n",
              "      <td>-86.717710</td>\n",
              "      <td>2</td>\n",
              "      <td>...</td>\n",
              "      <td>Public</td>\n",
              "      <td>built-in microwave</td>\n",
              "      <td>forced air</td>\n",
              "      <td>Central A/</td>\n",
              "      <td>3.0</td>\n",
              "      <td>combination</td>\n",
              "      <td>Unknown</td>\n",
              "      <td>other</td>\n",
              "      <td>Ceiling Fan(s</td>\n",
              "      <td>% Of Gross2.5</td>\n",
              "    </tr>\n",
              "    <tr>\n",
              "      <th>13700</th>\n",
              "      <td>4300000</td>\n",
              "      <td>House for sale</td>\n",
              "      <td>SINGLE_FAMILY</td>\n",
              "      <td>Evergreen Properties</td>\n",
              "      <td>True</td>\n",
              "      <td>Nashville</td>\n",
              "      <td>TN</td>\n",
              "      <td>36.134396</td>\n",
              "      <td>-86.822710</td>\n",
              "      <td>5</td>\n",
              "      <td>...</td>\n",
              "      <td>Public</td>\n",
              "      <td>gas water heater</td>\n",
              "      <td>hot water</td>\n",
              "      <td>Central A/</td>\n",
              "      <td>3.0</td>\n",
              "      <td>brick</td>\n",
              "      <td>Flat,Rubber</td>\n",
              "      <td>other</td>\n",
              "      <td>none</td>\n",
              "      <td>% Of Gross2.5</td>\n",
              "    </tr>\n",
              "  </tbody>\n",
              "</table>\n",
              "<p>13701 rows × 35 columns</p>\n",
              "</div>\n",
              "      <button class=\"colab-df-convert\" onclick=\"convertToInteractive('df-6ecaccdc-277c-4dd2-9e41-ea489f81b7c4')\"\n",
              "              title=\"Convert this dataframe to an interactive table.\"\n",
              "              style=\"display:none;\">\n",
              "        \n",
              "  <svg xmlns=\"http://www.w3.org/2000/svg\" height=\"24px\"viewBox=\"0 0 24 24\"\n",
              "       width=\"24px\">\n",
              "    <path d=\"M0 0h24v24H0V0z\" fill=\"none\"/>\n",
              "    <path d=\"M18.56 5.44l.94 2.06.94-2.06 2.06-.94-2.06-.94-.94-2.06-.94 2.06-2.06.94zm-11 1L8.5 8.5l.94-2.06 2.06-.94-2.06-.94L8.5 2.5l-.94 2.06-2.06.94zm10 10l.94 2.06.94-2.06 2.06-.94-2.06-.94-.94-2.06-.94 2.06-2.06.94z\"/><path d=\"M17.41 7.96l-1.37-1.37c-.4-.4-.92-.59-1.43-.59-.52 0-1.04.2-1.43.59L10.3 9.45l-7.72 7.72c-.78.78-.78 2.05 0 2.83L4 21.41c.39.39.9.59 1.41.59.51 0 1.02-.2 1.41-.59l7.78-7.78 2.81-2.81c.8-.78.8-2.07 0-2.86zM5.41 20L4 18.59l7.72-7.72 1.47 1.35L5.41 20z\"/>\n",
              "  </svg>\n",
              "      </button>\n",
              "      \n",
              "  <style>\n",
              "    .colab-df-container {\n",
              "      display:flex;\n",
              "      flex-wrap:wrap;\n",
              "      gap: 12px;\n",
              "    }\n",
              "\n",
              "    .colab-df-convert {\n",
              "      background-color: #E8F0FE;\n",
              "      border: none;\n",
              "      border-radius: 50%;\n",
              "      cursor: pointer;\n",
              "      display: none;\n",
              "      fill: #1967D2;\n",
              "      height: 32px;\n",
              "      padding: 0 0 0 0;\n",
              "      width: 32px;\n",
              "    }\n",
              "\n",
              "    .colab-df-convert:hover {\n",
              "      background-color: #E2EBFA;\n",
              "      box-shadow: 0px 1px 2px rgba(60, 64, 67, 0.3), 0px 1px 3px 1px rgba(60, 64, 67, 0.15);\n",
              "      fill: #174EA6;\n",
              "    }\n",
              "\n",
              "    [theme=dark] .colab-df-convert {\n",
              "      background-color: #3B4455;\n",
              "      fill: #D2E3FC;\n",
              "    }\n",
              "\n",
              "    [theme=dark] .colab-df-convert:hover {\n",
              "      background-color: #434B5C;\n",
              "      box-shadow: 0px 1px 3px 1px rgba(0, 0, 0, 0.15);\n",
              "      filter: drop-shadow(0px 1px 2px rgba(0, 0, 0, 0.3));\n",
              "      fill: #FFFFFF;\n",
              "    }\n",
              "  </style>\n",
              "\n",
              "      <script>\n",
              "        const buttonEl =\n",
              "          document.querySelector('#df-6ecaccdc-277c-4dd2-9e41-ea489f81b7c4 button.colab-df-convert');\n",
              "        buttonEl.style.display =\n",
              "          google.colab.kernel.accessAllowed ? 'block' : 'none';\n",
              "\n",
              "        async function convertToInteractive(key) {\n",
              "          const element = document.querySelector('#df-6ecaccdc-277c-4dd2-9e41-ea489f81b7c4');\n",
              "          const dataTable =\n",
              "            await google.colab.kernel.invokeFunction('convertToInteractive',\n",
              "                                                     [key], {});\n",
              "          if (!dataTable) return;\n",
              "\n",
              "          const docLinkHtml = 'Like what you see? Visit the ' +\n",
              "            '<a target=\"_blank\" href=https://colab.research.google.com/notebooks/data_table.ipynb>data table notebook</a>'\n",
              "            + ' to learn more about interactive tables.';\n",
              "          element.innerHTML = '';\n",
              "          dataTable['output_type'] = 'display_data';\n",
              "          await google.colab.output.renderOutput(dataTable, element);\n",
              "          const docLink = document.createElement('div');\n",
              "          docLink.innerHTML = docLinkHtml;\n",
              "          element.appendChild(docLink);\n",
              "        }\n",
              "      </script>\n",
              "    </div>\n",
              "  </div>\n",
              "  "
            ]
          },
          "metadata": {},
          "execution_count": 94
        }
      ]
    },
    {
      "cell_type": "markdown",
      "source": [
        "## 3.3 Unify the area units"
      ],
      "metadata": {
        "id": "YnZDFqzv7WHW"
      }
    },
    {
      "cell_type": "markdown",
      "source": [
        "While crawling the data, we found that the features 'living area' and 'lot area' are written in two different units: sqrft and acre. So we're gonna convert all of them into sqrft."
      ],
      "metadata": {
        "id": "GTkyO4ZK7kw-"
      }
    },
    {
      "cell_type": "code",
      "source": [
        "plt.scatter(dff['lot_area'],dff['price'])\n",
        "plt.show()"
      ],
      "metadata": {
        "colab": {
          "base_uri": "https://localhost:8080/",
          "height": 276
        },
        "id": "cbZ1BolO8hZN",
        "outputId": "60b7283b-1a40-4665-c2ac-b46da79a330e"
      },
      "execution_count": 95,
      "outputs": [
        {
          "output_type": "display_data",
          "data": {
            "text/plain": [
              "<Figure size 432x288 with 1 Axes>"
            ],
            "image/png": "[encoded data removed]"
          },
          "metadata": {
            "needs_background": "light"
          }
        }
      ]
    },
    {
      "cell_type": "code",
      "source": [
        "for i in range(dff.shape[0]):\n",
        "  if dff['lot_area'][i]<3:\n",
        "    dff['lot_area'][i]=dff['lot_area'][i]*43560"
      ],
      "metadata": {
        "id": "3GIpTdKd9vWZ"
      },
      "execution_count": 96,
      "outputs": []
    },
    {
      "cell_type": "code",
      "source": [
        "plt.scatter(dff['lot_area'],dff['price'])\n",
        "plt.show()"
      ],
      "metadata": {
        "colab": {
          "base_uri": "https://localhost:8080/",
          "height": 276
        },
        "id": "KpnU_mMK-nYn",
        "outputId": "6124d115-77d9-4498-858a-e2ac28aef469"
      },
      "execution_count": 97,
      "outputs": [
        {
          "output_type": "display_data",
          "data": {
            "text/plain": [
              "<Figure size 432x288 with 1 Axes>"
            ],
            "image/png": "[encoded data removed]"
          },
          "metadata": {
            "needs_background": "light"
          }
        }
      ]
    },
    {
      "cell_type": "markdown",
      "source": [
        "## 3.4 Filling missing values"
      ],
      "metadata": {
        "id": "xWoN9jG-iNVC"
      }
    },
    {
      "cell_type": "markdown",
      "source": [
        "Let's see which features have missing values that need to be handled"
      ],
      "metadata": {
        "id": "P2WNNAk6nmdB"
      }
    },
    {
      "cell_type": "code",
      "source": [
        "\n",
        "def missingData(data):\n",
        "    total = data.isnull().sum().sort_values(ascending = False)\n",
        "    percent = (data.isnull().sum()/data.isnull().count()*100).sort_values(ascending = False)\n",
        "    md = pd.concat([total, percent], axis=1, keys=['Total', 'Percent'])\n",
        "    md = md[md[\"Percent\"] > 0]\n",
        "    plt.figure(figsize = (20, 8))\n",
        "    plt.barh(md.index, md[\"Percent\"],color=\"g\",alpha=0.8)\n",
        "    plt.title('Percent missing data by feature', fontsize=15)\n",
        "    return md\n",
        "missingData(dff)"
      ],
      "metadata": {
        "colab": {
          "base_uri": "https://localhost:8080/",
          "height": 690
        },
        "id": "QFasQoZCRiwb",
        "outputId": "8d29c8dd-b06c-4628-a910-ea99701e1a5f"
      },
      "execution_count": 98,
      "outputs": [
        {
          "output_type": "execute_result",
          "data": {
            "text/plain": [
              "                Total    Percent\n",
              "garage_spaces    4925  35.946281\n",
              "covered_spaces   4717  34.428144\n",
              "total_spaces     3496  25.516386\n",
              "full_bathrooms    891   6.503175\n",
              "year_built        144   1.051018"
            ],
            "text/html": [
              "\n",
              "  <div id=\"df-a69093bf-72d0-4fc9-947e-a51f2b3910a1\">\n",
              "    <div class=\"colab-df-container\">\n",
              "      <div>\n",
              "<style scoped>\n",
              "    .dataframe tbody tr th:only-of-type {\n",
              "        vertical-align: middle;\n",
              "    }\n",
              "\n",
              "    .dataframe tbody tr th {\n",
              "        vertical-align: top;\n",
              "    }\n",
              "\n",
              "    .dataframe thead th {\n",
              "        text-align: right;\n",
              "    }\n",
              "</style>\n",
              "<table border=\"1\" class=\"dataframe\">\n",
              "  <thead>\n",
              "    <tr style=\"text-align: right;\">\n",
              "      <th></th>\n",
              "      <th>Total</th>\n",
              "      <th>Percent</th>\n",
              "    </tr>\n",
              "  </thead>\n",
              "  <tbody>\n",
              "    <tr>\n",
              "      <th>garage_spaces</th>\n",
              "      <td>4925</td>\n",
              "      <td>35.946281</td>\n",
              "    </tr>\n",
              "    <tr>\n",
              "      <th>covered_spaces</th>\n",
              "      <td>4717</td>\n",
              "      <td>34.428144</td>\n",
              "    </tr>\n",
              "    <tr>\n",
              "      <th>total_spaces</th>\n",
              "      <td>3496</td>\n",
              "      <td>25.516386</td>\n",
              "    </tr>\n",
              "    <tr>\n",
              "      <th>full_bathrooms</th>\n",
              "      <td>891</td>\n",
              "      <td>6.503175</td>\n",
              "    </tr>\n",
              "    <tr>\n",
              "      <th>year_built</th>\n",
              "      <td>144</td>\n",
              "      <td>1.051018</td>\n",
              "    </tr>\n",
              "  </tbody>\n",
              "</table>\n",
              "</div>\n",
              "      <button class=\"colab-df-convert\" onclick=\"convertToInteractive('df-a69093bf-72d0-4fc9-947e-a51f2b3910a1')\"\n",
              "              title=\"Convert this dataframe to an interactive table.\"\n",
              "              style=\"display:none;\">\n",
              "        \n",
              "  <svg xmlns=\"http://www.w3.org/2000/svg\" height=\"24px\"viewBox=\"0 0 24 24\"\n",
              "       width=\"24px\">\n",
              "    <path d=\"M0 0h24v24H0V0z\" fill=\"none\"/>\n",
              "    <path d=\"M18.56 5.44l.94 2.06.94-2.06 2.06-.94-2.06-.94-.94-2.06-.94 2.06-2.06.94zm-11 1L8.5 8.5l.94-2.06 2.06-.94-2.06-.94L8.5 2.5l-.94 2.06-2.06.94zm10 10l.94 2.06.94-2.06 2.06-.94-2.06-.94-.94-2.06-.94 2.06-2.06.94z\"/><path d=\"M17.41 7.96l-1.37-1.37c-.4-.4-.92-.59-1.43-.59-.52 0-1.04.2-1.43.59L10.3 9.45l-7.72 7.72c-.78.78-.78 2.05 0 2.83L4 21.41c.39.39.9.59 1.41.59.51 0 1.02-.2 1.41-.59l7.78-7.78 2.81-2.81c.8-.78.8-2.07 0-2.86zM5.41 20L4 18.59l7.72-7.72 1.47 1.35L5.41 20z\"/>\n",
              "  </svg>\n",
              "      </button>\n",
              "      \n",
              "  <style>\n",
              "    .colab-df-container {\n",
              "      display:flex;\n",
              "      flex-wrap:wrap;\n",
              "      gap: 12px;\n",
              "    }\n",
              "\n",
              "    .colab-df-convert {\n",
              "      background-color: #E8F0FE;\n",
              "      border: none;\n",
              "      border-radius: 50%;\n",
              "      cursor: pointer;\n",
              "      display: none;\n",
              "      fill: #1967D2;\n",
              "      height: 32px;\n",
              "      padding: 0 0 0 0;\n",
              "      width: 32px;\n",
              "    }\n",
              "\n",
              "    .colab-df-convert:hover {\n",
              "      background-color: #E2EBFA;\n",
              "      box-shadow: 0px 1px 2px rgba(60, 64, 67, 0.3), 0px 1px 3px 1px rgba(60, 64, 67, 0.15);\n",
              "      fill: #174EA6;\n",
              "    }\n",
              "\n",
              "    [theme=dark] .colab-df-convert {\n",
              "      background-color: #3B4455;\n",
              "      fill: #D2E3FC;\n",
              "    }\n",
              "\n",
              "    [theme=dark] .colab-df-convert:hover {\n",
              "      background-color: #434B5C;\n",
              "      box-shadow: 0px 1px 3px 1px rgba(0, 0, 0, 0.15);\n",
              "      filter: drop-shadow(0px 1px 2px rgba(0, 0, 0, 0.3));\n",
              "      fill: #FFFFFF;\n",
              "    }\n",
              "  </style>\n",
              "\n",
              "      <script>\n",
              "        const buttonEl =\n",
              "          document.querySelector('#df-a69093bf-72d0-4fc9-947e-a51f2b3910a1 button.colab-df-convert');\n",
              "        buttonEl.style.display =\n",
              "          google.colab.kernel.accessAllowed ? 'block' : 'none';\n",
              "\n",
              "        async function convertToInteractive(key) {\n",
              "          const element = document.querySelector('#df-a69093bf-72d0-4fc9-947e-a51f2b3910a1');\n",
              "          const dataTable =\n",
              "            await google.colab.kernel.invokeFunction('convertToInteractive',\n",
              "                                                     [key], {});\n",
              "          if (!dataTable) return;\n",
              "\n",
              "          const docLinkHtml = 'Like what you see? Visit the ' +\n",
              "            '<a target=\"_blank\" href=https://colab.research.google.com/notebooks/data_table.ipynb>data table notebook</a>'\n",
              "            + ' to learn more about interactive tables.';\n",
              "          element.innerHTML = '';\n",
              "          dataTable['output_type'] = 'display_data';\n",
              "          await google.colab.output.renderOutput(dataTable, element);\n",
              "          const docLink = document.createElement('div');\n",
              "          docLink.innerHTML = docLinkHtml;\n",
              "          element.appendChild(docLink);\n",
              "        }\n",
              "      </script>\n",
              "    </div>\n",
              "  </div>\n",
              "  "
            ]
          },
          "metadata": {},
          "execution_count": 98
        },
        {
          "output_type": "display_data",
          "data": {
            "text/plain": [
              "<Figure size 1440x576 with 1 Axes>"
            ],
            "image/png": "[encoded data removed]"
          },
          "metadata": {
            "needs_background": "light"
          }
        }
      ]
    },
    {
      "cell_type": "markdown",
      "source": [
        "Since 'year_built' and 'full_bathrooms' have low percentage of missing value (<10%), so we just fill them with their mean value"
      ],
      "metadata": {
        "id": "Yt6yjV11jZpj"
      }
    },
    {
      "cell_type": "code",
      "source": [
        "dff['year_built'].fillna(value=dff['year_built'].mean(), inplace=True)\n",
        "dff['full_bathrooms'].fillna(value=dff['full_bathrooms'].mean(), inplace=True)"
      ],
      "metadata": {
        "id": "EdoFT1tfgWST"
      },
      "execution_count": 99,
      "outputs": []
    },
    {
      "cell_type": "markdown",
      "source": [],
      "metadata": {
        "id": "xzkzgmHO6Hmo"
      }
    },
    {
      "cell_type": "markdown",
      "source": [
        "But with other float-type features, since they have high percentage of missing values (>25%), so for the best promising prediction, we're gonna use KNN to impute the missing value"
      ],
      "metadata": {
        "id": "Rg_O6B-F6H60"
      }
    },
    {
      "cell_type": "code",
      "source": [
        "#fill missing value in float-type columns using KNN\n",
        "from sklearn.impute import KNNImputer\n",
        "imputer = KNNImputer(n_neighbors=100, weights=\"uniform\")\n",
        "dff[['covered_spaces','garage_spaces','total_spaces']]= imputer.fit_transform(dff[['covered_spaces','garage_spaces','total_spaces']])\n",
        "dff = dff.astype({'year_built':'int16', 'full_bathrooms':'int','covered_spaces':'int','garage_spaces':'int','total_spaces':'int'})\n",
        "\n"
      ],
      "metadata": {
        "id": "dXNg7QEwqpOx"
      },
      "execution_count": 100,
      "outputs": []
    },
    {
      "cell_type": "markdown",
      "source": [
        "While looking at the data, we also found that 'living area', 'lot area','bathrooms' and 'bedrooms' cannot take 0 as their values, so we consider it as missing value. "
      ],
      "metadata": {
        "id": "s0i01id4DIZ0"
      }
    },
    {
      "cell_type": "code",
      "source": [
        "#list of columns that contain 0 as missing values\n",
        "col_contains_0=['lot_area', 'living_area','bathrooms','bedrooms','stories']\n",
        "lists = []\n",
        "for i in col_contains_0:\n",
        "  lists.append([i,dff[dff[i]==0][i].count()/dff.shape[0]*100])\n",
        "new_df = pd.DataFrame(lists, columns = ['Feature','Percentage of null'])\n",
        "new_df\n",
        "plt.figure(figsize = (20, 8))\n",
        "plt.barh(new_df['Feature'], new_df[\"Percentage of null\"],color=\"g\",alpha=0.8)\n",
        "plt.title('Percent missing data by feature', fontsize=15)"
      ],
      "metadata": {
        "colab": {
          "base_uri": "https://localhost:8080/",
          "height": 518
        },
        "id": "U63x0SCWthTZ",
        "outputId": "8474b743-f159-4473-a3f5-e4d1c732bc1d"
      },
      "execution_count": 101,
      "outputs": [
        {
          "output_type": "execute_result",
          "data": {
            "text/plain": [
              "Text(0.5, 1.0, 'Percent missing data by feature')"
            ]
          },
          "metadata": {},
          "execution_count": 101
        },
        {
          "output_type": "display_data",
          "data": {
            "text/plain": [
              "<Figure size 1440x576 with 1 Axes>"
            ],
            "image/png": "[encoded data removed]"
          },
          "metadata": {
            "needs_background": "light"
          }
        }
      ]
    },
    {
      "cell_type": "markdown",
      "source": [
        "Since the number of 0s in the feature is not significant (< or around 10%) so we can just fill them with their mean value"
      ],
      "metadata": {
        "id": "QQoEMWwiyqfl"
      }
    },
    {
      "cell_type": "code",
      "source": [
        "#fill them with means\n",
        "for i in range(dff.shape[0]):\n",
        "  for col in col_contains_0[:-1]:\n",
        "    if dff[col][i]==0:\n",
        "      dff[col][i]=dff[col].mean()\n",
        "dff=dff.astype({'bathrooms':'int','bedrooms':'int'})"
      ],
      "metadata": {
        "id": "MMvVYGcUCetH"
      },
      "execution_count": 102,
      "outputs": []
    },
    {
      "cell_type": "code",
      "source": [
        "for i in range(dff.shape[0]):\n",
        "    if dff['stories'][i]==0:\n",
        "        dff['stories'][i]=round(dff['stories'].mean()/0.5)/2\n",
        "dff=dff.astype({'stories':'float'})"
      ],
      "metadata": {
        "id": "bUWoM6Ptd9Yc"
      },
      "execution_count": 103,
      "outputs": []
    },
    {
      "cell_type": "code",
      "source": [
        "dff.info()"
      ],
      "metadata": {
        "colab": {
          "base_uri": "https://localhost:8080/"
        },
        "id": "lu7UjcQ9nvJE",
        "outputId": "f15b9d96-6699-4655-d166-a31cbb4f8dfd"
      },
      "execution_count": 104,
      "outputs": [
        {
          "output_type": "stream",
          "name": "stdout",
          "text": [
            "<class 'pandas.core.frame.DataFrame'>\n",
            "RangeIndex: 13701 entries, 0 to 13700\n",
            "Data columns (total 35 columns):\n",
            " #   Column                Non-Null Count  Dtype  \n",
            "---  ------                --------------  -----  \n",
            " 0   price                 13701 non-null  int64  \n",
            " 1   status                13701 non-null  object \n",
            " 2   type                  13701 non-null  object \n",
            " 3   broker_name           13701 non-null  object \n",
            " 4   has_add_attributions  13701 non-null  bool   \n",
            " 5   city                  13701 non-null  object \n",
            " 6   state                 13701 non-null  object \n",
            " 7   latitude              13701 non-null  float64\n",
            " 8   longitude             13701 non-null  float64\n",
            " 9   bathrooms             13701 non-null  int64  \n",
            " 10  bedrooms              13701 non-null  int64  \n",
            " 11  living_area           13701 non-null  int64  \n",
            " 12  lot_area              13701 non-null  float64\n",
            " 13  tax_assessed_value    13701 non-null  int64  \n",
            " 14  full_bathrooms        13701 non-null  int64  \n",
            " 15  num_fireplaces        13701 non-null  object \n",
            " 16  parking               13701 non-null  object \n",
            " 17  covered_spaces        13701 non-null  int64  \n",
            " 18  garage_spaces         13701 non-null  int64  \n",
            " 19  total_spaces          13701 non-null  int64  \n",
            " 20  lot_features          13701 non-null  object \n",
            " 21  subtype               13701 non-null  object \n",
            " 22  architectural_style   13701 non-null  object \n",
            " 23  year_built            13701 non-null  int16  \n",
            " 24  sewer_info            13701 non-null  object \n",
            " 25  water_info            13701 non-null  object \n",
            " 26  appliances            13701 non-null  object \n",
            " 27  heating               13701 non-null  object \n",
            " 28  cooling               13701 non-null  object \n",
            " 29  stories               13701 non-null  float64\n",
            " 30  materials             13701 non-null  object \n",
            " 31  roof                  13701 non-null  object \n",
            " 32  foundation            13701 non-null  object \n",
            " 33  interior_features     13701 non-null  object \n",
            " 34  compensation          13701 non-null  object \n",
            "dtypes: bool(1), float64(4), int16(1), int64(9), object(20)\n",
            "memory usage: 3.5+ MB\n"
          ]
        }
      ]
    },
    {
      "cell_type": "markdown",
      "source": [
        "##3.5 Remove duplicate records (with same longitude and latitude)"
      ],
      "metadata": {
        "id": "LLTbAD2TADII"
      }
    },
    {
      "cell_type": "code",
      "source": [
        "def del_dup(df):\n",
        "    l = list(df.loc[:, [\"latitude\", \"longitude\"]].duplicated())\n",
        "    store = []\n",
        "    for index in range(len(l)):\n",
        "        if l[index] == True:\n",
        "            store.append(index)\n",
        "    return df.drop(store)"
      ],
      "metadata": {
        "id": "_jDNpnwt22b0"
      },
      "execution_count": 105,
      "outputs": []
    },
    {
      "cell_type": "code",
      "source": [
        "dff = del_dup(dff)"
      ],
      "metadata": {
        "id": "q6l-W0IrAvwU"
      },
      "execution_count": 106,
      "outputs": []
    },
    {
      "cell_type": "markdown",
      "source": [
        "## 3.6 Prepare data for next step"
      ],
      "metadata": {
        "id": "NJWOCi40AXro"
      }
    },
    {
      "cell_type": "code",
      "source": [
        "useless_cols = ['type', 'broker_name','full_bathrooms', 'lot_features',\"architectural_style\", \"compensation\", \"tax_assessed_value\"]"
      ],
      "metadata": {
        "id": "ba31NvW1GUw8"
      },
      "execution_count": 107,
      "outputs": []
    },
    {
      "cell_type": "code",
      "source": [
        "dff.drop(useless_cols, axis =1, inplace=True)"
      ],
      "metadata": {
        "id": "qvM1o9HsFLFG"
      },
      "execution_count": 108,
      "outputs": []
    },
    {
      "cell_type": "code",
      "source": [
        "dff.rename(columns={\n",
        "        'has_add_attributions': 'add_attr', \n",
        "        \"latitude\": \"lat\",\n",
        "        \"longitude\": \"long\",\n",
        "        \"bathrooms\": \"bath\", \n",
        "        \"bedrooms\": \"bed\",\n",
        "        \"living_area\": \"living\",\n",
        "        \"lot_area\": \"lot_a\",\n",
        "        \"num_fireplaces\": \"fireplace\",\n",
        "        \"covered_spaces\": \"covered\",\n",
        "        \"garage_spaces\": \"garage\",\n",
        "        \"year_built\": \"year\",\n",
        "        \"appliances\": \"app\",\n",
        "        'water_info': 'water',\n",
        "        'sewer_info': 'sewer',\n",
        "        \"interior_features\": \"interior\"},\n",
        "    inplace=True)"
      ],
      "metadata": {
        "id": "Uy12qqQ1BVX1"
      },
      "execution_count": 109,
      "outputs": []
    },
    {
      "cell_type": "code",
      "source": [
        "dff.info()"
      ],
      "metadata": {
        "colab": {
          "base_uri": "https://localhost:8080/"
        },
        "id": "1tMCA12Y2INf",
        "outputId": "fedd6817-4169-413d-c7f5-9bd7b2c08d5e"
      },
      "execution_count": 110,
      "outputs": [
        {
          "output_type": "stream",
          "name": "stdout",
          "text": [
            "<class 'pandas.core.frame.DataFrame'>\n",
            "Int64Index: 13510 entries, 0 to 13700\n",
            "Data columns (total 28 columns):\n",
            " #   Column        Non-Null Count  Dtype  \n",
            "---  ------        --------------  -----  \n",
            " 0   price         13510 non-null  int64  \n",
            " 1   status        13510 non-null  object \n",
            " 2   add_attr      13510 non-null  bool   \n",
            " 3   city          13510 non-null  object \n",
            " 4   state         13510 non-null  object \n",
            " 5   lat           13510 non-null  float64\n",
            " 6   long          13510 non-null  float64\n",
            " 7   bath          13510 non-null  int64  \n",
            " 8   bed           13510 non-null  int64  \n",
            " 9   living        13510 non-null  int64  \n",
            " 10  lot_a         13510 non-null  float64\n",
            " 11  fireplace     13510 non-null  object \n",
            " 12  parking       13510 non-null  object \n",
            " 13  covered       13510 non-null  int64  \n",
            " 14  garage        13510 non-null  int64  \n",
            " 15  total_spaces  13510 non-null  int64  \n",
            " 16  subtype       13510 non-null  object \n",
            " 17  year          13510 non-null  int16  \n",
            " 18  sewer         13510 non-null  object \n",
            " 19  water         13510 non-null  object \n",
            " 20  app           13510 non-null  object \n",
            " 21  heating       13510 non-null  object \n",
            " 22  cooling       13510 non-null  object \n",
            " 23  stories       13510 non-null  float64\n",
            " 24  materials     13510 non-null  object \n",
            " 25  roof          13510 non-null  object \n",
            " 26  foundation    13510 non-null  object \n",
            " 27  interior      13510 non-null  object \n",
            "dtypes: bool(1), float64(4), int16(1), int64(7), object(15)\n",
            "memory usage: 2.8+ MB\n"
          ]
        }
      ]
    },
    {
      "cell_type": "code",
      "source": [
        "dff.to_csv(\"/content/gdrive/MyDrive/DS/zillow_preprocessed.csv\", index=False)"
      ],
      "metadata": {
        "id": "MgQxrTiuyGi0"
      },
      "execution_count": null,
      "outputs": []
    }
  ]
}