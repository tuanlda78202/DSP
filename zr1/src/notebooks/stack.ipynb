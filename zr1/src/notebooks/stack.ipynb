{
 "cells": [
  {
   "cell_type": "markdown",
   "metadata": {},
   "source": [
    "###  Stack CatBoost (ensemble x8) predictions and LightGBM (single model) predictions\n",
    "\n",
    "\n",
    "Simply take a linear combination of the two, and tune the weight based on public leaderboard score\n",
    "\n",
    "\n",
    "We could get better performance if we train a meta-model on top of the predictions on a hold-out set"
   ]
  },
  {
   "cell_type": "code",
   "execution_count": 1,
   "metadata": {},
   "outputs": [],
   "source": [
    "import pandas as pd"
   ]
  },
  {
   "cell_type": "code",
   "execution_count": 2,
   "metadata": {},
   "outputs": [
    {
     "name": "stdout",
     "output_type": "stream",
     "text": [
      "Finished Loading the prediction results.\n",
      "   ParcelId   201610   201611   201612   201710   201711   201712\n",
      "0  10754147  0.00580  0.00580  0.00580  0.00428  0.00428  0.00428\n",
      "1  10759547  0.00845  0.00845  0.00845  0.01078  0.01078  0.01078\n",
      "2  10843547  0.01722  0.01722  0.01722  0.01748  0.01748  0.01748\n",
      "3  10859147  0.01165  0.01165  0.01165  0.01254  0.01254  0.01254\n",
      "4  10879947  0.00301  0.00301  0.00301  0.00367  0.00367  0.00367\n"
     ]
    }
   ],
   "source": [
    "lgb_single = pd.read_csv('/Users/charles/Desktop/iFixerup/zr1/submission/final_lgb_single.csv')\n",
    "catboost_x8 = pd.read_csv('/Users/charles/Desktop/iFixerup/zr1/submission/final_catboost_ensemble_x8.csv')\n",
    "print(\"Finished Loading the prediction results.\")\n",
    "\n",
    "weight = 0.7\n",
    "stack = pd.DataFrame()\n",
    "stack['ParcelId'] = lgb_single['ParcelId']\n",
    "for col in ['201610', '201611', '201612', '201710', '201711', '201712']:\n",
    "    stack[col] = weight * catboost_x8[col] + (1 - weight) * lgb_single[col]\n",
    "\n",
    "print(stack.head())\n",
    "stack.to_csv('/Users/charles/Desktop/iFixerup/zr1/submission/final_stack.csv', index=False)"
   ]
  }
 ],
 "metadata": {
  "kernelspec": {
   "display_name": "Python 3.8.8 ('base')",
   "language": "python",
   "name": "python3"
  },
  "language_info": {
   "codemirror_mode": {
    "name": "ipython",
    "version": 3
   },
   "file_extension": ".py",
   "mimetype": "text/x-python",
   "name": "python",
   "nbconvert_exporter": "python",
   "pygments_lexer": "ipython3",
   "version": "3.8.8"
  },
  "orig_nbformat": 4,
  "vscode": {
   "interpreter": {
    "hash": "618af10fdd433c84be79e5d9cef7a85d74ad68be7e2e9dd9461a47b527f16862"
   }
  }
 },
 "nbformat": 4,
 "nbformat_minor": 2
}
